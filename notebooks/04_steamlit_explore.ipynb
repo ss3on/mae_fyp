{
 "cells": [
  {
   "cell_type": "code",
   "id": "initial_id",
   "metadata": {
    "collapsed": true,
    "ExecuteTime": {
     "end_time": "2025-08-25T06:04:33.819449Z",
     "start_time": "2025-08-25T06:04:32.732123Z"
    }
   },
   "source": [
    "import streamlit as st\n",
    "import polars as pl\n",
    "from pathlib import Path\n",
    "from matplotlib import pyplot as plt"
   ],
   "outputs": [],
   "execution_count": 2
  }
 ],
 "metadata": {
  "kernelspec": {
   "display_name": "Python 3",
   "language": "python",
   "name": "python3"
  },
  "language_info": {
   "codemirror_mode": {
    "name": "ipython",
    "version": 2
   },
   "file_extension": ".py",
   "mimetype": "text/x-python",
   "name": "python",
   "nbconvert_exporter": "python",
   "pygments_lexer": "ipython2",
   "version": "2.7.6"
  }
 },
 "nbformat": 4,
 "nbformat_minor": 5
}
