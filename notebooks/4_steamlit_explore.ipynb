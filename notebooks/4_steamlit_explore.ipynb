{
 "cells": [
  {
   "cell_type": "code",
   "id": "initial_id",
   "metadata": {
    "collapsed": true,
    "ExecuteTime": {
     "end_time": "2025-08-25T06:09:56.463463Z",
     "start_time": "2025-08-25T06:09:56.438980Z"
    }
   },
   "source": [
    "import streamlit as st\n",
    "import polars as pl\n",
    "from pathlib import Path\n",
    "from matplotlib import pyplot as plt\n",
    "from src.file_handling import file_location\n",
    "\n",
    "folder_path = file_location.FileLocation()\n",
    "root_path = folder_path.root\n",
    "data_path = root_path.parent.parent / 'fyp' / 'data'\n",
    "\n",
    "asme_path = file_location.FolderPathOfASME(data_path)\n",
    "jmd_bare_paper_infor_path = asme_path.asme_jmd_pdf / 'jmd_papers_bare_infor.parquet'"
   ],
   "outputs": [],
   "execution_count": 3
  },
  {
   "metadata": {
    "ExecuteTime": {
     "end_time": "2025-08-25T06:10:24.577768Z",
     "start_time": "2025-08-25T06:10:24.506696Z"
    }
   },
   "cell_type": "code",
   "source": [
    "jmd_bare_paper_infor_df = pl.read_parquet(jmd_bare_paper_infor_path)\n",
    "jmd_bare_paper_infor_df"
   ],
   "id": "16a9223f7204ffe8",
   "outputs": [
    {
     "data": {
      "text/plain": [
       "shape: (6_166, 13)\n",
       "┌──────┬────────┬───────┬──────────────┬───┬─────────────┬─────────────┬─────────────┬─────────────┐\n",
       "│ year ┆ volume ┆ issue ┆ title        ┆ … ┆ topics      ┆ doi_filenam ┆ pdf_url_rem ┆ article_url │\n",
       "│ ---  ┆ ---    ┆ ---   ┆ ---          ┆   ┆ ---         ┆ e           ┆ otexs       ┆ _remotexs   │\n",
       "│ str  ┆ str    ┆ str   ┆ str          ┆   ┆ str         ┆ ---         ┆ ---         ┆ ---         │\n",
       "│      ┆        ┆       ┆              ┆   ┆             ┆ str         ┆ str         ┆ str         │\n",
       "╞══════╪════════╪═══════╪══════════════╪═══╪═════════════╪═════════════╪═════════════╪═════════════╡\n",
       "│ 1978 ┆ 100    ┆ 1     ┆ Editorial    ┆ … ┆             ┆ doi_10.1115 ┆ https://asm ┆ https://asm │\n",
       "│      ┆        ┆       ┆              ┆   ┆             ┆ _1.3453887  ┆ edigitalcol ┆ edigitalcol │\n",
       "│      ┆        ┆       ┆              ┆   ┆             ┆             ┆ lection.…   ┆ lection.…   │\n",
       "│ 1978 ┆ 100    ┆ 1     ┆ Fatigue Life ┆ … ┆ Fatigue lif ┆ doi_10.1115 ┆ https://asm ┆ https://asm │\n",
       "│      ┆        ┆       ┆ Prediction   ┆   ┆ e;Fatigue;F ┆ _1.3453889  ┆ edigitalcol ┆ edigitalcol │\n",
       "│      ┆        ┆       ┆ of Com…      ┆   ┆ atigue a…   ┆             ┆ lection.…   ┆ lection.…   │\n",
       "│ 1978 ┆ 100    ┆ 1     ┆ Dynamic      ┆ … ┆ Design;High ┆ doi_10.1115 ┆ https://asm ┆ https://asm │\n",
       "│      ┆        ┆       ┆ Severity     ┆   ┆ cycle fatig ┆ _1.3453874  ┆ edigitalcol ┆ edigitalcol │\n",
       "│      ┆        ┆       ┆ Criterion    ┆   ┆ ue;Stre…    ┆             ┆ lection.…   ┆ lection.…   │\n",
       "│      ┆        ┆       ┆ for…         ┆   ┆             ┆             ┆             ┆             │\n",
       "│ 1978 ┆ 100    ┆ 1     ┆ Wear-Related ┆ … ┆ Wear;Nitrid ┆ doi_10.1115 ┆ https://asm ┆ https://asm │\n",
       "│      ┆        ┆       ┆ Topography   ┆   ┆ ing;Composi ┆ _1.3453882  ┆ edigitalcol ┆ edigitalcol │\n",
       "│      ┆        ┆       ┆ of Ion…      ┆   ┆ te mater…   ┆             ┆ lection.…   ┆ lection.…   │\n",
       "│ 1978 ┆ 100    ┆ 1     ┆ Simulation   ┆ … ┆ Gears;Reson ┆ doi_10.1115 ┆ https://asm ┆ https://asm │\n",
       "│      ┆        ┆       ┆ of           ┆   ┆ ance;Simula ┆ _1.3453888  ┆ edigitalcol ┆ edigitalcol │\n",
       "│      ┆        ┆       ┆ Resonances   ┆   ┆ tion;Com…   ┆             ┆ lection.…   ┆ lection.…   │\n",
       "│      ┆        ┆       ┆ and I…       ┆   ┆             ┆             ┆             ┆             │\n",
       "│ …    ┆ …      ┆ …     ┆ …            ┆ … ┆ …           ┆ …           ┆ …           ┆ …           │\n",
       "│ 2026 ┆ 148    ┆ 3     ┆ Product      ┆ … ┆ Design;Slee ┆ doi_10.1115 ┆ https://asm ┆ https://asm │\n",
       "│      ┆        ┆       ┆ Dataset      ┆   ┆ p           ┆ _1.4068755  ┆ edigitalcol ┆ edigitalcol │\n",
       "│      ┆        ┆       ┆ Platform:    ┆   ┆             ┆             ┆ lection.…   ┆ lection.…   │\n",
       "│      ┆        ┆       ┆ Syst…        ┆   ┆             ┆             ┆             ┆             │\n",
       "│ 2026 ┆ 148    ┆ 3     ┆ Concept      ┆ … ┆ Chain;Desig ┆ doi_10.1115 ┆ https://asm ┆ https://asm │\n",
       "│      ┆        ┆       ┆ Chaining     ┆   ┆ n           ┆ _1.4068983  ┆ edigitalcol ┆ edigitalcol │\n",
       "│      ┆        ┆       ┆ Patterns     ┆   ┆             ┆             ┆ lection.…   ┆ lection.…   │\n",
       "│      ┆        ┆       ┆ Duri…        ┆   ┆             ┆             ┆             ┆             │\n",
       "│ 2026 ┆ 148    ┆ 3     ┆ A Quasi-Opti ┆ … ┆ Constructio ┆ doi_10.1115 ┆ https://asm ┆ https://asm │\n",
       "│      ┆        ┆       ┆ mal Shape    ┆   ┆ n;Cutting;O ┆ _1.4068955  ┆ edigitalcol ┆ edigitalcol │\n",
       "│      ┆        ┆       ┆ Design M…    ┆   ┆ ptimizat…   ┆             ┆ lection.…   ┆ lection.…   │\n",
       "│ 2026 ┆ 148    ┆ 3     ┆ Gradient-Bas ┆ … ┆ Design;Opti ┆ doi_10.1115 ┆ https://asm ┆ https://asm │\n",
       "│      ┆        ┆       ┆ ed           ┆   ┆ mization;Pa ┆ _1.4068793  ┆ edigitalcol ┆ edigitalcol │\n",
       "│      ┆        ┆       ┆ Optimization ┆   ┆ cking (S…   ┆             ┆ lection.…   ┆ lection.…   │\n",
       "│      ┆        ┆       ┆ of…          ┆   ┆             ┆             ┆             ┆             │\n",
       "│ 2026 ┆ 148    ┆ 3     ┆ Exploring    ┆ … ┆ Design;Stud ┆ doi_10.1115 ┆ https://asm ┆ https://asm │\n",
       "│      ┆        ┆       ┆ the          ┆   ┆ ents        ┆ _1.4069040  ┆ edigitalcol ┆ edigitalcol │\n",
       "│      ┆        ┆       ┆ Influence of ┆   ┆             ┆             ┆ lection.…   ┆ lection.…   │\n",
       "│      ┆        ┆       ┆ Ref…         ┆   ┆             ┆             ┆             ┆             │\n",
       "└──────┴────────┴───────┴──────────────┴───┴─────────────┴─────────────┴─────────────┴─────────────┘"
      ],
      "text/html": [
       "<div><style>\n",
       ".dataframe > thead > tr,\n",
       ".dataframe > tbody > tr {\n",
       "  text-align: right;\n",
       "  white-space: pre-wrap;\n",
       "}\n",
       "</style>\n",
       "<small>shape: (6_166, 13)</small><table border=\"1\" class=\"dataframe\"><thead><tr><th>year</th><th>volume</th><th>issue</th><th>title</th><th>authors</th><th>doi</th><th>month</th><th>article_url</th><th>pdf_url</th><th>topics</th><th>doi_filename</th><th>pdf_url_remotexs</th><th>article_url_remotexs</th></tr><tr><td>str</td><td>str</td><td>str</td><td>str</td><td>str</td><td>str</td><td>str</td><td>str</td><td>str</td><td>str</td><td>str</td><td>str</td><td>str</td></tr></thead><tbody><tr><td>&quot;1978&quot;</td><td>&quot;100&quot;</td><td>&quot;1&quot;</td><td>&quot;Editorial&quot;</td><td>&quot;Charles W. McLarnan&quot;</td><td>&quot;https://doi.org/10.1115/1.3453…</td><td>&quot;January&quot;</td><td>&quot;https://asmedigitalcollection.…</td><td>&quot;https://asmedigitalcollection.…</td><td>&quot;&quot;</td><td>&quot;doi_10.1115_1.3453887&quot;</td><td>&quot;https://asmedigitalcollection.…</td><td>&quot;https://asmedigitalcollection.…</td></tr><tr><td>&quot;1978&quot;</td><td>&quot;100&quot;</td><td>&quot;1&quot;</td><td>&quot;Fatigue Life Prediction of Com…</td><td>&quot;B. N. Leis&quot;</td><td>&quot;https://doi.org/10.1115/1.3453…</td><td>&quot;January&quot;</td><td>&quot;https://asmedigitalcollection.…</td><td>&quot;https://asmedigitalcollection.…</td><td>&quot;Fatigue life;Fatigue;Fatigue a…</td><td>&quot;doi_10.1115_1.3453889&quot;</td><td>&quot;https://asmedigitalcollection.…</td><td>&quot;https://asmedigitalcollection.…</td></tr><tr><td>&quot;1978&quot;</td><td>&quot;100&quot;</td><td>&quot;1&quot;</td><td>&quot;Dynamic Severity Criterion for…</td><td>&quot;G. S. A. Shawki&quot;</td><td>&quot;https://doi.org/10.1115/1.3453…</td><td>&quot;January&quot;</td><td>&quot;https://asmedigitalcollection.…</td><td>&quot;https://asmedigitalcollection.…</td><td>&quot;Design;High cycle fatigue;Stre…</td><td>&quot;doi_10.1115_1.3453874&quot;</td><td>&quot;https://asmedigitalcollection.…</td><td>&quot;https://asmedigitalcollection.…</td></tr><tr><td>&quot;1978&quot;</td><td>&quot;100&quot;</td><td>&quot;1&quot;</td><td>&quot;Wear-Related Topography of Ion…</td><td>&quot;D. J. Sturges;S. W. Martin;C. …</td><td>&quot;https://doi.org/10.1115/1.3453…</td><td>&quot;January&quot;</td><td>&quot;https://asmedigitalcollection.…</td><td>&quot;https://asmedigitalcollection.…</td><td>&quot;Wear;Nitriding;Composite mater…</td><td>&quot;doi_10.1115_1.3453882&quot;</td><td>&quot;https://asmedigitalcollection.…</td><td>&quot;https://asmedigitalcollection.…</td></tr><tr><td>&quot;1978&quot;</td><td>&quot;100&quot;</td><td>&quot;1&quot;</td><td>&quot;Simulation of Resonances and I…</td><td>&quot;M. Benton;A. Seireg&quot;</td><td>&quot;https://doi.org/10.1115/1.3453…</td><td>&quot;January&quot;</td><td>&quot;https://asmedigitalcollection.…</td><td>&quot;https://asmedigitalcollection.…</td><td>&quot;Gears;Resonance;Simulation;Com…</td><td>&quot;doi_10.1115_1.3453888&quot;</td><td>&quot;https://asmedigitalcollection.…</td><td>&quot;https://asmedigitalcollection.…</td></tr><tr><td>&hellip;</td><td>&hellip;</td><td>&hellip;</td><td>&hellip;</td><td>&hellip;</td><td>&hellip;</td><td>&hellip;</td><td>&hellip;</td><td>&hellip;</td><td>&hellip;</td><td>&hellip;</td><td>&hellip;</td><td>&hellip;</td></tr><tr><td>&quot;2026&quot;</td><td>&quot;148&quot;</td><td>&quot;3&quot;</td><td>&quot;Product Dataset Platform: Syst…</td><td>&quot;Mohammad Arjomandi Rad;Julian …</td><td>&quot;https://doi.org/10.1115/1.4068…</td><td>&quot;March&quot;</td><td>&quot;https://asmedigitalcollection.…</td><td>&quot;https://asmedigitalcollection.…</td><td>&quot;Design;Sleep&quot;</td><td>&quot;doi_10.1115_1.4068755&quot;</td><td>&quot;https://asmedigitalcollection.…</td><td>&quot;https://asmedigitalcollection.…</td></tr><tr><td>&quot;2026&quot;</td><td>&quot;148&quot;</td><td>&quot;3&quot;</td><td>&quot;Concept Chaining Patterns Duri…</td><td>&quot;Madhurima Das;Jessica Meza;Chr…</td><td>&quot;https://doi.org/10.1115/1.4068…</td><td>&quot;March&quot;</td><td>&quot;https://asmedigitalcollection.…</td><td>&quot;https://asmedigitalcollection.…</td><td>&quot;Chain;Design&quot;</td><td>&quot;doi_10.1115_1.4068983&quot;</td><td>&quot;https://asmedigitalcollection.…</td><td>&quot;https://asmedigitalcollection.…</td></tr><tr><td>&quot;2026&quot;</td><td>&quot;148&quot;</td><td>&quot;3&quot;</td><td>&quot;A Quasi-Optimal Shape Design M…</td><td>&quot;Sifan Chen;Guoyue Luo;Yuan Kon…</td><td>&quot;https://doi.org/10.1115/1.4068…</td><td>&quot;March&quot;</td><td>&quot;https://asmedigitalcollection.…</td><td>&quot;https://asmedigitalcollection.…</td><td>&quot;Construction;Cutting;Optimizat…</td><td>&quot;doi_10.1115_1.4068955&quot;</td><td>&quot;https://asmedigitalcollection.…</td><td>&quot;https://asmedigitalcollection.…</td></tr><tr><td>&quot;2026&quot;</td><td>&quot;148&quot;</td><td>&quot;3&quot;</td><td>&quot;Gradient-Based Optimization of…</td><td>&quot;Daniel Krsikapa;Il Yong Kim&quot;</td><td>&quot;https://doi.org/10.1115/1.4068…</td><td>&quot;March&quot;</td><td>&quot;https://asmedigitalcollection.…</td><td>&quot;https://asmedigitalcollection.…</td><td>&quot;Design;Optimization;Packing (S…</td><td>&quot;doi_10.1115_1.4068793&quot;</td><td>&quot;https://asmedigitalcollection.…</td><td>&quot;https://asmedigitalcollection.…</td></tr><tr><td>&quot;2026&quot;</td><td>&quot;148&quot;</td><td>&quot;3&quot;</td><td>&quot;Exploring the Influence of Ref…</td><td>&quot;Seth Pearl;Nicholas A. Meisel&quot;</td><td>&quot;https://doi.org/10.1115/1.4069…</td><td>&quot;March&quot;</td><td>&quot;https://asmedigitalcollection.…</td><td>&quot;https://asmedigitalcollection.…</td><td>&quot;Design;Students&quot;</td><td>&quot;doi_10.1115_1.4069040&quot;</td><td>&quot;https://asmedigitalcollection.…</td><td>&quot;https://asmedigitalcollection.…</td></tr></tbody></table></div>"
      ]
     },
     "execution_count": 4,
     "metadata": {},
     "output_type": "execute_result"
    }
   ],
   "execution_count": 4
  },
  {
   "metadata": {
    "ExecuteTime": {
     "end_time": "2025-08-25T06:12:13.298457Z",
     "start_time": "2025-08-25T06:12:13.282042Z"
    }
   },
   "cell_type": "code",
   "source": "st hello",
   "id": "35aa8be15aa0cf4e",
   "outputs": [
    {
     "ename": "SyntaxError",
     "evalue": "invalid syntax (1524888074.py, line 1)",
     "output_type": "error",
     "traceback": [
      "  \u001B[36mCell\u001B[39m\u001B[36m \u001B[39m\u001B[32mIn[5]\u001B[39m\u001B[32m, line 1\u001B[39m\n\u001B[31m    \u001B[39m\u001B[31mst hello\u001B[39m\n       ^\n\u001B[31mSyntaxError\u001B[39m\u001B[31m:\u001B[39m invalid syntax\n"
     ]
    }
   ],
   "execution_count": 5
  }
 ],
 "metadata": {
  "kernelspec": {
   "display_name": "Python 3",
   "language": "python",
   "name": "python3"
  },
  "language_info": {
   "codemirror_mode": {
    "name": "ipython",
    "version": 2
   },
   "file_extension": ".py",
   "mimetype": "text/x-python",
   "name": "python",
   "nbconvert_exporter": "python",
   "pygments_lexer": "ipython2",
   "version": "2.7.6"
  }
 },
 "nbformat": 4,
 "nbformat_minor": 5
}
