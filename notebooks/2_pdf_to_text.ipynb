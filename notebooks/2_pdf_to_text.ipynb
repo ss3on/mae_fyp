{
 "cells": [
  {
   "cell_type": "code",
   "id": "initial_id",
   "metadata": {
    "collapsed": true,
    "ExecuteTime": {
     "end_time": "2025-08-25T04:37:47.526753Z",
     "start_time": "2025-08-25T04:37:47.370696Z"
    }
   },
   "source": [
    "import polars as pl\n",
    "from pathlib import Path\n",
    "from src.file_handling import file_location\n",
    "\n",
    "folder_path = file_location.FileLocation()\n",
    "root_path = folder_path.root\n",
    "data_path = root_path.parent.parent / 'fyp' / 'data'\n",
    "\n",
    "asme_path = file_location.FolderPathOfASME(data_path)\n",
    "jmd_bare_paper_infor_path = asme_path.asme_jmd_pdf / 'jmd_papers_bare_infor.parquet'\n",
    "\n",
    "cluster_url_by_issue_df = pl.read_parquet(jmd_bare_paper_infor_path)\n",
    "\n",
    "cluster_url_by_issue_df"
   ],
   "outputs": [
    {
     "data": {
      "text/plain": [
       "shape: (6_166, 13)\n",
       "┌──────┬────────┬───────┬──────────────┬───┬─────────────┬─────────────┬─────────────┬─────────────┐\n",
       "│ year ┆ volume ┆ issue ┆ title        ┆ … ┆ topics      ┆ doi_filenam ┆ pdf_url_rem ┆ article_url │\n",
       "│ ---  ┆ ---    ┆ ---   ┆ ---          ┆   ┆ ---         ┆ e           ┆ otexs       ┆ _remotexs   │\n",
       "│ str  ┆ str    ┆ str   ┆ str          ┆   ┆ str         ┆ ---         ┆ ---         ┆ ---         │\n",
       "│      ┆        ┆       ┆              ┆   ┆             ┆ str         ┆ str         ┆ str         │\n",
       "╞══════╪════════╪═══════╪══════════════╪═══╪═════════════╪═════════════╪═════════════╪═════════════╡\n",
       "│ 1978 ┆ 100    ┆ 1     ┆ Editorial    ┆ … ┆             ┆ doi_10.1115 ┆ https://asm ┆ https://asm │\n",
       "│      ┆        ┆       ┆              ┆   ┆             ┆ _1.3453887  ┆ edigitalcol ┆ edigitalcol │\n",
       "│      ┆        ┆       ┆              ┆   ┆             ┆             ┆ lection.…   ┆ lection.…   │\n",
       "│ 1978 ┆ 100    ┆ 1     ┆ Fatigue Life ┆ … ┆ Fatigue lif ┆ doi_10.1115 ┆ https://asm ┆ https://asm │\n",
       "│      ┆        ┆       ┆ Prediction   ┆   ┆ e;Fatigue;F ┆ _1.3453889  ┆ edigitalcol ┆ edigitalcol │\n",
       "│      ┆        ┆       ┆ of Com…      ┆   ┆ atigue a…   ┆             ┆ lection.…   ┆ lection.…   │\n",
       "│ 1978 ┆ 100    ┆ 1     ┆ Dynamic      ┆ … ┆ Design;High ┆ doi_10.1115 ┆ https://asm ┆ https://asm │\n",
       "│      ┆        ┆       ┆ Severity     ┆   ┆ cycle fatig ┆ _1.3453874  ┆ edigitalcol ┆ edigitalcol │\n",
       "│      ┆        ┆       ┆ Criterion    ┆   ┆ ue;Stre…    ┆             ┆ lection.…   ┆ lection.…   │\n",
       "│      ┆        ┆       ┆ for…         ┆   ┆             ┆             ┆             ┆             │\n",
       "│ 1978 ┆ 100    ┆ 1     ┆ Wear-Related ┆ … ┆ Wear;Nitrid ┆ doi_10.1115 ┆ https://asm ┆ https://asm │\n",
       "│      ┆        ┆       ┆ Topography   ┆   ┆ ing;Composi ┆ _1.3453882  ┆ edigitalcol ┆ edigitalcol │\n",
       "│      ┆        ┆       ┆ of Ion…      ┆   ┆ te mater…   ┆             ┆ lection.…   ┆ lection.…   │\n",
       "│ 1978 ┆ 100    ┆ 1     ┆ Simulation   ┆ … ┆ Gears;Reson ┆ doi_10.1115 ┆ https://asm ┆ https://asm │\n",
       "│      ┆        ┆       ┆ of           ┆   ┆ ance;Simula ┆ _1.3453888  ┆ edigitalcol ┆ edigitalcol │\n",
       "│      ┆        ┆       ┆ Resonances   ┆   ┆ tion;Com…   ┆             ┆ lection.…   ┆ lection.…   │\n",
       "│      ┆        ┆       ┆ and I…       ┆   ┆             ┆             ┆             ┆             │\n",
       "│ …    ┆ …      ┆ …     ┆ …            ┆ … ┆ …           ┆ …           ┆ …           ┆ …           │\n",
       "│ 2026 ┆ 148    ┆ 3     ┆ Product      ┆ … ┆ Design;Slee ┆ doi_10.1115 ┆ https://asm ┆ https://asm │\n",
       "│      ┆        ┆       ┆ Dataset      ┆   ┆ p           ┆ _1.4068755  ┆ edigitalcol ┆ edigitalcol │\n",
       "│      ┆        ┆       ┆ Platform:    ┆   ┆             ┆             ┆ lection.…   ┆ lection.…   │\n",
       "│      ┆        ┆       ┆ Syst…        ┆   ┆             ┆             ┆             ┆             │\n",
       "│ 2026 ┆ 148    ┆ 3     ┆ Concept      ┆ … ┆ Chain;Desig ┆ doi_10.1115 ┆ https://asm ┆ https://asm │\n",
       "│      ┆        ┆       ┆ Chaining     ┆   ┆ n           ┆ _1.4068983  ┆ edigitalcol ┆ edigitalcol │\n",
       "│      ┆        ┆       ┆ Patterns     ┆   ┆             ┆             ┆ lection.…   ┆ lection.…   │\n",
       "│      ┆        ┆       ┆ Duri…        ┆   ┆             ┆             ┆             ┆             │\n",
       "│ 2026 ┆ 148    ┆ 3     ┆ A Quasi-Opti ┆ … ┆ Constructio ┆ doi_10.1115 ┆ https://asm ┆ https://asm │\n",
       "│      ┆        ┆       ┆ mal Shape    ┆   ┆ n;Cutting;O ┆ _1.4068955  ┆ edigitalcol ┆ edigitalcol │\n",
       "│      ┆        ┆       ┆ Design M…    ┆   ┆ ptimizat…   ┆             ┆ lection.…   ┆ lection.…   │\n",
       "│ 2026 ┆ 148    ┆ 3     ┆ Gradient-Bas ┆ … ┆ Design;Opti ┆ doi_10.1115 ┆ https://asm ┆ https://asm │\n",
       "│      ┆        ┆       ┆ ed           ┆   ┆ mization;Pa ┆ _1.4068793  ┆ edigitalcol ┆ edigitalcol │\n",
       "│      ┆        ┆       ┆ Optimization ┆   ┆ cking (S…   ┆             ┆ lection.…   ┆ lection.…   │\n",
       "│      ┆        ┆       ┆ of…          ┆   ┆             ┆             ┆             ┆             │\n",
       "│ 2026 ┆ 148    ┆ 3     ┆ Exploring    ┆ … ┆ Design;Stud ┆ doi_10.1115 ┆ https://asm ┆ https://asm │\n",
       "│      ┆        ┆       ┆ the          ┆   ┆ ents        ┆ _1.4069040  ┆ edigitalcol ┆ edigitalcol │\n",
       "│      ┆        ┆       ┆ Influence of ┆   ┆             ┆             ┆ lection.…   ┆ lection.…   │\n",
       "│      ┆        ┆       ┆ Ref…         ┆   ┆             ┆             ┆             ┆             │\n",
       "└──────┴────────┴───────┴──────────────┴───┴─────────────┴─────────────┴─────────────┴─────────────┘"
      ],
      "text/html": [
       "<div><style>\n",
       ".dataframe > thead > tr,\n",
       ".dataframe > tbody > tr {\n",
       "  text-align: right;\n",
       "  white-space: pre-wrap;\n",
       "}\n",
       "</style>\n",
       "<small>shape: (6_166, 13)</small><table border=\"1\" class=\"dataframe\"><thead><tr><th>year</th><th>volume</th><th>issue</th><th>title</th><th>authors</th><th>doi</th><th>month</th><th>article_url</th><th>pdf_url</th><th>topics</th><th>doi_filename</th><th>pdf_url_remotexs</th><th>article_url_remotexs</th></tr><tr><td>str</td><td>str</td><td>str</td><td>str</td><td>str</td><td>str</td><td>str</td><td>str</td><td>str</td><td>str</td><td>str</td><td>str</td><td>str</td></tr></thead><tbody><tr><td>&quot;1978&quot;</td><td>&quot;100&quot;</td><td>&quot;1&quot;</td><td>&quot;Editorial&quot;</td><td>&quot;Charles W. McLarnan&quot;</td><td>&quot;https://doi.org/10.1115/1.3453…</td><td>&quot;January&quot;</td><td>&quot;https://asmedigitalcollection.…</td><td>&quot;https://asmedigitalcollection.…</td><td>&quot;&quot;</td><td>&quot;doi_10.1115_1.3453887&quot;</td><td>&quot;https://asmedigitalcollection.…</td><td>&quot;https://asmedigitalcollection.…</td></tr><tr><td>&quot;1978&quot;</td><td>&quot;100&quot;</td><td>&quot;1&quot;</td><td>&quot;Fatigue Life Prediction of Com…</td><td>&quot;B. N. Leis&quot;</td><td>&quot;https://doi.org/10.1115/1.3453…</td><td>&quot;January&quot;</td><td>&quot;https://asmedigitalcollection.…</td><td>&quot;https://asmedigitalcollection.…</td><td>&quot;Fatigue life;Fatigue;Fatigue a…</td><td>&quot;doi_10.1115_1.3453889&quot;</td><td>&quot;https://asmedigitalcollection.…</td><td>&quot;https://asmedigitalcollection.…</td></tr><tr><td>&quot;1978&quot;</td><td>&quot;100&quot;</td><td>&quot;1&quot;</td><td>&quot;Dynamic Severity Criterion for…</td><td>&quot;G. S. A. Shawki&quot;</td><td>&quot;https://doi.org/10.1115/1.3453…</td><td>&quot;January&quot;</td><td>&quot;https://asmedigitalcollection.…</td><td>&quot;https://asmedigitalcollection.…</td><td>&quot;Design;High cycle fatigue;Stre…</td><td>&quot;doi_10.1115_1.3453874&quot;</td><td>&quot;https://asmedigitalcollection.…</td><td>&quot;https://asmedigitalcollection.…</td></tr><tr><td>&quot;1978&quot;</td><td>&quot;100&quot;</td><td>&quot;1&quot;</td><td>&quot;Wear-Related Topography of Ion…</td><td>&quot;D. J. Sturges;S. W. Martin;C. …</td><td>&quot;https://doi.org/10.1115/1.3453…</td><td>&quot;January&quot;</td><td>&quot;https://asmedigitalcollection.…</td><td>&quot;https://asmedigitalcollection.…</td><td>&quot;Wear;Nitriding;Composite mater…</td><td>&quot;doi_10.1115_1.3453882&quot;</td><td>&quot;https://asmedigitalcollection.…</td><td>&quot;https://asmedigitalcollection.…</td></tr><tr><td>&quot;1978&quot;</td><td>&quot;100&quot;</td><td>&quot;1&quot;</td><td>&quot;Simulation of Resonances and I…</td><td>&quot;M. Benton;A. Seireg&quot;</td><td>&quot;https://doi.org/10.1115/1.3453…</td><td>&quot;January&quot;</td><td>&quot;https://asmedigitalcollection.…</td><td>&quot;https://asmedigitalcollection.…</td><td>&quot;Gears;Resonance;Simulation;Com…</td><td>&quot;doi_10.1115_1.3453888&quot;</td><td>&quot;https://asmedigitalcollection.…</td><td>&quot;https://asmedigitalcollection.…</td></tr><tr><td>&hellip;</td><td>&hellip;</td><td>&hellip;</td><td>&hellip;</td><td>&hellip;</td><td>&hellip;</td><td>&hellip;</td><td>&hellip;</td><td>&hellip;</td><td>&hellip;</td><td>&hellip;</td><td>&hellip;</td><td>&hellip;</td></tr><tr><td>&quot;2026&quot;</td><td>&quot;148&quot;</td><td>&quot;3&quot;</td><td>&quot;Product Dataset Platform: Syst…</td><td>&quot;Mohammad Arjomandi Rad;Julian …</td><td>&quot;https://doi.org/10.1115/1.4068…</td><td>&quot;March&quot;</td><td>&quot;https://asmedigitalcollection.…</td><td>&quot;https://asmedigitalcollection.…</td><td>&quot;Design;Sleep&quot;</td><td>&quot;doi_10.1115_1.4068755&quot;</td><td>&quot;https://asmedigitalcollection.…</td><td>&quot;https://asmedigitalcollection.…</td></tr><tr><td>&quot;2026&quot;</td><td>&quot;148&quot;</td><td>&quot;3&quot;</td><td>&quot;Concept Chaining Patterns Duri…</td><td>&quot;Madhurima Das;Jessica Meza;Chr…</td><td>&quot;https://doi.org/10.1115/1.4068…</td><td>&quot;March&quot;</td><td>&quot;https://asmedigitalcollection.…</td><td>&quot;https://asmedigitalcollection.…</td><td>&quot;Chain;Design&quot;</td><td>&quot;doi_10.1115_1.4068983&quot;</td><td>&quot;https://asmedigitalcollection.…</td><td>&quot;https://asmedigitalcollection.…</td></tr><tr><td>&quot;2026&quot;</td><td>&quot;148&quot;</td><td>&quot;3&quot;</td><td>&quot;A Quasi-Optimal Shape Design M…</td><td>&quot;Sifan Chen;Guoyue Luo;Yuan Kon…</td><td>&quot;https://doi.org/10.1115/1.4068…</td><td>&quot;March&quot;</td><td>&quot;https://asmedigitalcollection.…</td><td>&quot;https://asmedigitalcollection.…</td><td>&quot;Construction;Cutting;Optimizat…</td><td>&quot;doi_10.1115_1.4068955&quot;</td><td>&quot;https://asmedigitalcollection.…</td><td>&quot;https://asmedigitalcollection.…</td></tr><tr><td>&quot;2026&quot;</td><td>&quot;148&quot;</td><td>&quot;3&quot;</td><td>&quot;Gradient-Based Optimization of…</td><td>&quot;Daniel Krsikapa;Il Yong Kim&quot;</td><td>&quot;https://doi.org/10.1115/1.4068…</td><td>&quot;March&quot;</td><td>&quot;https://asmedigitalcollection.…</td><td>&quot;https://asmedigitalcollection.…</td><td>&quot;Design;Optimization;Packing (S…</td><td>&quot;doi_10.1115_1.4068793&quot;</td><td>&quot;https://asmedigitalcollection.…</td><td>&quot;https://asmedigitalcollection.…</td></tr><tr><td>&quot;2026&quot;</td><td>&quot;148&quot;</td><td>&quot;3&quot;</td><td>&quot;Exploring the Influence of Ref…</td><td>&quot;Seth Pearl;Nicholas A. Meisel&quot;</td><td>&quot;https://doi.org/10.1115/1.4069…</td><td>&quot;March&quot;</td><td>&quot;https://asmedigitalcollection.…</td><td>&quot;https://asmedigitalcollection.…</td><td>&quot;Design;Students&quot;</td><td>&quot;doi_10.1115_1.4069040&quot;</td><td>&quot;https://asmedigitalcollection.…</td><td>&quot;https://asmedigitalcollection.…</td></tr></tbody></table></div>"
      ]
     },
     "execution_count": 1,
     "metadata": {},
     "output_type": "execute_result"
    }
   ],
   "execution_count": 1
  },
  {
   "metadata": {
    "ExecuteTime": {
     "end_time": "2025-08-25T04:37:47.711451Z",
     "start_time": "2025-08-25T04:37:47.704804Z"
    }
   },
   "cell_type": "code",
   "source": [
    "pdfs_in_folder = [file for file in asme_path.asme_jmd_pdf.glob('*.pdf')]\n",
    "test_pdf = pdfs_in_folder[10]\n",
    "test_pdf"
   ],
   "id": "9f0807c8fd1558b3",
   "outputs": [
    {
     "data": {
      "text/plain": [
       "PosixPath('/Users/joeqh/Library/CloudStorage/OneDrive-NanyangTechnologicalUniversity/Academics/fyp/data/asme_jmd/pdf/doi_10.1115_1.4065522.pdf')"
      ]
     },
     "execution_count": 2,
     "metadata": {},
     "output_type": "execute_result"
    }
   ],
   "execution_count": 2
  },
  {
   "metadata": {
    "ExecuteTime": {
     "end_time": "2025-08-25T04:37:49.583409Z",
     "start_time": "2025-08-25T04:37:47.744970Z"
    }
   },
   "cell_type": "code",
   "source": [
    "import pymupdf\n",
    "with pymupdf.open(test_pdf) as pdf:\n",
    "    text = ''.join(page.get_text('text') for page in pdf)\n",
    "    metadata = pdf.metadata\n",
    "    outline = pdf.get_toc()\n",
    "\n",
    "metadata"
   ],
   "id": "969c2baf5a1020c",
   "outputs": [
    {
     "data": {
      "text/plain": [
       "{'format': 'PDF 1.3',\n",
       " 'title': 'Optimized Design of a Soft Actuator Considering Force/Torque, Bendability, and Controllability via an Approximated Structure',\n",
       " 'author': 'Wu-Te Yang, Burak Kurkcu, Masayoshi Tomizuka',\n",
       " 'subject': 'Research Paper',\n",
       " 'keywords': 'soft pneumatic actuator; optimal design; approximated model; controllability; design optimization; robot design',\n",
       " 'creator': 'Arbortext Advanced Print Publisher 10.0.1465/W Unicode',\n",
       " 'producer': 'Acrobat Distiller 8.1.0 (Windows); modified using iTextSharp.LGPLv2.Core 3.7.4.0',\n",
       " 'creationDate': \"D:20240530225704+05'30'\",\n",
       " 'modDate': \"D:20250824094448+00'00'\",\n",
       " 'trapped': '',\n",
       " 'encryption': None}"
      ]
     },
     "execution_count": 3,
     "metadata": {},
     "output_type": "execute_result"
    }
   ],
   "execution_count": 3
  },
  {
   "metadata": {
    "ExecuteTime": {
     "end_time": "2025-08-25T04:45:07.029069Z",
     "start_time": "2025-08-25T04:43:52.328958Z"
    }
   },
   "cell_type": "code",
   "source": [
    "pdf_data_dfs :list [pl.DataFrame] = []\n",
    "for pdf_path in pdfs_in_folder:\n",
    "    with pymupdf.open(pdf_path) as pdf:\n",
    "        data = pdf.metadata\n",
    "        data['doi_filename'] = pdf_path.name.replace('.pdf','')\n",
    "        data['text'] = ''.join(page.get_text('text') for page in pdf)\n",
    "        outline = pdf.get_toc()\n",
    "\n",
    "    pdf_data_dfs.append(pl.DataFrame(data))\n",
    "\n",
    "metadata_2011_onwards_df = pl.concat(pdf_data_dfs).select('doi_filename', 'subject', 'title', 'author', 'keywords', 'text')\n",
    "metadata_2011_onwards_df_path = asme_path.asme_jmd_pdf / '2011_onwards_metadata.parquet'\n",
    "metadata_2011_onwards_df.write_parquet(metadata_2011_onwards_df_path)"
   ],
   "id": "30396198d590ccf4",
   "outputs": [],
   "execution_count": 12
  },
  {
   "metadata": {
    "ExecuteTime": {
     "end_time": "2025-08-25T04:45:19.688182Z",
     "start_time": "2025-08-25T04:45:19.683329Z"
    }
   },
   "cell_type": "code",
   "source": "metadata_2011_onwards_df",
   "id": "c2732f21f9f86ee6",
   "outputs": [
    {
     "data": {
      "text/plain": [
       "shape: (750, 6)\n",
       "┌─────────────────┬───────────┬─────────────────┬────────────────┬────────────────┬────────────────┐\n",
       "│ doi_filename    ┆ subject   ┆ title           ┆ author         ┆ keywords       ┆ text           │\n",
       "│ ---             ┆ ---       ┆ ---             ┆ ---            ┆ ---            ┆ ---            │\n",
       "│ str             ┆ str       ┆ str             ┆ str            ┆ str            ┆ str            │\n",
       "╞═════════════════╪═══════════╪═════════════════╪════════════════╪════════════════╪════════════════╡\n",
       "│ doi_10.1115_1.4 ┆ Research  ┆ Positioning     ┆ Dequan Zhang,  ┆ industrial     ┆ Dequan Zhang   │\n",
       "│ 047436          ┆ Paper     ┆ Accuracy        ┆ Zhouyuan Peng, ┆ robot;         ┆ State Key      │\n",
       "│                 ┆           ┆ Reliabili…      ┆ G…             ┆ kinematics r…  ┆ Laborat…       │\n",
       "│ doi_10.1115_1.4 ┆ Research  ┆ A Design        ┆ Xingyue Jiang, ┆ powertrain     ┆ Xingyue Jiang  │\n",
       "│ 049341          ┆ Paper     ┆ Methodology for ┆ Jianjun Hu,    ┆ configuration; ┆ School of      │\n",
       "│                 ┆           ┆ Hybri…          ┆ Han…           ┆ desi…          ┆ Automo…        │\n",
       "│ doi_10.1115_1.4 ┆ Research  ┆ Variation       ┆ Liang Chen,    ┆ feature        ┆ Liang Chen     │\n",
       "│ 064238          ┆ Paper     ┆ Analysis Method ┆ Naikun Wei, Yu ┆ information    ┆ School of      │\n",
       "│                 ┆           ┆ Base…           ┆ Zhe…           ┆ network; v…    ┆ Mechanica…     │\n",
       "│ doi_10.1115_1.4 ┆ Guest     ┆ Special Issue:  ┆ Janet K.       ┆                ┆ Journal of     │\n",
       "│ 051042          ┆ Editorial ┆ Design          ┆ Allen, Sesh    ┆                ┆ Mechanical     │\n",
       "│                 ┆           ┆ Engineer…       ┆ Commuri, …     ┆                ┆ Design         │\n",
       "│                 ┆           ┆                 ┆                ┆                ┆ G…             │\n",
       "│ doi_10.1115_1.4 ┆ Research  ┆ Bias-Learning-B ┆ Lichuan Ren,   ┆ artificial     ┆ Lichuan Ren    │\n",
       "│ 054674          ┆ Paper     ┆ ased Model      ┆ Zhimin Xi      ┆ intelligence;  ┆ Department of  │\n",
       "│                 ┆           ┆ Pred…           ┆                ┆ data-…         ┆ Indu…          │\n",
       "│ …               ┆ …         ┆ …               ┆ …              ┆ …              ┆ …              │\n",
       "│ doi_10.1115_1.4 ┆ Research  ┆ Deep Neural     ┆ Jesse Mullis,  ┆ requirement    ┆ Jesse Mullis   │\n",
       "│ 063764          ┆ Paper     ┆ Networks in     ┆ Cheng Chen,    ┆ management;    ┆ College of     │\n",
       "│                 ┆           ┆ Natura…         ┆ Besh…          ┆ requir…        ┆ Engine…        │\n",
       "│ doi_10.1115_1.4 ┆ Research  ┆ Structural      ┆ J. Emmanuel    ┆ design of      ┆ J. Emmanuel    │\n",
       "│ 054876          ┆ Paper     ┆ Topology        ┆ Ayala-Hernánde ┆ machine        ┆ Ayala-Hernánde │\n",
       "│                 ┆           ┆ Optimizati…     ┆ z, S…          ┆ elements; de…  ┆ z              │\n",
       "│                 ┆           ┆                 ┆                ┆                ┆ D…             │\n",
       "│ doi_10.1115_1.4 ┆ Research  ┆ BIKED: A        ┆ Lyle           ┆ artificial     ┆ Lyle           │\n",
       "│ 052585          ┆ Paper     ┆ Dataset for     ┆ Regenwetter,   ┆ intelligence;  ┆ Regenwetter    │\n",
       "│                 ┆           ┆ Computati…      ┆ Brent Curry,…  ┆ data-…         ┆ Department of… │\n",
       "│ doi_10.1115_1.4 ┆ Research  ┆ Creation and    ┆ Alexander      ┆ additive       ┆ Alexander      │\n",
       "│ 063566          ┆ Paper     ┆ Assessment of a ┆ Cayley, Jayant ┆ manufacturing; ┆ Cayley         │\n",
       "│                 ┆           ┆ N…              ┆ Mathu…         ┆ restri…        ┆ Engineering D… │\n",
       "│ doi_10.1115_1.4 ┆ Technical ┆ The Application ┆ Bibhuti Ranjan ┆ collaborative  ┆ The            │\n",
       "│ 053466          ┆ Brief     ┆ of Ethnographi… ┆ Bhattacharjya, ┆ design; design ┆ Application of │\n",
       "│                 ┆           ┆                 ┆ …              ┆ a…             ┆ Ethnographi…   │\n",
       "└─────────────────┴───────────┴─────────────────┴────────────────┴────────────────┴────────────────┘"
      ],
      "text/html": [
       "<div><style>\n",
       ".dataframe > thead > tr,\n",
       ".dataframe > tbody > tr {\n",
       "  text-align: right;\n",
       "  white-space: pre-wrap;\n",
       "}\n",
       "</style>\n",
       "<small>shape: (750, 6)</small><table border=\"1\" class=\"dataframe\"><thead><tr><th>doi_filename</th><th>subject</th><th>title</th><th>author</th><th>keywords</th><th>text</th></tr><tr><td>str</td><td>str</td><td>str</td><td>str</td><td>str</td><td>str</td></tr></thead><tbody><tr><td>&quot;doi_10.1115_1.4047436&quot;</td><td>&quot;Research Paper&quot;</td><td>&quot;Positioning Accuracy Reliabili…</td><td>&quot;Dequan Zhang, Zhouyuan Peng, G…</td><td>&quot;industrial robot; kinematics r…</td><td>&quot;Dequan Zhang\n",
       "State Key Laborat…</td></tr><tr><td>&quot;doi_10.1115_1.4049341&quot;</td><td>&quot;Research Paper&quot;</td><td>&quot;A Design Methodology for Hybri…</td><td>&quot;Xingyue Jiang, Jianjun Hu, Han…</td><td>&quot;powertrain configuration; desi…</td><td>&quot;Xingyue Jiang\n",
       "School of Automo…</td></tr><tr><td>&quot;doi_10.1115_1.4064238&quot;</td><td>&quot;Research Paper&quot;</td><td>&quot;Variation Analysis Method Base…</td><td>&quot;Liang Chen, Naikun Wei, Yu Zhe…</td><td>&quot;feature information network; v…</td><td>&quot;Liang Chen\n",
       "School of Mechanica…</td></tr><tr><td>&quot;doi_10.1115_1.4051042&quot;</td><td>&quot;Guest Editorial&quot;</td><td>&quot;Special Issue: Design Engineer…</td><td>&quot;Janet K. Allen, Sesh Commuri, …</td><td>&quot;&quot;</td><td>&quot;Journal of\n",
       "Mechanical\n",
       "Design\n",
       "G…</td></tr><tr><td>&quot;doi_10.1115_1.4054674&quot;</td><td>&quot;Research Paper&quot;</td><td>&quot;Bias-Learning-Based Model Pred…</td><td>&quot;Lichuan Ren, Zhimin Xi&quot;</td><td>&quot;artificial intelligence; data-…</td><td>&quot;Lichuan Ren\n",
       "Department of Indu…</td></tr><tr><td>&hellip;</td><td>&hellip;</td><td>&hellip;</td><td>&hellip;</td><td>&hellip;</td><td>&hellip;</td></tr><tr><td>&quot;doi_10.1115_1.4063764&quot;</td><td>&quot;Research Paper&quot;</td><td>&quot;Deep Neural Networks in Natura…</td><td>&quot;Jesse Mullis, Cheng Chen, Besh…</td><td>&quot;requirement management; requir…</td><td>&quot;Jesse Mullis\n",
       "College of Engine…</td></tr><tr><td>&quot;doi_10.1115_1.4054876&quot;</td><td>&quot;Research Paper&quot;</td><td>&quot;Structural Topology Optimizati…</td><td>&quot;J. Emmanuel Ayala-Hernández, S…</td><td>&quot;design of machine elements; de…</td><td>&quot;J. Emmanuel\n",
       "Ayala-Hernández\n",
       "D…</td></tr><tr><td>&quot;doi_10.1115_1.4052585&quot;</td><td>&quot;Research Paper&quot;</td><td>&quot;BIKED: A Dataset for Computati…</td><td>&quot;Lyle Regenwetter, Brent Curry,…</td><td>&quot;artificial intelligence; data-…</td><td>&quot;Lyle Regenwetter\n",
       "Department of…</td></tr><tr><td>&quot;doi_10.1115_1.4063566&quot;</td><td>&quot;Research Paper&quot;</td><td>&quot;Creation and Assessment of a N…</td><td>&quot;Alexander Cayley, Jayant Mathu…</td><td>&quot;additive manufacturing; restri…</td><td>&quot;Alexander Cayley\n",
       "Engineering D…</td></tr><tr><td>&quot;doi_10.1115_1.4053466&quot;</td><td>&quot;Technical Brief&quot;</td><td>&quot;The Application of Ethnographi…</td><td>&quot;Bibhuti Ranjan Bhattacharjya, …</td><td>&quot;collaborative design; design a…</td><td>&quot;The Application of Ethnographi…</td></tr></tbody></table></div>"
      ]
     },
     "execution_count": 13,
     "metadata": {},
     "output_type": "execute_result"
    }
   ],
   "execution_count": 13
  },
  {
   "metadata": {
    "ExecuteTime": {
     "end_time": "2025-08-25T04:45:25.479606Z",
     "start_time": "2025-08-25T04:45:25.471176Z"
    }
   },
   "cell_type": "code",
   "source": "metadata_2011_onwards_df.join(cluster_url_by_issue_df, on='doi_filename')",
   "id": "57f9201394df9e26",
   "outputs": [
    {
     "data": {
      "text/plain": [
       "shape: (750, 18)\n",
       "┌───────────┬───────────┬───────────┬───────────┬───┬───────────┬───────────┬───────────┬──────────┐\n",
       "│ doi_filen ┆ subject   ┆ title     ┆ author    ┆ … ┆ pdf_url   ┆ topics    ┆ pdf_url_r ┆ article_ │\n",
       "│ ame       ┆ ---       ┆ ---       ┆ ---       ┆   ┆ ---       ┆ ---       ┆ emotexs   ┆ url_remo │\n",
       "│ ---       ┆ str       ┆ str       ┆ str       ┆   ┆ str       ┆ str       ┆ ---       ┆ texs     │\n",
       "│ str       ┆           ┆           ┆           ┆   ┆           ┆           ┆ str       ┆ ---      │\n",
       "│           ┆           ┆           ┆           ┆   ┆           ┆           ┆           ┆ str      │\n",
       "╞═══════════╪═══════════╪═══════════╪═══════════╪═══╪═══════════╪═══════════╪═══════════╪══════════╡\n",
       "│ doi_10.11 ┆           ┆           ┆           ┆ … ┆ https://a ┆           ┆ https://a ┆ https:// │\n",
       "│ 15_1.3453 ┆           ┆           ┆           ┆   ┆ smedigita ┆           ┆ smedigita ┆ asmedigi │\n",
       "│ 887       ┆           ┆           ┆           ┆   ┆ lcollecti ┆           ┆ lcollecti ┆ talcolle │\n",
       "│           ┆           ┆           ┆           ┆   ┆ on.…      ┆           ┆ on.…      ┆ ction.…  │\n",
       "│ doi_10.11 ┆           ┆           ┆           ┆ … ┆ https://a ┆ Jets;Lubr ┆ https://a ┆ https:// │\n",
       "│ 15_1.3453 ┆           ┆           ┆           ┆   ┆ smedigita ┆ icants;Sp ┆ smedigita ┆ asmedigi │\n",
       "│ 895       ┆           ┆           ┆           ┆   ┆ lcollecti ┆ ur gears  ┆ lcollecti ┆ talcolle │\n",
       "│           ┆           ┆           ┆           ┆   ┆ on.…      ┆           ┆ on.…      ┆ ction.…  │\n",
       "│ doi_10.11 ┆           ┆           ┆           ┆ … ┆ https://a ┆ Jets;Lubr ┆ https://a ┆ https:// │\n",
       "│ 15_1.3453 ┆           ┆           ┆           ┆   ┆ smedigita ┆ icants;Sp ┆ smedigita ┆ asmedigi │\n",
       "│ 896       ┆           ┆           ┆           ┆   ┆ lcollecti ┆ ur gears  ┆ lcollecti ┆ talcolle │\n",
       "│           ┆           ┆           ┆           ┆   ┆ on.…      ┆           ┆ on.…      ┆ ction.…  │\n",
       "│ doi_10.11 ┆           ┆           ┆           ┆ … ┆ https://a ┆           ┆ https://a ┆ https:// │\n",
       "│ 15_1.3453 ┆           ┆           ┆           ┆   ┆ smedigita ┆           ┆ smedigita ┆ asmedigi │\n",
       "│ 901       ┆           ┆           ┆           ┆   ┆ lcollecti ┆           ┆ lcollecti ┆ talcolle │\n",
       "│           ┆           ┆           ┆           ┆   ┆ on.…      ┆           ┆ on.…      ┆ ction.…  │\n",
       "│ doi_10.11 ┆           ┆           ┆           ┆ … ┆ https://a ┆ Bending   ┆ https://a ┆ https:// │\n",
       "│ 15_1.3453 ┆           ┆           ┆           ┆   ┆ smedigita ┆ (Stress); ┆ smedigita ┆ asmedigi │\n",
       "│ 927       ┆           ┆           ┆           ┆   ┆ lcollecti ┆ Gear      ┆ lcollecti ┆ talcolle │\n",
       "│           ┆           ┆           ┆           ┆   ┆ on.…      ┆ teeth     ┆ on.…      ┆ ction.…  │\n",
       "│ …         ┆ …         ┆ …         ┆ …         ┆ … ┆ …         ┆ …         ┆ …         ┆ …        │\n",
       "│ doi_10.11 ┆ Research  ┆ Advancing ┆ Mahtab    ┆ … ┆ https://a ┆ Actuators ┆ https://a ┆ https:// │\n",
       "│ 15_1.4068 ┆ Paper     ┆ Soft      ┆ Behzadfar ┆   ┆ smedigita ┆ ;Design;E ┆ smedigita ┆ asmedigi │\n",
       "│ 073       ┆           ┆ Robotics: ┆ , Yue     ┆   ┆ lcollecti ┆ nergy     ┆ lcollecti ┆ talcolle │\n",
       "│           ┆           ┆ A Hig…    ┆ Feng, Ki… ┆   ┆ on.…      ┆ effici…   ┆ on.…      ┆ ction.…  │\n",
       "│ doi_10.11 ┆ Technical ┆ Importanc ┆ Seyoung   ┆ … ┆ https://a ┆ Image seg ┆ https://a ┆ https:// │\n",
       "│ 15_1.4066 ┆ Brief     ┆ e-Induced ┆ Park,     ┆   ┆ smedigita ┆ mentation ┆ smedigita ┆ asmedigi │\n",
       "│ 746       ┆           ┆ Customer  ┆ Yilan     ┆   ┆ lcollecti ┆ ;Construc ┆ lcollecti ┆ talcolle │\n",
       "│           ┆           ┆ Se…       ┆ Jiang,    ┆   ┆ on.…      ┆ tio…      ┆ on.…      ┆ ction.…  │\n",
       "│           ┆           ┆           ┆ Har…      ┆   ┆           ┆           ┆           ┆          │\n",
       "│ doi_10.11 ┆ Technical ┆ MSEval: A ┆ Yash      ┆ … ┆ https://a ┆ Design    ┆ https://a ┆ https:// │\n",
       "│ 15_1.4067 ┆ Brief     ┆ Dataset   ┆ Patawari  ┆   ┆ smedigita ┆           ┆ smedigita ┆ asmedigi │\n",
       "│ 453       ┆           ┆ for       ┆ Jain,     ┆   ┆ lcollecti ┆           ┆ lcollecti ┆ talcolle │\n",
       "│           ┆           ┆ Material… ┆ Daniele   ┆   ┆ on.…      ┆           ┆ on.…      ┆ ction.…  │\n",
       "│           ┆           ┆           ┆ Gr…       ┆   ┆           ┆           ┆           ┆          │\n",
       "│ doi_10.11 ┆ Technical ┆ Looking   ┆ Madison   ┆ … ┆ https://a ┆ Design;St ┆ https://a ┆ https:// │\n",
       "│ 15_1.4067 ┆ Brief     ┆ Beyond    ┆ Cass,     ┆   ┆ smedigita ┆ ress      ┆ smedigita ┆ asmedigi │\n",
       "│ 343       ┆           ┆ Self-Repo ┆ Rohan     ┆   ┆ lcollecti ┆           ┆ lcollecti ┆ talcolle │\n",
       "│           ┆           ┆ rted C…   ┆ Prabhu    ┆   ┆ on.…      ┆           ┆ on.…      ┆ ction.…  │\n",
       "│ doi_10.11 ┆ Technical ┆ HM-SYNC:  ┆ John      ┆ … ┆ https://a ┆ Design;Ma ┆ https://a ┆ https:// │\n",
       "│ 15_1.4067 ┆ Brief     ┆ A Multimo ┆ Martins,  ┆   ┆ smedigita ┆ chinery;M ┆ smedigita ┆ asmedigi │\n",
       "│ 744       ┆           ┆ dal       ┆ Cheyu     ┆   ┆ lcollecti ┆ anufactur ┆ lcollecti ┆ talcolle │\n",
       "│           ┆           ┆ Dataset … ┆ Lin,      ┆   ┆ on.…      ┆ ing…      ┆ on.…      ┆ ction.…  │\n",
       "│           ┆           ┆           ┆ Kathe…    ┆   ┆           ┆           ┆           ┆          │\n",
       "└───────────┴───────────┴───────────┴───────────┴───┴───────────┴───────────┴───────────┴──────────┘"
      ],
      "text/html": [
       "<div><style>\n",
       ".dataframe > thead > tr,\n",
       ".dataframe > tbody > tr {\n",
       "  text-align: right;\n",
       "  white-space: pre-wrap;\n",
       "}\n",
       "</style>\n",
       "<small>shape: (750, 18)</small><table border=\"1\" class=\"dataframe\"><thead><tr><th>doi_filename</th><th>subject</th><th>title</th><th>author</th><th>keywords</th><th>text</th><th>year</th><th>volume</th><th>issue</th><th>title_right</th><th>authors</th><th>doi</th><th>month</th><th>article_url</th><th>pdf_url</th><th>topics</th><th>pdf_url_remotexs</th><th>article_url_remotexs</th></tr><tr><td>str</td><td>str</td><td>str</td><td>str</td><td>str</td><td>str</td><td>str</td><td>str</td><td>str</td><td>str</td><td>str</td><td>str</td><td>str</td><td>str</td><td>str</td><td>str</td><td>str</td><td>str</td></tr></thead><tbody><tr><td>&quot;doi_10.1115_1.3453887&quot;</td><td>&quot;&quot;</td><td>&quot;&quot;</td><td>&quot;&quot;</td><td>&quot;&quot;</td><td>&quot;I I&quot; II \n",
       "&#x27;(4J \n",
       "meinniwni \n",
       "desi…</td><td>&quot;1978&quot;</td><td>&quot;100&quot;</td><td>&quot;1&quot;</td><td>&quot;Editorial&quot;</td><td>&quot;Charles W. McLarnan&quot;</td><td>&quot;https://doi.org/10.1115/1.3453…</td><td>&quot;January&quot;</td><td>&quot;https://asmedigitalcollection.…</td><td>&quot;https://asmedigitalcollection.…</td><td>&quot;&quot;</td><td>&quot;https://asmedigitalcollection.…</td><td>&quot;https://asmedigitalcollection.…</td></tr><tr><td>&quot;doi_10.1115_1.3453895&quot;</td><td>&quot;&quot;</td><td>&quot;&quot;</td><td>&quot;&quot;</td><td>&quot;&quot;</td><td>&quot;speed gives a picture for each…</td><td>&quot;1978&quot;</td><td>&quot;100&quot;</td><td>&quot;1&quot;</td><td>&quot;Discussion: “Study of Lubrican…</td><td>&quot;G. J. J. van Heijningen&quot;</td><td>&quot;https://doi.org/10.1115/1.3453…</td><td>&quot;January&quot;</td><td>&quot;https://asmedigitalcollection.…</td><td>&quot;https://asmedigitalcollection.…</td><td>&quot;Jets;Lubricants;Spur gears&quot;</td><td>&quot;https://asmedigitalcollection.…</td><td>&quot;https://asmedigitalcollection.…</td></tr><tr><td>&quot;doi_10.1115_1.3453896&quot;</td><td>&quot;&quot;</td><td>&quot;&quot;</td><td>&quot;&quot;</td><td>&quot;&quot;</td><td>&quot;speed gives a picture for each…</td><td>&quot;1978&quot;</td><td>&quot;100&quot;</td><td>&quot;1&quot;</td><td>&quot;Closure to “Discussion of ‘Stu…</td><td>&quot;D. P. Townsend;L. S. Akin&quot;</td><td>&quot;https://doi.org/10.1115/1.3453…</td><td>&quot;January&quot;</td><td>&quot;https://asmedigitalcollection.…</td><td>&quot;https://asmedigitalcollection.…</td><td>&quot;Jets;Lubricants;Spur gears&quot;</td><td>&quot;https://asmedigitalcollection.…</td><td>&quot;https://asmedigitalcollection.…</td></tr><tr><td>&quot;doi_10.1115_1.3453901&quot;</td><td>&quot;&quot;</td><td>&quot;&quot;</td><td>&quot;&quot;</td><td>&quot;&quot;</td><td>&quot;/ \n",
       "ilil^Hk \n",
       "/ \n",
       "PPP»nPf«lliL \n",
       ";…</td><td>&quot;1978&quot;</td><td>&quot;100&quot;</td><td>&quot;2&quot;</td><td>&quot;Editorial&quot;</td><td>&quot;Charles W. McLarnan&quot;</td><td>&quot;https://doi.org/10.1115/1.3453…</td><td>&quot;April&quot;</td><td>&quot;https://asmedigitalcollection.…</td><td>&quot;https://asmedigitalcollection.…</td><td>&quot;&quot;</td><td>&quot;https://asmedigitalcollection.…</td><td>&quot;https://asmedigitalcollection.…</td></tr><tr><td>&quot;doi_10.1115_1.3453927&quot;</td><td>&quot;&quot;</td><td>&quot;&quot;</td><td>&quot;&quot;</td><td>&quot;&quot;</td><td>&quot;DISCUSSION \n",
       "B. A. Shotted \n",
       "The…</td><td>&quot;1978&quot;</td><td>&quot;100&quot;</td><td>&quot;2&quot;</td><td>&quot;Discussion: “Bending Stress in…</td><td>&quot;B. A. Shotter&quot;</td><td>&quot;https://doi.org/10.1115/1.3453…</td><td>&quot;April&quot;</td><td>&quot;https://asmedigitalcollection.…</td><td>&quot;https://asmedigitalcollection.…</td><td>&quot;Bending (Stress);Gear teeth&quot;</td><td>&quot;https://asmedigitalcollection.…</td><td>&quot;https://asmedigitalcollection.…</td></tr><tr><td>&hellip;</td><td>&hellip;</td><td>&hellip;</td><td>&hellip;</td><td>&hellip;</td><td>&hellip;</td><td>&hellip;</td><td>&hellip;</td><td>&hellip;</td><td>&hellip;</td><td>&hellip;</td><td>&hellip;</td><td>&hellip;</td><td>&hellip;</td><td>&hellip;</td><td>&hellip;</td><td>&hellip;</td><td>&hellip;</td></tr><tr><td>&quot;doi_10.1115_1.4068073&quot;</td><td>&quot;Research Paper&quot;</td><td>&quot;Advancing Soft Robotics: A Hig…</td><td>&quot;Mahtab Behzadfar, Yue Feng, Ki…</td><td>&quot;bio-inspired design; soft robo…</td><td>&quot;Mahtab Behzadfar\n",
       "School of Mec…</td><td>&quot;2025&quot;</td><td>&quot;147&quot;</td><td>&quot;4&quot;</td><td>&quot;Advancing Soft Robotics: A Hig…</td><td>&quot;Mahtab Behzadfar;Yue Feng;Ki-Y…</td><td>&quot;https://doi.org/10.1115/1.4068…</td><td>&quot;April&quot;</td><td>&quot;https://asmedigitalcollection.…</td><td>&quot;https://asmedigitalcollection.…</td><td>&quot;Actuators;Design;Energy effici…</td><td>&quot;https://asmedigitalcollection.…</td><td>&quot;https://asmedigitalcollection.…</td></tr><tr><td>&quot;doi_10.1115_1.4066746&quot;</td><td>&quot;Technical Brief&quot;</td><td>&quot;Importance-Induced Customer Se…</td><td>&quot;Seyoung Park, Yilan Jiang, Har…</td><td>&quot;text mining; customer networks…</td><td>&quot;Importance-Induced Customer\n",
       "Se…</td><td>&quot;2025&quot;</td><td>&quot;147&quot;</td><td>&quot;4&quot;</td><td>&quot;Importance-Induced Customer Se…</td><td>&quot;Seyoung Park;Yilan Jiang;Harri…</td><td>&quot;https://doi.org/10.1115/1.4066…</td><td>&quot;April&quot;</td><td>&quot;https://asmedigitalcollection.…</td><td>&quot;https://asmedigitalcollection.…</td><td>&quot;Image segmentation;Constructio…</td><td>&quot;https://asmedigitalcollection.…</td><td>&quot;https://asmedigitalcollection.…</td></tr><tr><td>&quot;doi_10.1115_1.4067453&quot;</td><td>&quot;Technical Brief&quot;</td><td>&quot;MSEval: A Dataset for Material…</td><td>&quot;Yash Patawari Jain, Daniele Gr…</td><td>&quot;data-driven design; machine le…</td><td>&quot;MSEval: A Dataset for Material…</td><td>&quot;2025&quot;</td><td>&quot;147&quot;</td><td>&quot;4&quot;</td><td>&quot;MSEval: A Dataset for Material…</td><td>&quot;Yash Patawari Jain;Daniele Gra…</td><td>&quot;https://doi.org/10.1115/1.4067…</td><td>&quot;April&quot;</td><td>&quot;https://asmedigitalcollection.…</td><td>&quot;https://asmedigitalcollection.…</td><td>&quot;Design&quot;</td><td>&quot;https://asmedigitalcollection.…</td><td>&quot;https://asmedigitalcollection.…</td></tr><tr><td>&quot;doi_10.1115_1.4067343&quot;</td><td>&quot;Technical Brief&quot;</td><td>&quot;Looking Beyond Self-Reported C…</td><td>&quot;Madison Cass, Rohan Prabhu&quot;</td><td>&quot;cognitive load; pupil diameter…</td><td>&quot;Looking Beyond Self-Reported\n",
       "C…</td><td>&quot;2025&quot;</td><td>&quot;147&quot;</td><td>&quot;4&quot;</td><td>&quot;Looking Beyond Self-Reported C…</td><td>&quot;Madison Cass;Rohan Prabhu&quot;</td><td>&quot;https://doi.org/10.1115/1.4067…</td><td>&quot;April&quot;</td><td>&quot;https://asmedigitalcollection.…</td><td>&quot;https://asmedigitalcollection.…</td><td>&quot;Design;Stress&quot;</td><td>&quot;https://asmedigitalcollection.…</td><td>&quot;https://asmedigitalcollection.…</td></tr><tr><td>&quot;doi_10.1115_1.4067744&quot;</td><td>&quot;Technical Brief&quot;</td><td>&quot;HM-SYNC: A Multimodal Dataset …</td><td>&quot;John Martins, Cheyu Lin, Kathe…</td><td>&quot;advanced manufacturing; datase…</td><td>&quot;HM-SYNC: A Multimodal Dataset\n",
       "…</td><td>&quot;2025&quot;</td><td>&quot;147&quot;</td><td>&quot;4&quot;</td><td>&quot;HM-SYNC: A Multimodal Dataset …</td><td>&quot;John Martins;Cheyu Lin;Katheri…</td><td>&quot;https://doi.org/10.1115/1.4067…</td><td>&quot;April&quot;</td><td>&quot;https://asmedigitalcollection.…</td><td>&quot;https://asmedigitalcollection.…</td><td>&quot;Design;Machinery;Manufacturing…</td><td>&quot;https://asmedigitalcollection.…</td><td>&quot;https://asmedigitalcollection.…</td></tr></tbody></table></div>"
      ]
     },
     "execution_count": 14,
     "metadata": {},
     "output_type": "execute_result"
    }
   ],
   "execution_count": 14
  },
  {
   "metadata": {
    "ExecuteTime": {
     "end_time": "2025-08-25T04:56:22.044615Z",
     "start_time": "2025-08-25T04:56:22.031975Z"
    }
   },
   "cell_type": "code",
   "source": [
    "test_pdf_path = asme_path.asme_jmd_pdf / (\"doi_10.1115_1.3453887\" + \".pdf\")\n",
    "with pymupdf.open(test_pdf_path) as _pdf:\n",
    "    pages_text = [page.get_text('text') for page in _pdf]\n",
    "pages_text"
   ],
   "id": "7dc3773901b03b71",
   "outputs": [
    {
     "data": {
      "text/plain": [
       "['I I\" II \\n\\'(4J \\nmeinniwni \\ndesign \\neditorial \\nWell, here we are! After more than two years of discussions, \\nplanning and work, the Journal of Mechanical Design is now in \\nprint. Nominally, this will be the official transactions volume \\nfor the Design Engineering Division of the ASME. We will \\npublish quarterly in January, April, July and October. \\nThe \\nprincipal contents will be papers presented at meetings of the \\nTechnical Committees of the Design Engineering Division. In \\naddition, we will be publishing other material deemed to be of \\npermanent interest to design engineers. \\nA glance at the masthead of this new publication reveals a \\nblue ribbon panel of Associate Editors who will be screening \\nand selecting the items to be presented. Representing most of \\nthe Technical Committees of the Division, they have the pri-\\nmary responsibility for seeing to it that this journal represents \\nthe best thinking of the time and that it will be influential in the \\ndevelopment of design engineering. \\nWe are pleased to have the freedom, subject to the direction \\nof the Policy Board, Communications and of the Executive Com-\\nmittee of the Design Engineering Division, to develop a journal \\nwhich will be more than just a compilation of unrelated papers. \\nThe Special Features Department under the leadership of Dr. \\nRichard Berkof will prepare reports which we feel will be of \\nparticular interest to designers and worth preserving in the \\nhistorical record. \\nnew books of interest to designers, and selected government \\nreports. These features will be repeated annually, or more fre-\\nquently if warranted. \\nFurther, we will present research and \\ntechnological updates, originating primarily from the Technical \\nCommittees of the Division. Also planned are overseas reports, \\nreviews of important books, profiles of designs and designers, \\nand announcements of significant design innovations, including \\nnew developments such as design charts or comprehensive com-\\nputerized methods. We welcome discussions of the papers or \\nother contents prior to their publication in the Journal or after \\nthe fact, and hope the Journal can be a forum for the discussion \\nof significant developments in the field of mechanical design. \\nThis first edition represents the culmination of more than \\n30 years of efforts by the engineers who have directed the \\nactivities of the Design Engineering Division. We are proud to \\nhave the opportunity to prepare the early volumes of this \\npublication. \\nIn addition, the Journal of Mechanical Design \\nneeds the assistance of all who will help in order to develop as a \\nsignificant forum for our profession. \\nPlease share with us your thoughts on the Journal and your \\nideas for features which could be of value to the design com-\\nmunity. With your help we will be able to produce a reference \\nuseful to all of us. \\nFor example, contained in this issue are lists of items from \\nliterature outside the ASME: dissertations on design topics, \\nCHARLES W. McLARNAN \\nTECHNICAL EDITOR \\nJournal of Mechanical Design \\nJ A N U A R Y 1978, Vol. 100 / 1 \\nCopyright © 1978 by ASME\\nDownloaded from http://asmedigitalcollection.asme.org/mechanicaldesign/article-pdf/100/1/1/5567254/1_1.pdf by Nanyang Technological University user on 25 August 2025\\n']"
      ]
     },
     "execution_count": 33,
     "metadata": {},
     "output_type": "execute_result"
    }
   ],
   "execution_count": 33
  }
 ],
 "metadata": {
  "kernelspec": {
   "display_name": "Python 3",
   "language": "python",
   "name": "python3"
  },
  "language_info": {
   "codemirror_mode": {
    "name": "ipython",
    "version": 2
   },
   "file_extension": ".py",
   "mimetype": "text/x-python",
   "name": "python",
   "nbconvert_exporter": "python",
   "pygments_lexer": "ipython2",
   "version": "2.7.6"
  }
 },
 "nbformat": 4,
 "nbformat_minor": 5
}
