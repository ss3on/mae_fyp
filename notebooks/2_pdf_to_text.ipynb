{
 "cells": [
  {
   "cell_type": "code",
   "id": "initial_id",
   "metadata": {
    "collapsed": true,
    "ExecuteTime": {
     "end_time": "2025-08-24T11:01:57.329953Z",
     "start_time": "2025-08-24T11:01:57.319769Z"
    }
   },
   "source": [
    "import polars as pl\n",
    "from pathlib import Path\n",
    "from src.file_handling import file_location\n",
    "\n",
    "folder_path = file_location.FileLocation()\n",
    "root_path = folder_path.root\n",
    "data_path = root_path.parent.parent / 'fyp' / 'data'\n",
    "\n",
    "asme_path = file_location.FolderPathOfASME(data_path)\n",
    "jmd_bare_paper_infor_path = asme_path.asme_jmd_pdf / 'jmd_papers_bare_infor.parquet'\n",
    "\n",
    "cluster_url_by_issue_df = pl.read_parquet(jmd_bare_paper_infor_path)\n",
    "\n",
    "cluster_url_by_issue_df"
   ],
   "outputs": [
    {
     "data": {
      "text/plain": [
       "shape: (6_166, 12)\n",
       "┌──────┬────────┬───────┬──────────────┬───┬─────────────┬─────────────┬─────────────┬─────────────┐\n",
       "│ year ┆ volume ┆ issue ┆ title        ┆ … ┆ pdf_url     ┆ topics      ┆ pdf_filenam ┆ pdf_url_rem │\n",
       "│ ---  ┆ ---    ┆ ---   ┆ ---          ┆   ┆ ---         ┆ ---         ┆ e           ┆ otexs       │\n",
       "│ str  ┆ str    ┆ str   ┆ str          ┆   ┆ str         ┆ str         ┆ ---         ┆ ---         │\n",
       "│      ┆        ┆       ┆              ┆   ┆             ┆             ┆ str         ┆ str         │\n",
       "╞══════╪════════╪═══════╪══════════════╪═══╪═════════════╪═════════════╪═════════════╪═════════════╡\n",
       "│ 1978 ┆ 100    ┆ 1     ┆ Editorial    ┆ … ┆ https://asm ┆             ┆ 100_1_Edito ┆ https://asm │\n",
       "│      ┆        ┆       ┆              ┆   ┆ edigitalcol ┆             ┆ rial.pdf    ┆ edigitalcol │\n",
       "│      ┆        ┆       ┆              ┆   ┆ lection.…   ┆             ┆             ┆ lection.…   │\n",
       "│ 1978 ┆ 100    ┆ 1     ┆ Fatigue Life ┆ … ┆ https://asm ┆ Fatigue lif ┆ 100_1_Fatig ┆ https://asm │\n",
       "│      ┆        ┆       ┆ Prediction   ┆   ┆ edigitalcol ┆ e;Fatigue;F ┆ ue Life     ┆ edigitalcol │\n",
       "│      ┆        ┆       ┆ of Com…      ┆   ┆ lection.…   ┆ atigue a…   ┆ Prediction  ┆ lection.…   │\n",
       "│      ┆        ┆       ┆              ┆   ┆             ┆             ┆ …           ┆             │\n",
       "│ 1978 ┆ 100    ┆ 1     ┆ Dynamic      ┆ … ┆ https://asm ┆ Design;High ┆ 100_1_Dynam ┆ https://asm │\n",
       "│      ┆        ┆       ┆ Severity     ┆   ┆ edigitalcol ┆ cycle fatig ┆ ic Severity ┆ edigitalcol │\n",
       "│      ┆        ┆       ┆ Criterion    ┆   ┆ lection.…   ┆ ue;Stre…    ┆ Criteri…    ┆ lection.…   │\n",
       "│      ┆        ┆       ┆ for…         ┆   ┆             ┆             ┆             ┆             │\n",
       "│ 1978 ┆ 100    ┆ 1     ┆ Wear-Related ┆ … ┆ https://asm ┆ Wear;Nitrid ┆ 100_1_Wear- ┆ https://asm │\n",
       "│      ┆        ┆       ┆ Topography   ┆   ┆ edigitalcol ┆ ing;Composi ┆ Related     ┆ edigitalcol │\n",
       "│      ┆        ┆       ┆ of Ion…      ┆   ┆ lection.…   ┆ te mater…   ┆ Topography  ┆ lection.…   │\n",
       "│      ┆        ┆       ┆              ┆   ┆             ┆             ┆ …           ┆             │\n",
       "│ 1978 ┆ 100    ┆ 1     ┆ Simulation   ┆ … ┆ https://asm ┆ Gears;Reson ┆ 100_1_Simul ┆ https://asm │\n",
       "│      ┆        ┆       ┆ of           ┆   ┆ edigitalcol ┆ ance;Simula ┆ ation of    ┆ edigitalcol │\n",
       "│      ┆        ┆       ┆ Resonances   ┆   ┆ lection.…   ┆ tion;Com…   ┆ Resonances… ┆ lection.…   │\n",
       "│      ┆        ┆       ┆ and I…       ┆   ┆             ┆             ┆             ┆             │\n",
       "│ …    ┆ …      ┆ …     ┆ …            ┆ … ┆ …           ┆ …           ┆ …           ┆ …           │\n",
       "│ 2026 ┆ 148    ┆ 3     ┆ Product      ┆ … ┆ https://asm ┆ Design;Slee ┆ 148_3_Produ ┆ https://asm │\n",
       "│      ┆        ┆       ┆ Dataset      ┆   ┆ edigitalcol ┆ p           ┆ ct Dataset  ┆ edigitalcol │\n",
       "│      ┆        ┆       ┆ Platform:    ┆   ┆ lection.…   ┆             ┆ Platform…   ┆ lection.…   │\n",
       "│      ┆        ┆       ┆ Syst…        ┆   ┆             ┆             ┆             ┆             │\n",
       "│ 2026 ┆ 148    ┆ 3     ┆ Concept      ┆ … ┆ https://asm ┆ Chain;Desig ┆ 148_3_Conce ┆ https://asm │\n",
       "│      ┆        ┆       ┆ Chaining     ┆   ┆ edigitalcol ┆ n           ┆ pt Chaining ┆ edigitalcol │\n",
       "│      ┆        ┆       ┆ Patterns     ┆   ┆ lection.…   ┆             ┆ Pattern…    ┆ lection.…   │\n",
       "│      ┆        ┆       ┆ Duri…        ┆   ┆             ┆             ┆             ┆             │\n",
       "│ 2026 ┆ 148    ┆ 3     ┆ A Quasi-Opti ┆ … ┆ https://asm ┆ Constructio ┆ 148_3_A Qua ┆ https://asm │\n",
       "│      ┆        ┆       ┆ mal Shape    ┆   ┆ edigitalcol ┆ n;Cutting;O ┆ si-Optimal  ┆ edigitalcol │\n",
       "│      ┆        ┆       ┆ Design M…    ┆   ┆ lection.…   ┆ ptimizat…   ┆ Shape De…   ┆ lection.…   │\n",
       "│ 2026 ┆ 148    ┆ 3     ┆ Gradient-Bas ┆ … ┆ https://asm ┆ Design;Opti ┆ 148_3_Gradi ┆ https://asm │\n",
       "│      ┆        ┆       ┆ ed           ┆   ┆ edigitalcol ┆ mization;Pa ┆ ent-Based   ┆ edigitalcol │\n",
       "│      ┆        ┆       ┆ Optimization ┆   ┆ lection.…   ┆ cking (S…   ┆ Optimizat…  ┆ lection.…   │\n",
       "│      ┆        ┆       ┆ of…          ┆   ┆             ┆             ┆             ┆             │\n",
       "│ 2026 ┆ 148    ┆ 3     ┆ Exploring    ┆ … ┆ https://asm ┆ Design;Stud ┆ 148_3_Explo ┆ https://asm │\n",
       "│      ┆        ┆       ┆ the          ┆   ┆ edigitalcol ┆ ents        ┆ ring the    ┆ edigitalcol │\n",
       "│      ┆        ┆       ┆ Influence of ┆   ┆ lection.…   ┆             ┆ Influence … ┆ lection.…   │\n",
       "│      ┆        ┆       ┆ Ref…         ┆   ┆             ┆             ┆             ┆             │\n",
       "└──────┴────────┴───────┴──────────────┴───┴─────────────┴─────────────┴─────────────┴─────────────┘"
      ],
      "text/html": [
       "<div><style>\n",
       ".dataframe > thead > tr,\n",
       ".dataframe > tbody > tr {\n",
       "  text-align: right;\n",
       "  white-space: pre-wrap;\n",
       "}\n",
       "</style>\n",
       "<small>shape: (6_166, 12)</small><table border=\"1\" class=\"dataframe\"><thead><tr><th>year</th><th>volume</th><th>issue</th><th>title</th><th>authors</th><th>doi</th><th>month</th><th>article_url</th><th>pdf_url</th><th>topics</th><th>pdf_filename</th><th>pdf_url_remotexs</th></tr><tr><td>str</td><td>str</td><td>str</td><td>str</td><td>str</td><td>str</td><td>str</td><td>str</td><td>str</td><td>str</td><td>str</td><td>str</td></tr></thead><tbody><tr><td>&quot;1978&quot;</td><td>&quot;100&quot;</td><td>&quot;1&quot;</td><td>&quot;Editorial&quot;</td><td>&quot;Charles W. McLarnan&quot;</td><td>&quot;https://doi.org/10.1115/1.3453…</td><td>&quot;January&quot;</td><td>&quot;https://asmedigitalcollection.…</td><td>&quot;https://asmedigitalcollection.…</td><td>&quot;&quot;</td><td>&quot;100_1_Editorial.pdf&quot;</td><td>&quot;https://asmedigitalcollection.…</td></tr><tr><td>&quot;1978&quot;</td><td>&quot;100&quot;</td><td>&quot;1&quot;</td><td>&quot;Fatigue Life Prediction of Com…</td><td>&quot;B. N. Leis&quot;</td><td>&quot;https://doi.org/10.1115/1.3453…</td><td>&quot;January&quot;</td><td>&quot;https://asmedigitalcollection.…</td><td>&quot;https://asmedigitalcollection.…</td><td>&quot;Fatigue life;Fatigue;Fatigue a…</td><td>&quot;100_1_Fatigue Life Prediction …</td><td>&quot;https://asmedigitalcollection.…</td></tr><tr><td>&quot;1978&quot;</td><td>&quot;100&quot;</td><td>&quot;1&quot;</td><td>&quot;Dynamic Severity Criterion for…</td><td>&quot;G. S. A. Shawki&quot;</td><td>&quot;https://doi.org/10.1115/1.3453…</td><td>&quot;January&quot;</td><td>&quot;https://asmedigitalcollection.…</td><td>&quot;https://asmedigitalcollection.…</td><td>&quot;Design;High cycle fatigue;Stre…</td><td>&quot;100_1_Dynamic Severity Criteri…</td><td>&quot;https://asmedigitalcollection.…</td></tr><tr><td>&quot;1978&quot;</td><td>&quot;100&quot;</td><td>&quot;1&quot;</td><td>&quot;Wear-Related Topography of Ion…</td><td>&quot;D. J. Sturges;S. W. Martin;C. …</td><td>&quot;https://doi.org/10.1115/1.3453…</td><td>&quot;January&quot;</td><td>&quot;https://asmedigitalcollection.…</td><td>&quot;https://asmedigitalcollection.…</td><td>&quot;Wear;Nitriding;Composite mater…</td><td>&quot;100_1_Wear-Related Topography …</td><td>&quot;https://asmedigitalcollection.…</td></tr><tr><td>&quot;1978&quot;</td><td>&quot;100&quot;</td><td>&quot;1&quot;</td><td>&quot;Simulation of Resonances and I…</td><td>&quot;M. Benton;A. Seireg&quot;</td><td>&quot;https://doi.org/10.1115/1.3453…</td><td>&quot;January&quot;</td><td>&quot;https://asmedigitalcollection.…</td><td>&quot;https://asmedigitalcollection.…</td><td>&quot;Gears;Resonance;Simulation;Com…</td><td>&quot;100_1_Simulation of Resonances…</td><td>&quot;https://asmedigitalcollection.…</td></tr><tr><td>&hellip;</td><td>&hellip;</td><td>&hellip;</td><td>&hellip;</td><td>&hellip;</td><td>&hellip;</td><td>&hellip;</td><td>&hellip;</td><td>&hellip;</td><td>&hellip;</td><td>&hellip;</td><td>&hellip;</td></tr><tr><td>&quot;2026&quot;</td><td>&quot;148&quot;</td><td>&quot;3&quot;</td><td>&quot;Product Dataset Platform: Syst…</td><td>&quot;Mohammad Arjomandi Rad;Julian …</td><td>&quot;https://doi.org/10.1115/1.4068…</td><td>&quot;March&quot;</td><td>&quot;https://asmedigitalcollection.…</td><td>&quot;https://asmedigitalcollection.…</td><td>&quot;Design;Sleep&quot;</td><td>&quot;148_3_Product Dataset Platform…</td><td>&quot;https://asmedigitalcollection.…</td></tr><tr><td>&quot;2026&quot;</td><td>&quot;148&quot;</td><td>&quot;3&quot;</td><td>&quot;Concept Chaining Patterns Duri…</td><td>&quot;Madhurima Das;Jessica Meza;Chr…</td><td>&quot;https://doi.org/10.1115/1.4068…</td><td>&quot;March&quot;</td><td>&quot;https://asmedigitalcollection.…</td><td>&quot;https://asmedigitalcollection.…</td><td>&quot;Chain;Design&quot;</td><td>&quot;148_3_Concept Chaining Pattern…</td><td>&quot;https://asmedigitalcollection.…</td></tr><tr><td>&quot;2026&quot;</td><td>&quot;148&quot;</td><td>&quot;3&quot;</td><td>&quot;A Quasi-Optimal Shape Design M…</td><td>&quot;Sifan Chen;Guoyue Luo;Yuan Kon…</td><td>&quot;https://doi.org/10.1115/1.4068…</td><td>&quot;March&quot;</td><td>&quot;https://asmedigitalcollection.…</td><td>&quot;https://asmedigitalcollection.…</td><td>&quot;Construction;Cutting;Optimizat…</td><td>&quot;148_3_A Quasi-Optimal Shape De…</td><td>&quot;https://asmedigitalcollection.…</td></tr><tr><td>&quot;2026&quot;</td><td>&quot;148&quot;</td><td>&quot;3&quot;</td><td>&quot;Gradient-Based Optimization of…</td><td>&quot;Daniel Krsikapa;Il Yong Kim&quot;</td><td>&quot;https://doi.org/10.1115/1.4068…</td><td>&quot;March&quot;</td><td>&quot;https://asmedigitalcollection.…</td><td>&quot;https://asmedigitalcollection.…</td><td>&quot;Design;Optimization;Packing (S…</td><td>&quot;148_3_Gradient-Based Optimizat…</td><td>&quot;https://asmedigitalcollection.…</td></tr><tr><td>&quot;2026&quot;</td><td>&quot;148&quot;</td><td>&quot;3&quot;</td><td>&quot;Exploring the Influence of Ref…</td><td>&quot;Seth Pearl;Nicholas A. Meisel&quot;</td><td>&quot;https://doi.org/10.1115/1.4069…</td><td>&quot;March&quot;</td><td>&quot;https://asmedigitalcollection.…</td><td>&quot;https://asmedigitalcollection.…</td><td>&quot;Design;Students&quot;</td><td>&quot;148_3_Exploring the Influence …</td><td>&quot;https://asmedigitalcollection.…</td></tr></tbody></table></div>"
      ]
     },
     "execution_count": 5,
     "metadata": {},
     "output_type": "execute_result"
    }
   ],
   "execution_count": 5
  },
  {
   "metadata": {
    "ExecuteTime": {
     "end_time": "2025-08-24T11:01:57.340844Z",
     "start_time": "2025-08-24T11:01:57.335731Z"
    }
   },
   "cell_type": "code",
   "source": [
    "pdfs_in_folder = [file for file in asme_path.asme_jmd_pdf.glob('*.pdf')]\n",
    "test_pdf = pdfs_in_folder[10]\n",
    "test_pdf"
   ],
   "id": "9f0807c8fd1558b3",
   "outputs": [
    {
     "data": {
      "text/plain": [
       "WindowsPath('F:/One Drives/OneDrive - Nanyang Technological University/Academics/fyp/data/asme_jmd/pdf/143_10_Geometric Design of the Limaçon-to-Circular Fluid Processing Machine.pdf')"
      ]
     },
     "execution_count": 6,
     "metadata": {},
     "output_type": "execute_result"
    }
   ],
   "execution_count": 6
  },
  {
   "metadata": {
    "ExecuteTime": {
     "end_time": "2025-08-24T11:01:57.398484Z",
     "start_time": "2025-08-24T11:01:57.377979Z"
    }
   },
   "cell_type": "code",
   "source": [
    "import pymupdf\n",
    "with pymupdf.open(test_pdf) as pdf:\n",
    "    text = ''.join(page.get_text('text') for page in pdf)\n",
    "    metadata = pdf.metadata\n",
    "    outline = pdf.get_toc()\n",
    "\n",
    "metadata"
   ],
   "id": "969c2baf5a1020c",
   "outputs": [
    {
     "data": {
      "text/plain": [
       "{'format': 'PDF 1.3',\n",
       " 'title': 'Geometric Design of the Limaçon-to-Circular Fluid Processing Machine',\n",
       " 'author': 'Truong H. Phung, Ibrahim A. Sultan',\n",
       " 'subject': 'Research Paper',\n",
       " 'keywords': 'rotary machine, limaçon-to-circular machine, limaçon machine, limaçon motion; pump, expander, compressor, positive displacement machine, SPSA, design optimization, energy harvesting, energy systems design',\n",
       " 'creator': 'Arbortext Advanced Print Publisher 10.0.1465/W Unicode',\n",
       " 'producer': 'Acrobat Distiller 8.1.0 (Windows); modified using iTextSharp.LGPLv2.Core 3.7.4.0',\n",
       " 'creationDate': \"D:20210429014543+05'30'\",\n",
       " 'modDate': \"D:20250824084847+00'00'\",\n",
       " 'trapped': '',\n",
       " 'encryption': None}"
      ]
     },
     "execution_count": 7,
     "metadata": {},
     "output_type": "execute_result"
    }
   ],
   "execution_count": 7
  },
  {
   "metadata": {
    "ExecuteTime": {
     "end_time": "2025-08-24T12:01:58.883453Z",
     "start_time": "2025-08-24T12:01:38.854476Z"
    }
   },
   "cell_type": "code",
   "source": [
    "pdf_data_dfs :list [pl.DataFrame] = []\n",
    "for pdf_path in pdfs_in_folder:\n",
    "    with pymupdf.open(pdf_path) as pdf:\n",
    "        data = pdf.metadata\n",
    "        data['pdf_filename'] = pdf_path.name\n",
    "        data['text'] = ''.join(page.get_text('text') for page in pdf)\n",
    "        outline = pdf.get_toc()\n",
    "\n",
    "    pdf_data_dfs.append(pl.DataFrame(data))\n",
    "\n",
    "metadata_2011_onwards_df = pl.concat(pdf_data_dfs).select('pdf_filename', 'subject', 'title', 'author', 'keywords', 'text')\n",
    "metadata_2011_onwards_df_path = asme_path.asme_jmd_pdf / '2011_onwards_metadata.parquet'\n",
    "metadata_2011_onwards_df.write_parquet(metadata_2011_onwards_df_path)"
   ],
   "id": "30396198d590ccf4",
   "outputs": [],
   "execution_count": 17
  },
  {
   "metadata": {
    "ExecuteTime": {
     "end_time": "2025-08-24T12:01:58.894454Z",
     "start_time": "2025-08-24T12:01:58.888408Z"
    }
   },
   "cell_type": "code",
   "source": "metadata_2011_onwards_df.join(cluster_url_by_issue_df, on='pdf_filename')",
   "id": "57f9201394df9e26",
   "outputs": [
    {
     "data": {
      "text/plain": [
       "shape: (743, 17)\n",
       "┌───────────┬───────────┬───────────┬───────────┬───┬───────────┬───────────┬───────────┬──────────┐\n",
       "│ pdf_filen ┆ subject   ┆ title     ┆ author    ┆ … ┆ article_u ┆ pdf_url   ┆ topics    ┆ pdf_url_ │\n",
       "│ ame       ┆ ---       ┆ ---       ┆ ---       ┆   ┆ rl        ┆ ---       ┆ ---       ┆ remotexs │\n",
       "│ ---       ┆ str       ┆ str       ┆ str       ┆   ┆ ---       ┆ str       ┆ str       ┆ ---      │\n",
       "│ str       ┆           ┆           ┆           ┆   ┆ str       ┆           ┆           ┆ str      │\n",
       "╞═══════════╪═══════════╪═══════════╪═══════════╪═══╪═══════════╪═══════════╪═══════════╪══════════╡\n",
       "│ 143_1_Inv ┆ Research  ┆ Investiga ┆ Guillermo ┆ … ┆ https://a ┆ https://a ┆ Design;En ┆ https:// │\n",
       "│ estigatio ┆ Paper     ┆ tion of   ┆ F. Diaz   ┆   ┆ smedigita ┆ smedigita ┆ gineering ┆ asmedigi │\n",
       "│ n of      ┆           ┆ Viability ┆ Lankenau, ┆   ┆ lcollecti ┆ lcollecti ┆ prototype ┆ talcolle │\n",
       "│ Viabili…  ┆           ┆ to …      ┆ Am…       ┆   ┆ on.…      ┆ on.…      ┆ s;…       ┆ ction.…  │\n",
       "│ 143_1_Usi ┆ Research  ┆ Using Tec ┆ Minho     ┆ … ┆ https://a ┆ https://a ┆ Design;Pe ┆ https:// │\n",
       "│ ng Techno ┆ Paper     ┆ hnologica ┆ Lee,      ┆   ┆ smedigita ┆ smedigita ┆ rformance ┆ asmedigi │\n",
       "│ logically ┆           ┆ lly       ┆ Dongwook  ┆   ┆ lcollecti ┆ lcollecti ┆ ;Preferen ┆ talcolle │\n",
       "│ Re…       ┆           ┆ Related … ┆ Hwang,    ┆   ┆ on.…      ┆ on.…      ┆ ces…      ┆ ction.…  │\n",
       "│           ┆           ┆           ┆ Yoo…      ┆   ┆           ┆           ┆           ┆          │\n",
       "│ 143_1_Gen ┆ Research  ┆ Generativ ┆ Long      ┆ … ┆ https://a ┆ https://a ┆ Design;Me ┆ https:// │\n",
       "│ erative   ┆ Paper     ┆ e Design  ┆ Jiang,    ┆   ┆ smedigita ┆ smedigita ┆ tamateria ┆ asmedigi │\n",
       "│ Design of ┆           ┆ of Bionic ┆ Xianfeng  ┆   ┆ lcollecti ┆ lcollecti ┆ ls;Optimi ┆ talcolle │\n",
       "│ Bio…      ┆           ┆ St…       ┆ David     ┆   ┆ on.…      ┆ on.…      ┆ zat…      ┆ ction.…  │\n",
       "│           ┆           ┆           ┆ Gu,…      ┆   ┆           ┆           ┆           ┆          │\n",
       "│ 143_1_How ┆ Research  ┆ How       ┆ Daniel    ┆ … ┆ https://a ┆ https://a ┆ Design;Un ┆ https:// │\n",
       "│ Uncertain ┆ Paper     ┆ Uncertain ┆ Hulse,    ┆   ┆ smedigita ┆ smedigita ┆ certainty ┆ asmedigi │\n",
       "│ Is Too    ┆           ┆ Is Too    ┆ Christoph ┆   ┆ lcollecti ┆ lcollecti ┆ ;Risk;Res ┆ talcolle │\n",
       "│ Unc…      ┆           ┆ Uncertain ┆ er Hoyl…  ┆   ┆ on.…      ┆ on.…      ┆ ili…      ┆ ction.…  │\n",
       "│           ┆           ┆ …         ┆           ┆   ┆           ┆           ┆           ┆          │\n",
       "│ 143_1_Par ┆ Research  ┆ Particle  ┆ Yao Chen, ┆ … ┆ https://a ┆ https://a ┆ Design;Op ┆ https:// │\n",
       "│ ticle     ┆ Paper     ┆ Swarm Opt ┆ Jiayi     ┆   ┆ smedigita ┆ smedigita ┆ timizatio ┆ asmedigi │\n",
       "│ Swarm Opt ┆           ┆ imization ┆ Yan, Jian ┆   ┆ lcollecti ┆ lcollecti ┆ n;Particl ┆ talcolle │\n",
       "│ imizat…   ┆           ┆ -Ba…      ┆ Feng…     ┆   ┆ on.…      ┆ on.…      ┆ e s…      ┆ ction.…  │\n",
       "│ …         ┆ …         ┆ …         ┆ …         ┆ … ┆ …         ┆ …         ┆ …         ┆ …        │\n",
       "│ 147_4_Adv ┆ Research  ┆ Advancing ┆ Mahtab    ┆ … ┆ https://a ┆ https://a ┆ Actuators ┆ https:// │\n",
       "│ ancing    ┆ Paper     ┆ Soft      ┆ Behzadfar ┆   ┆ smedigita ┆ smedigita ┆ ;Design;E ┆ asmedigi │\n",
       "│ Soft Robo ┆           ┆ Robotics: ┆ , Yue     ┆   ┆ lcollecti ┆ lcollecti ┆ nergy     ┆ talcolle │\n",
       "│ tics_…    ┆           ┆ A Hig…    ┆ Feng, Ki… ┆   ┆ on.…      ┆ on.…      ┆ effici…   ┆ ction.…  │\n",
       "│ 147_4_Imp ┆ Technical ┆ Importanc ┆ Seyoung   ┆ … ┆ https://a ┆ https://a ┆ Image seg ┆ https:// │\n",
       "│ ortance-I ┆ Brief     ┆ e-Induced ┆ Park,     ┆   ┆ smedigita ┆ smedigita ┆ mentation ┆ asmedigi │\n",
       "│ nduced    ┆           ┆ Customer  ┆ Yilan     ┆   ┆ lcollecti ┆ lcollecti ┆ ;Construc ┆ talcolle │\n",
       "│ Custo…    ┆           ┆ Se…       ┆ Jiang,    ┆   ┆ on.…      ┆ on.…      ┆ tio…      ┆ ction.…  │\n",
       "│           ┆           ┆           ┆ Har…      ┆   ┆           ┆           ┆           ┆          │\n",
       "│ 147_4_MSE ┆ Technical ┆ MSEval: A ┆ Yash      ┆ … ┆ https://a ┆ https://a ┆ Design    ┆ https:// │\n",
       "│ val_ A    ┆ Brief     ┆ Dataset   ┆ Patawari  ┆   ┆ smedigita ┆ smedigita ┆           ┆ asmedigi │\n",
       "│ Dataset   ┆           ┆ for       ┆ Jain,     ┆   ┆ lcollecti ┆ lcollecti ┆           ┆ talcolle │\n",
       "│ for Ma…   ┆           ┆ Material… ┆ Daniele   ┆   ┆ on.…      ┆ on.…      ┆           ┆ ction.…  │\n",
       "│           ┆           ┆           ┆ Gr…       ┆   ┆           ┆           ┆           ┆          │\n",
       "│ 147_4_Loo ┆ Technical ┆ Looking   ┆ Madison   ┆ … ┆ https://a ┆ https://a ┆ Design;St ┆ https:// │\n",
       "│ king      ┆ Brief     ┆ Beyond    ┆ Cass,     ┆   ┆ smedigita ┆ smedigita ┆ ress      ┆ asmedigi │\n",
       "│ Beyond    ┆           ┆ Self-Repo ┆ Rohan     ┆   ┆ lcollecti ┆ lcollecti ┆           ┆ talcolle │\n",
       "│ Self-Repo ┆           ┆ rted C…   ┆ Prabhu    ┆   ┆ on.…      ┆ on.…      ┆           ┆ ction.…  │\n",
       "│ …         ┆           ┆           ┆           ┆   ┆           ┆           ┆           ┆          │\n",
       "│ 147_4_HM- ┆ Technical ┆ HM-SYNC:  ┆ John      ┆ … ┆ https://a ┆ https://a ┆ Design;Ma ┆ https:// │\n",
       "│ SYNC_ A   ┆ Brief     ┆ A Multimo ┆ Martins,  ┆   ┆ smedigita ┆ smedigita ┆ chinery;M ┆ asmedigi │\n",
       "│ Multimoda ┆           ┆ dal       ┆ Cheyu     ┆   ┆ lcollecti ┆ lcollecti ┆ anufactur ┆ talcolle │\n",
       "│ l Da…     ┆           ┆ Dataset … ┆ Lin,      ┆   ┆ on.…      ┆ on.…      ┆ ing…      ┆ ction.…  │\n",
       "│           ┆           ┆           ┆ Kathe…    ┆   ┆           ┆           ┆           ┆          │\n",
       "└───────────┴───────────┴───────────┴───────────┴───┴───────────┴───────────┴───────────┴──────────┘"
      ],
      "text/html": [
       "<div><style>\n",
       ".dataframe > thead > tr,\n",
       ".dataframe > tbody > tr {\n",
       "  text-align: right;\n",
       "  white-space: pre-wrap;\n",
       "}\n",
       "</style>\n",
       "<small>shape: (743, 17)</small><table border=\"1\" class=\"dataframe\"><thead><tr><th>pdf_filename</th><th>subject</th><th>title</th><th>author</th><th>keywords</th><th>text</th><th>year</th><th>volume</th><th>issue</th><th>title_right</th><th>authors</th><th>doi</th><th>month</th><th>article_url</th><th>pdf_url</th><th>topics</th><th>pdf_url_remotexs</th></tr><tr><td>str</td><td>str</td><td>str</td><td>str</td><td>str</td><td>str</td><td>str</td><td>str</td><td>str</td><td>str</td><td>str</td><td>str</td><td>str</td><td>str</td><td>str</td><td>str</td><td>str</td></tr></thead><tbody><tr><td>&quot;143_1_Investigation of Viabili…</td><td>&quot;Research Paper&quot;</td><td>&quot;Investigation of Viability to …</td><td>&quot;Guillermo F. Diaz Lankenau, Am…</td><td>&quot;conceptual design; creativity …</td><td>&quot;Guillermo F. Diaz Lankenau1\n",
       "Gl…</td><td>&quot;2021&quot;</td><td>&quot;143&quot;</td><td>&quot;1&quot;</td><td>&quot;Investigation of Viability to …</td><td>&quot;Guillermo F. Diaz Lankenau;Amo…</td><td>&quot;https://doi.org/10.1115/1.4047…</td><td>&quot;January&quot;</td><td>&quot;https://asmedigitalcollection.…</td><td>&quot;https://asmedigitalcollection.…</td><td>&quot;Design;Engineering prototypes;…</td><td>&quot;https://asmedigitalcollection.…</td></tr><tr><td>&quot;143_1_Using Technologically Re…</td><td>&quot;Research Paper&quot;</td><td>&quot;Using Technologically Related …</td><td>&quot;Minho Lee, Dongwook Hwang, Yoo…</td><td>&quot;brainstorming; creativity; ide…</td><td>&quot;Minho Lee\n",
       "Department of Indust…</td><td>&quot;2021&quot;</td><td>&quot;143&quot;</td><td>&quot;1&quot;</td><td>&quot;Using Technologically Related …</td><td>&quot;Minho Lee;Dongwook Hwang;Yoonj…</td><td>&quot;https://doi.org/10.1115/1.4047…</td><td>&quot;January&quot;</td><td>&quot;https://asmedigitalcollection.…</td><td>&quot;https://asmedigitalcollection.…</td><td>&quot;Design;Performance;Preferences…</td><td>&quot;https://asmedigitalcollection.…</td></tr><tr><td>&quot;143_1_Generative Design of Bio…</td><td>&quot;Research Paper&quot;</td><td>&quot;Generative Design of Bionic St…</td><td>&quot;Long Jiang, Xianfeng David Gu,…</td><td>&quot;computational geometry; comput…</td><td>&quot;Long Jiang\n",
       "Department of Mecha…</td><td>&quot;2021&quot;</td><td>&quot;143&quot;</td><td>&quot;1&quot;</td><td>&quot;Generative Design of Bionic St…</td><td>&quot;Long Jiang;Xianfeng David Gu;S…</td><td>&quot;https://doi.org/10.1115/1.4047…</td><td>&quot;January&quot;</td><td>&quot;https://asmedigitalcollection.…</td><td>&quot;https://asmedigitalcollection.…</td><td>&quot;Design;Metamaterials;Optimizat…</td><td>&quot;https://asmedigitalcollection.…</td></tr><tr><td>&quot;143_1_How Uncertain Is Too Unc…</td><td>&quot;Research Paper&quot;</td><td>&quot;How Uncertain Is Too Uncertain…</td><td>&quot;Daniel Hulse, Christopher Hoyl…</td><td>&quot;functional reasoning; systems …</td><td>&quot;Daniel Hulse\n",
       "School of Mechani…</td><td>&quot;2021&quot;</td><td>&quot;143&quot;</td><td>&quot;1&quot;</td><td>&quot;How Uncertain Is Too Uncertain…</td><td>&quot;Daniel Hulse;Christopher Hoyle…</td><td>&quot;https://doi.org/10.1115/1.4047…</td><td>&quot;January&quot;</td><td>&quot;https://asmedigitalcollection.…</td><td>&quot;https://asmedigitalcollection.…</td><td>&quot;Design;Uncertainty;Risk;Resili…</td><td>&quot;https://asmedigitalcollection.…</td></tr><tr><td>&quot;143_1_Particle Swarm Optimizat…</td><td>&quot;Research Paper&quot;</td><td>&quot;Particle Swarm Optimization-Ba…</td><td>&quot;Yao Chen, Jiayi Yan, Jian Feng…</td><td>&quot;origami; flat-foldability; par…</td><td>&quot;Yao Chen1\n",
       "Associate Professor\n",
       "…</td><td>&quot;2021&quot;</td><td>&quot;143&quot;</td><td>&quot;1&quot;</td><td>&quot;Particle Swarm Optimization-Ba…</td><td>&quot;Yao Chen;Jiayi Yan;Jian Feng;P…</td><td>&quot;https://doi.org/10.1115/1.4047…</td><td>&quot;January&quot;</td><td>&quot;https://asmedigitalcollection.…</td><td>&quot;https://asmedigitalcollection.…</td><td>&quot;Design;Optimization;Particle s…</td><td>&quot;https://asmedigitalcollection.…</td></tr><tr><td>&hellip;</td><td>&hellip;</td><td>&hellip;</td><td>&hellip;</td><td>&hellip;</td><td>&hellip;</td><td>&hellip;</td><td>&hellip;</td><td>&hellip;</td><td>&hellip;</td><td>&hellip;</td><td>&hellip;</td><td>&hellip;</td><td>&hellip;</td><td>&hellip;</td><td>&hellip;</td><td>&hellip;</td></tr><tr><td>&quot;147_4_Advancing Soft Robotics_…</td><td>&quot;Research Paper&quot;</td><td>&quot;Advancing Soft Robotics: A Hig…</td><td>&quot;Mahtab Behzadfar, Yue Feng, Ki…</td><td>&quot;bio-inspired design; soft robo…</td><td>&quot;Mahtab Behzadfar\n",
       "School of Mec…</td><td>&quot;2025&quot;</td><td>&quot;147&quot;</td><td>&quot;4&quot;</td><td>&quot;Advancing Soft Robotics: A Hig…</td><td>&quot;Mahtab Behzadfar;Yue Feng;Ki-Y…</td><td>&quot;https://doi.org/10.1115/1.4068…</td><td>&quot;April&quot;</td><td>&quot;https://asmedigitalcollection.…</td><td>&quot;https://asmedigitalcollection.…</td><td>&quot;Actuators;Design;Energy effici…</td><td>&quot;https://asmedigitalcollection.…</td></tr><tr><td>&quot;147_4_Importance-Induced Custo…</td><td>&quot;Technical Brief&quot;</td><td>&quot;Importance-Induced Customer Se…</td><td>&quot;Seyoung Park, Yilan Jiang, Har…</td><td>&quot;text mining; customer networks…</td><td>&quot;Importance-Induced Customer\n",
       "Se…</td><td>&quot;2025&quot;</td><td>&quot;147&quot;</td><td>&quot;4&quot;</td><td>&quot;Importance-Induced Customer Se…</td><td>&quot;Seyoung Park;Yilan Jiang;Harri…</td><td>&quot;https://doi.org/10.1115/1.4066…</td><td>&quot;April&quot;</td><td>&quot;https://asmedigitalcollection.…</td><td>&quot;https://asmedigitalcollection.…</td><td>&quot;Image segmentation;Constructio…</td><td>&quot;https://asmedigitalcollection.…</td></tr><tr><td>&quot;147_4_MSEval_ A Dataset for Ma…</td><td>&quot;Technical Brief&quot;</td><td>&quot;MSEval: A Dataset for Material…</td><td>&quot;Yash Patawari Jain, Daniele Gr…</td><td>&quot;data-driven design; machine le…</td><td>&quot;MSEval: A Dataset for Material…</td><td>&quot;2025&quot;</td><td>&quot;147&quot;</td><td>&quot;4&quot;</td><td>&quot;MSEval: A Dataset for Material…</td><td>&quot;Yash Patawari Jain;Daniele Gra…</td><td>&quot;https://doi.org/10.1115/1.4067…</td><td>&quot;April&quot;</td><td>&quot;https://asmedigitalcollection.…</td><td>&quot;https://asmedigitalcollection.…</td><td>&quot;Design&quot;</td><td>&quot;https://asmedigitalcollection.…</td></tr><tr><td>&quot;147_4_Looking Beyond Self-Repo…</td><td>&quot;Technical Brief&quot;</td><td>&quot;Looking Beyond Self-Reported C…</td><td>&quot;Madison Cass, Rohan Prabhu&quot;</td><td>&quot;cognitive load; pupil diameter…</td><td>&quot;Looking Beyond Self-Reported\n",
       "C…</td><td>&quot;2025&quot;</td><td>&quot;147&quot;</td><td>&quot;4&quot;</td><td>&quot;Looking Beyond Self-Reported C…</td><td>&quot;Madison Cass;Rohan Prabhu&quot;</td><td>&quot;https://doi.org/10.1115/1.4067…</td><td>&quot;April&quot;</td><td>&quot;https://asmedigitalcollection.…</td><td>&quot;https://asmedigitalcollection.…</td><td>&quot;Design;Stress&quot;</td><td>&quot;https://asmedigitalcollection.…</td></tr><tr><td>&quot;147_4_HM-SYNC_ A Multimodal Da…</td><td>&quot;Technical Brief&quot;</td><td>&quot;HM-SYNC: A Multimodal Dataset …</td><td>&quot;John Martins, Cheyu Lin, Kathe…</td><td>&quot;advanced manufacturing; datase…</td><td>&quot;HM-SYNC: A Multimodal Dataset\n",
       "…</td><td>&quot;2025&quot;</td><td>&quot;147&quot;</td><td>&quot;4&quot;</td><td>&quot;HM-SYNC: A Multimodal Dataset …</td><td>&quot;John Martins;Cheyu Lin;Katheri…</td><td>&quot;https://doi.org/10.1115/1.4067…</td><td>&quot;April&quot;</td><td>&quot;https://asmedigitalcollection.…</td><td>&quot;https://asmedigitalcollection.…</td><td>&quot;Design;Machinery;Manufacturing…</td><td>&quot;https://asmedigitalcollection.…</td></tr></tbody></table></div>"
      ]
     },
     "execution_count": 18,
     "metadata": {},
     "output_type": "execute_result"
    }
   ],
   "execution_count": 18
  }
 ],
 "metadata": {
  "kernelspec": {
   "display_name": "Python 3",
   "language": "python",
   "name": "python3"
  },
  "language_info": {
   "codemirror_mode": {
    "name": "ipython",
    "version": 2
   },
   "file_extension": ".py",
   "mimetype": "text/x-python",
   "name": "python",
   "nbconvert_exporter": "python",
   "pygments_lexer": "ipython2",
   "version": "2.7.6"
  }
 },
 "nbformat": 4,
 "nbformat_minor": 5
}
