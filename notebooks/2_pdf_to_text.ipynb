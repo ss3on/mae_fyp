{
 "cells": [
  {
   "cell_type": "code",
   "id": "initial_id",
   "metadata": {
    "collapsed": true,
    "ExecuteTime": {
     "end_time": "2025-08-31T02:39:23.098936Z",
     "start_time": "2025-08-31T02:39:22.789589Z"
    }
   },
   "source": [
    "import polars as pl\n",
    "from pathlib import Path\n",
    "from src.file_handling import file_location\n",
    "\n",
    "folder_path = file_location.FileLocation()\n",
    "root_path = folder_path.root\n",
    "data_path = root_path.parent.parent / 'fyp' / 'data'\n",
    "\n",
    "asme_path = file_location.FolderPathOfASME(data_path)\n",
    "jmd_bare_paper_infor_path = asme_path.asme_jmd_pdf / 'jmd_papers_bare_infor.parquet'\n",
    "\n",
    "cluster_url_by_issue_df = pl.read_parquet(jmd_bare_paper_infor_path)\n",
    "\n",
    "cluster_url_by_issue_df"
   ],
   "outputs": [
    {
     "data": {
      "text/plain": [
       "shape: (6_166, 13)\n",
       "┌──────┬────────┬───────┬──────────────┬───┬─────────────┬─────────────┬─────────────┬─────────────┐\n",
       "│ year ┆ volume ┆ issue ┆ title        ┆ … ┆ topics      ┆ doi_filenam ┆ pdf_url_rem ┆ article_url │\n",
       "│ ---  ┆ ---    ┆ ---   ┆ ---          ┆   ┆ ---         ┆ e           ┆ otexs       ┆ _remotexs   │\n",
       "│ str  ┆ str    ┆ str   ┆ str          ┆   ┆ str         ┆ ---         ┆ ---         ┆ ---         │\n",
       "│      ┆        ┆       ┆              ┆   ┆             ┆ str         ┆ str         ┆ str         │\n",
       "╞══════╪════════╪═══════╪══════════════╪═══╪═════════════╪═════════════╪═════════════╪═════════════╡\n",
       "│ 1978 ┆ 100    ┆ 1     ┆ Editorial    ┆ … ┆             ┆ doi_10.1115 ┆ https://asm ┆ https://asm │\n",
       "│      ┆        ┆       ┆              ┆   ┆             ┆ _1.3453887  ┆ edigitalcol ┆ edigitalcol │\n",
       "│      ┆        ┆       ┆              ┆   ┆             ┆             ┆ lection.…   ┆ lection.…   │\n",
       "│ 1978 ┆ 100    ┆ 1     ┆ Fatigue Life ┆ … ┆ Fatigue lif ┆ doi_10.1115 ┆ https://asm ┆ https://asm │\n",
       "│      ┆        ┆       ┆ Prediction   ┆   ┆ e;Fatigue;F ┆ _1.3453889  ┆ edigitalcol ┆ edigitalcol │\n",
       "│      ┆        ┆       ┆ of Com…      ┆   ┆ atigue a…   ┆             ┆ lection.…   ┆ lection.…   │\n",
       "│ 1978 ┆ 100    ┆ 1     ┆ Dynamic      ┆ … ┆ Design;High ┆ doi_10.1115 ┆ https://asm ┆ https://asm │\n",
       "│      ┆        ┆       ┆ Severity     ┆   ┆ cycle fatig ┆ _1.3453874  ┆ edigitalcol ┆ edigitalcol │\n",
       "│      ┆        ┆       ┆ Criterion    ┆   ┆ ue;Stre…    ┆             ┆ lection.…   ┆ lection.…   │\n",
       "│      ┆        ┆       ┆ for…         ┆   ┆             ┆             ┆             ┆             │\n",
       "│ 1978 ┆ 100    ┆ 1     ┆ Wear-Related ┆ … ┆ Wear;Nitrid ┆ doi_10.1115 ┆ https://asm ┆ https://asm │\n",
       "│      ┆        ┆       ┆ Topography   ┆   ┆ ing;Composi ┆ _1.3453882  ┆ edigitalcol ┆ edigitalcol │\n",
       "│      ┆        ┆       ┆ of Ion…      ┆   ┆ te mater…   ┆             ┆ lection.…   ┆ lection.…   │\n",
       "│ 1978 ┆ 100    ┆ 1     ┆ Simulation   ┆ … ┆ Gears;Reson ┆ doi_10.1115 ┆ https://asm ┆ https://asm │\n",
       "│      ┆        ┆       ┆ of           ┆   ┆ ance;Simula ┆ _1.3453888  ┆ edigitalcol ┆ edigitalcol │\n",
       "│      ┆        ┆       ┆ Resonances   ┆   ┆ tion;Com…   ┆             ┆ lection.…   ┆ lection.…   │\n",
       "│      ┆        ┆       ┆ and I…       ┆   ┆             ┆             ┆             ┆             │\n",
       "│ …    ┆ …      ┆ …     ┆ …            ┆ … ┆ …           ┆ …           ┆ …           ┆ …           │\n",
       "│ 2026 ┆ 148    ┆ 3     ┆ Product      ┆ … ┆ Design;Slee ┆ doi_10.1115 ┆ https://asm ┆ https://asm │\n",
       "│      ┆        ┆       ┆ Dataset      ┆   ┆ p           ┆ _1.4068755  ┆ edigitalcol ┆ edigitalcol │\n",
       "│      ┆        ┆       ┆ Platform:    ┆   ┆             ┆             ┆ lection.…   ┆ lection.…   │\n",
       "│      ┆        ┆       ┆ Syst…        ┆   ┆             ┆             ┆             ┆             │\n",
       "│ 2026 ┆ 148    ┆ 3     ┆ Concept      ┆ … ┆ Chain;Desig ┆ doi_10.1115 ┆ https://asm ┆ https://asm │\n",
       "│      ┆        ┆       ┆ Chaining     ┆   ┆ n           ┆ _1.4068983  ┆ edigitalcol ┆ edigitalcol │\n",
       "│      ┆        ┆       ┆ Patterns     ┆   ┆             ┆             ┆ lection.…   ┆ lection.…   │\n",
       "│      ┆        ┆       ┆ Duri…        ┆   ┆             ┆             ┆             ┆             │\n",
       "│ 2026 ┆ 148    ┆ 3     ┆ A Quasi-Opti ┆ … ┆ Constructio ┆ doi_10.1115 ┆ https://asm ┆ https://asm │\n",
       "│      ┆        ┆       ┆ mal Shape    ┆   ┆ n;Cutting;O ┆ _1.4068955  ┆ edigitalcol ┆ edigitalcol │\n",
       "│      ┆        ┆       ┆ Design M…    ┆   ┆ ptimizat…   ┆             ┆ lection.…   ┆ lection.…   │\n",
       "│ 2026 ┆ 148    ┆ 3     ┆ Gradient-Bas ┆ … ┆ Design;Opti ┆ doi_10.1115 ┆ https://asm ┆ https://asm │\n",
       "│      ┆        ┆       ┆ ed           ┆   ┆ mization;Pa ┆ _1.4068793  ┆ edigitalcol ┆ edigitalcol │\n",
       "│      ┆        ┆       ┆ Optimization ┆   ┆ cking (S…   ┆             ┆ lection.…   ┆ lection.…   │\n",
       "│      ┆        ┆       ┆ of…          ┆   ┆             ┆             ┆             ┆             │\n",
       "│ 2026 ┆ 148    ┆ 3     ┆ Exploring    ┆ … ┆ Design;Stud ┆ doi_10.1115 ┆ https://asm ┆ https://asm │\n",
       "│      ┆        ┆       ┆ the          ┆   ┆ ents        ┆ _1.4069040  ┆ edigitalcol ┆ edigitalcol │\n",
       "│      ┆        ┆       ┆ Influence of ┆   ┆             ┆             ┆ lection.…   ┆ lection.…   │\n",
       "│      ┆        ┆       ┆ Ref…         ┆   ┆             ┆             ┆             ┆             │\n",
       "└──────┴────────┴───────┴──────────────┴───┴─────────────┴─────────────┴─────────────┴─────────────┘"
      ],
      "text/html": [
       "<div><style>\n",
       ".dataframe > thead > tr,\n",
       ".dataframe > tbody > tr {\n",
       "  text-align: right;\n",
       "  white-space: pre-wrap;\n",
       "}\n",
       "</style>\n",
       "<small>shape: (6_166, 13)</small><table border=\"1\" class=\"dataframe\"><thead><tr><th>year</th><th>volume</th><th>issue</th><th>title</th><th>authors</th><th>doi</th><th>month</th><th>article_url</th><th>pdf_url</th><th>topics</th><th>doi_filename</th><th>pdf_url_remotexs</th><th>article_url_remotexs</th></tr><tr><td>str</td><td>str</td><td>str</td><td>str</td><td>str</td><td>str</td><td>str</td><td>str</td><td>str</td><td>str</td><td>str</td><td>str</td><td>str</td></tr></thead><tbody><tr><td>&quot;1978&quot;</td><td>&quot;100&quot;</td><td>&quot;1&quot;</td><td>&quot;Editorial&quot;</td><td>&quot;Charles W. McLarnan&quot;</td><td>&quot;https://doi.org/10.1115/1.3453…</td><td>&quot;January&quot;</td><td>&quot;https://asmedigitalcollection.…</td><td>&quot;https://asmedigitalcollection.…</td><td>&quot;&quot;</td><td>&quot;doi_10.1115_1.3453887&quot;</td><td>&quot;https://asmedigitalcollection.…</td><td>&quot;https://asmedigitalcollection.…</td></tr><tr><td>&quot;1978&quot;</td><td>&quot;100&quot;</td><td>&quot;1&quot;</td><td>&quot;Fatigue Life Prediction of Com…</td><td>&quot;B. N. Leis&quot;</td><td>&quot;https://doi.org/10.1115/1.3453…</td><td>&quot;January&quot;</td><td>&quot;https://asmedigitalcollection.…</td><td>&quot;https://asmedigitalcollection.…</td><td>&quot;Fatigue life;Fatigue;Fatigue a…</td><td>&quot;doi_10.1115_1.3453889&quot;</td><td>&quot;https://asmedigitalcollection.…</td><td>&quot;https://asmedigitalcollection.…</td></tr><tr><td>&quot;1978&quot;</td><td>&quot;100&quot;</td><td>&quot;1&quot;</td><td>&quot;Dynamic Severity Criterion for…</td><td>&quot;G. S. A. Shawki&quot;</td><td>&quot;https://doi.org/10.1115/1.3453…</td><td>&quot;January&quot;</td><td>&quot;https://asmedigitalcollection.…</td><td>&quot;https://asmedigitalcollection.…</td><td>&quot;Design;High cycle fatigue;Stre…</td><td>&quot;doi_10.1115_1.3453874&quot;</td><td>&quot;https://asmedigitalcollection.…</td><td>&quot;https://asmedigitalcollection.…</td></tr><tr><td>&quot;1978&quot;</td><td>&quot;100&quot;</td><td>&quot;1&quot;</td><td>&quot;Wear-Related Topography of Ion…</td><td>&quot;D. J. Sturges;S. W. Martin;C. …</td><td>&quot;https://doi.org/10.1115/1.3453…</td><td>&quot;January&quot;</td><td>&quot;https://asmedigitalcollection.…</td><td>&quot;https://asmedigitalcollection.…</td><td>&quot;Wear;Nitriding;Composite mater…</td><td>&quot;doi_10.1115_1.3453882&quot;</td><td>&quot;https://asmedigitalcollection.…</td><td>&quot;https://asmedigitalcollection.…</td></tr><tr><td>&quot;1978&quot;</td><td>&quot;100&quot;</td><td>&quot;1&quot;</td><td>&quot;Simulation of Resonances and I…</td><td>&quot;M. Benton;A. Seireg&quot;</td><td>&quot;https://doi.org/10.1115/1.3453…</td><td>&quot;January&quot;</td><td>&quot;https://asmedigitalcollection.…</td><td>&quot;https://asmedigitalcollection.…</td><td>&quot;Gears;Resonance;Simulation;Com…</td><td>&quot;doi_10.1115_1.3453888&quot;</td><td>&quot;https://asmedigitalcollection.…</td><td>&quot;https://asmedigitalcollection.…</td></tr><tr><td>&hellip;</td><td>&hellip;</td><td>&hellip;</td><td>&hellip;</td><td>&hellip;</td><td>&hellip;</td><td>&hellip;</td><td>&hellip;</td><td>&hellip;</td><td>&hellip;</td><td>&hellip;</td><td>&hellip;</td><td>&hellip;</td></tr><tr><td>&quot;2026&quot;</td><td>&quot;148&quot;</td><td>&quot;3&quot;</td><td>&quot;Product Dataset Platform: Syst…</td><td>&quot;Mohammad Arjomandi Rad;Julian …</td><td>&quot;https://doi.org/10.1115/1.4068…</td><td>&quot;March&quot;</td><td>&quot;https://asmedigitalcollection.…</td><td>&quot;https://asmedigitalcollection.…</td><td>&quot;Design;Sleep&quot;</td><td>&quot;doi_10.1115_1.4068755&quot;</td><td>&quot;https://asmedigitalcollection.…</td><td>&quot;https://asmedigitalcollection.…</td></tr><tr><td>&quot;2026&quot;</td><td>&quot;148&quot;</td><td>&quot;3&quot;</td><td>&quot;Concept Chaining Patterns Duri…</td><td>&quot;Madhurima Das;Jessica Meza;Chr…</td><td>&quot;https://doi.org/10.1115/1.4068…</td><td>&quot;March&quot;</td><td>&quot;https://asmedigitalcollection.…</td><td>&quot;https://asmedigitalcollection.…</td><td>&quot;Chain;Design&quot;</td><td>&quot;doi_10.1115_1.4068983&quot;</td><td>&quot;https://asmedigitalcollection.…</td><td>&quot;https://asmedigitalcollection.…</td></tr><tr><td>&quot;2026&quot;</td><td>&quot;148&quot;</td><td>&quot;3&quot;</td><td>&quot;A Quasi-Optimal Shape Design M…</td><td>&quot;Sifan Chen;Guoyue Luo;Yuan Kon…</td><td>&quot;https://doi.org/10.1115/1.4068…</td><td>&quot;March&quot;</td><td>&quot;https://asmedigitalcollection.…</td><td>&quot;https://asmedigitalcollection.…</td><td>&quot;Construction;Cutting;Optimizat…</td><td>&quot;doi_10.1115_1.4068955&quot;</td><td>&quot;https://asmedigitalcollection.…</td><td>&quot;https://asmedigitalcollection.…</td></tr><tr><td>&quot;2026&quot;</td><td>&quot;148&quot;</td><td>&quot;3&quot;</td><td>&quot;Gradient-Based Optimization of…</td><td>&quot;Daniel Krsikapa;Il Yong Kim&quot;</td><td>&quot;https://doi.org/10.1115/1.4068…</td><td>&quot;March&quot;</td><td>&quot;https://asmedigitalcollection.…</td><td>&quot;https://asmedigitalcollection.…</td><td>&quot;Design;Optimization;Packing (S…</td><td>&quot;doi_10.1115_1.4068793&quot;</td><td>&quot;https://asmedigitalcollection.…</td><td>&quot;https://asmedigitalcollection.…</td></tr><tr><td>&quot;2026&quot;</td><td>&quot;148&quot;</td><td>&quot;3&quot;</td><td>&quot;Exploring the Influence of Ref…</td><td>&quot;Seth Pearl;Nicholas A. Meisel&quot;</td><td>&quot;https://doi.org/10.1115/1.4069…</td><td>&quot;March&quot;</td><td>&quot;https://asmedigitalcollection.…</td><td>&quot;https://asmedigitalcollection.…</td><td>&quot;Design;Students&quot;</td><td>&quot;doi_10.1115_1.4069040&quot;</td><td>&quot;https://asmedigitalcollection.…</td><td>&quot;https://asmedigitalcollection.…</td></tr></tbody></table></div>"
      ]
     },
     "execution_count": 1,
     "metadata": {},
     "output_type": "execute_result"
    }
   ],
   "execution_count": 1
  },
  {
   "metadata": {
    "ExecuteTime": {
     "end_time": "2025-08-31T02:39:23.134966Z",
     "start_time": "2025-08-31T02:39:23.120025Z"
    }
   },
   "cell_type": "code",
   "source": [
    "pdfs_in_folder = [file for file in asme_path.asme_jmd_pdf.glob('*.pdf')]\n",
    "test_pdf = pdfs_in_folder[10]\n",
    "test_pdf"
   ],
   "id": "9f0807c8fd1558b3",
   "outputs": [
    {
     "data": {
      "text/plain": [
       "WindowsPath('F:/One Drives/OneDrive - Nanyang Technological University/Academics/fyp/data/asme_jmd/pdf/doi_10.1115_1.1288216.pdf')"
      ]
     },
     "execution_count": 2,
     "metadata": {},
     "output_type": "execute_result"
    }
   ],
   "execution_count": 2
  },
  {
   "metadata": {
    "ExecuteTime": {
     "end_time": "2025-08-31T02:39:23.927461Z",
     "start_time": "2025-08-31T02:39:23.164407Z"
    }
   },
   "cell_type": "code",
   "source": [
    "import pymupdf\n",
    "with pymupdf.open(test_pdf) as pdf:\n",
    "    text = ''.join(page.get_text('text') for page in pdf)\n",
    "    metadata = pdf.metadata\n",
    "    outline = pdf.get_toc()\n",
    "\n",
    "metadata"
   ],
   "id": "969c2baf5a1020c",
   "outputs": [
    {
     "data": {
      "text/plain": [
       "{'format': 'PDF 1.2',\n",
       " 'title': 'Using ASME format',\n",
       " 'author': '',\n",
       " 'subject': '',\n",
       " 'keywords': '',\n",
       " 'creator': 'Parlance Publisher 5.0/(Xyvision Postscript Formatter) 3.0 3',\n",
       " 'producer': 'Acrobat Distiller Daemon 3.02b for Solaris 2.3 and later (SPARC); modified using iTextSharp 4.1.6 by 1T3XT',\n",
       " 'creationDate': 'D:20000830142124 ',\n",
       " 'modDate': \"D:20220518030308+00'00'\",\n",
       " 'trapped': '',\n",
       " 'encryption': None}"
      ]
     },
     "execution_count": 3,
     "metadata": {},
     "output_type": "execute_result"
    }
   ],
   "execution_count": 3
  },
  {
   "metadata": {
    "ExecuteTime": {
     "end_time": "2025-08-31T02:41:28.731481Z",
     "start_time": "2025-08-31T02:41:28.729051Z"
    }
   },
   "cell_type": "code",
   "source": "len(pdfs_in_folder)",
   "id": "b7963dc1680bf663",
   "outputs": [
    {
     "data": {
      "text/plain": [
       "6309"
      ]
     },
     "execution_count": 6,
     "metadata": {},
     "output_type": "execute_result"
    }
   ],
   "execution_count": 6
  },
  {
   "metadata": {
    "ExecuteTime": {
     "end_time": "2025-08-31T03:56:13.756412Z",
     "start_time": "2025-08-31T03:54:17.762048Z"
    }
   },
   "cell_type": "code",
   "source": [
    "pdf_data_dfs :list [pl.DataFrame] = []\n",
    "for pdf_path in pdfs_in_folder:\n",
    "    with pymupdf.open(pdf_path) as pdf:\n",
    "        data = pdf.metadata\n",
    "        data['doi_filename'] = pdf_path.name.replace('.pdf','')\n",
    "        data['text'] = ''.join(page.get_text('text') for page in pdf)\n",
    "        outline = pdf.get_toc()\n",
    "\n",
    "    pdf_data_dfs.append(pl.DataFrame(data))\n",
    "\n",
    "metadata_df = pl.concat(pdf_data_dfs).select('doi_filename', 'subject', 'title', 'author', 'keywords', 'text')\n",
    "metadata_df_path = asme_path.asme_jmd_pdf / 'pymupdf_metadata.parquet'\n",
    "metadata_df.write_parquet(metadata_df_path)"
   ],
   "id": "30396198d590ccf4",
   "outputs": [],
   "execution_count": 99
  },
  {
   "metadata": {
    "ExecuteTime": {
     "end_time": "2025-08-31T04:08:19.373511Z",
     "start_time": "2025-08-31T04:08:19.369382Z"
    }
   },
   "cell_type": "code",
   "source": "metadata_df.filter(pl.col('keywords') == '')",
   "id": "c2732f21f9f86ee6",
   "outputs": [
    {
     "data": {
      "text/plain": [
       "shape: (5_321, 6)\n",
       "┌───────────────────────┬─────────┬───────────────────┬────────┬──────────┬──────────────────────┐\n",
       "│ doi_filename          ┆ subject ┆ title             ┆ author ┆ keywords ┆ text                 │\n",
       "│ ---                   ┆ ---     ┆ ---               ┆ ---    ┆ ---      ┆ ---                  │\n",
       "│ str                   ┆ str     ┆ str               ┆ str    ┆ str      ┆ str                  │\n",
       "╞═══════════════════════╪═════════╪═══════════════════╪════════╪══════════╪══════════════════════╡\n",
       "│ doi_10.1115_1.1286084 ┆         ┆ Using ASME format ┆        ┆          ┆ Jason W. Rauchfuss   │\n",
       "│                       ┆         ┆                   ┆        ┆          ┆ Graduate St…         │\n",
       "│ doi_10.1115_1.1286124 ┆         ┆ Using ASME format ┆        ┆          ┆ Hermann J. Stadtfeld │\n",
       "│                       ┆         ┆                   ┆        ┆          ┆ Vice Pres…           │\n",
       "│ doi_10.1115_1.1286188 ┆         ┆ Using ASME format ┆        ┆          ┆ Y. Yao               │\n",
       "│                       ┆         ┆                   ┆        ┆          ┆ A. Z. Qamhiyah       │\n",
       "│                       ┆         ┆                   ┆        ┆          ┆ X. D. Fa…            │\n",
       "│ doi_10.1115_1.1286189 ┆         ┆ Using ASME format ┆        ┆          ┆ Robert G. Parker1    │\n",
       "│                       ┆         ┆                   ┆        ┆          ┆ Associate Pr…        │\n",
       "│ doi_10.1115_1.1286236 ┆         ┆ Using ASME format ┆        ┆          ┆ Norio Ito            │\n",
       "│                       ┆         ┆                   ┆        ┆          ┆ Professor            │\n",
       "│                       ┆         ┆                   ┆        ┆          ┆ Department…          │\n",
       "│ …                     ┆ …       ┆ …                 ┆ …      ┆ …        ┆ …                    │\n",
       "│ doi_10.1115_1.533570  ┆         ┆ Using ASME format ┆        ┆          ┆ Journal of           │\n",
       "│                       ┆         ┆                   ┆        ┆          ┆ Mechanical           │\n",
       "│                       ┆         ┆                   ┆        ┆          ┆ Design               │\n",
       "│                       ┆         ┆                   ┆        ┆          ┆ B…                   │\n",
       "│ doi_10.1115_1.533571  ┆         ┆ Using ASME format ┆        ┆          ┆ Journal of           │\n",
       "│                       ┆         ┆                   ┆        ┆          ┆ Mechanical           │\n",
       "│                       ┆         ┆                   ┆        ┆          ┆ Design               │\n",
       "│                       ┆         ┆                   ┆        ┆          ┆ T…                   │\n",
       "│ doi_10.1115_1.533572  ┆         ┆ Using ASME format ┆        ┆          ┆ Journal of           │\n",
       "│                       ┆         ┆                   ┆        ┆          ┆ Mechanical           │\n",
       "│                       ┆         ┆                   ┆        ┆          ┆ Design               │\n",
       "│                       ┆         ┆                   ┆        ┆          ┆ T…                   │\n",
       "│ doi_10.1115_1.533573  ┆         ┆ Using ASME format ┆        ┆          ┆ Journal of           │\n",
       "│                       ┆         ┆                   ┆        ┆          ┆ Mechanical           │\n",
       "│                       ┆         ┆                   ┆        ┆          ┆ Design               │\n",
       "│                       ┆         ┆                   ┆        ┆          ┆ T…                   │\n",
       "│ hen                   ┆         ┆                   ┆        ┆          ┆ Roelof Vos           │\n",
       "│                       ┆         ┆                   ┆        ┆          ┆ Assistant Professor… │\n",
       "└───────────────────────┴─────────┴───────────────────┴────────┴──────────┴──────────────────────┘"
      ],
      "text/html": [
       "<div><style>\n",
       ".dataframe > thead > tr,\n",
       ".dataframe > tbody > tr {\n",
       "  text-align: right;\n",
       "  white-space: pre-wrap;\n",
       "}\n",
       "</style>\n",
       "<small>shape: (5_321, 6)</small><table border=\"1\" class=\"dataframe\"><thead><tr><th>doi_filename</th><th>subject</th><th>title</th><th>author</th><th>keywords</th><th>text</th></tr><tr><td>str</td><td>str</td><td>str</td><td>str</td><td>str</td><td>str</td></tr></thead><tbody><tr><td>&quot;doi_10.1115_1.1286084&quot;</td><td>&quot;&quot;</td><td>&quot;Using ASME format&quot;</td><td>&quot;&quot;</td><td>&quot;&quot;</td><td>&quot;Jason W. Rauchfuss\n",
       "Graduate St…</td></tr><tr><td>&quot;doi_10.1115_1.1286124&quot;</td><td>&quot;&quot;</td><td>&quot;Using ASME format&quot;</td><td>&quot;&quot;</td><td>&quot;&quot;</td><td>&quot;Hermann J. Stadtfeld\n",
       "Vice Pres…</td></tr><tr><td>&quot;doi_10.1115_1.1286188&quot;</td><td>&quot;&quot;</td><td>&quot;Using ASME format&quot;</td><td>&quot;&quot;</td><td>&quot;&quot;</td><td>&quot;Y. Yao\n",
       "A. Z. Qamhiyah\n",
       "X. D. Fa…</td></tr><tr><td>&quot;doi_10.1115_1.1286189&quot;</td><td>&quot;&quot;</td><td>&quot;Using ASME format&quot;</td><td>&quot;&quot;</td><td>&quot;&quot;</td><td>&quot;Robert G. Parker1\n",
       "Associate Pr…</td></tr><tr><td>&quot;doi_10.1115_1.1286236&quot;</td><td>&quot;&quot;</td><td>&quot;Using ASME format&quot;</td><td>&quot;&quot;</td><td>&quot;&quot;</td><td>&quot;Norio Ito\n",
       "Professor\n",
       "Department…</td></tr><tr><td>&hellip;</td><td>&hellip;</td><td>&hellip;</td><td>&hellip;</td><td>&hellip;</td><td>&hellip;</td></tr><tr><td>&quot;doi_10.1115_1.533570&quot;</td><td>&quot;&quot;</td><td>&quot;Using ASME format&quot;</td><td>&quot;&quot;</td><td>&quot;&quot;</td><td>&quot;Journal of\n",
       "Mechanical\n",
       "Design\n",
       "B…</td></tr><tr><td>&quot;doi_10.1115_1.533571&quot;</td><td>&quot;&quot;</td><td>&quot;Using ASME format&quot;</td><td>&quot;&quot;</td><td>&quot;&quot;</td><td>&quot;Journal of\n",
       "Mechanical\n",
       "Design\n",
       "T…</td></tr><tr><td>&quot;doi_10.1115_1.533572&quot;</td><td>&quot;&quot;</td><td>&quot;Using ASME format&quot;</td><td>&quot;&quot;</td><td>&quot;&quot;</td><td>&quot;Journal of\n",
       "Mechanical\n",
       "Design\n",
       "T…</td></tr><tr><td>&quot;doi_10.1115_1.533573&quot;</td><td>&quot;&quot;</td><td>&quot;Using ASME format&quot;</td><td>&quot;&quot;</td><td>&quot;&quot;</td><td>&quot;Journal of\n",
       "Mechanical\n",
       "Design\n",
       "T…</td></tr><tr><td>&quot;hen&quot;</td><td>&quot;&quot;</td><td>&quot;&quot;</td><td>&quot;&quot;</td><td>&quot;&quot;</td><td>&quot;Roelof Vos\n",
       "Assistant Professor…</td></tr></tbody></table></div>"
      ]
     },
     "execution_count": 101,
     "metadata": {},
     "output_type": "execute_result"
    }
   ],
   "execution_count": 101
  },
  {
   "metadata": {},
   "cell_type": "code",
   "source": [
    "test_pdf_path = asme_path.asme_jmd_pdf / (\"doi_10.1115_1.3453887\" + \".pdf\")\n",
    "with pymupdf.open(test_pdf_path) as _pdf:\n",
    "    pages_text = [page.get_text('text') for page in _pdf]\n",
    "pages_text"
   ],
   "id": "7dc3773901b03b71",
   "outputs": [],
   "execution_count": null
  },
  {
   "metadata": {},
   "cell_type": "markdown",
   "source": [
    "### Public space for the user community of Semantic Scholar APIs to share scripts, report issues, and make suggestions.\n",
    "https://github.com/allenai/s2-folks\n",
    "\n",
    "https://www.semanticscholar.org/product/api\n",
    "\n",
    "requesting api key\n",
    "limited to 1 request per second\n"
   ],
   "id": "e228caac177e0691"
  },
  {
   "metadata": {},
   "cell_type": "code",
   "source": [
    "import requests\n",
    "import json\n",
    "import os\n",
    "\"\"\"\"\n",
    "# Fetch API key from environment variables\n",
    "api_key = os.getenv(\"S2_API_KEY\")\n",
    "if not api_key:\n",
    "    raise EnvironmentError(\"S2_API_KEY environment variable not set.\")\n",
    "\n",
    "# Set up the headers with the API key\n",
    "headers = {\n",
    "    \"x-api-key\": api_key\n",
    "}\n",
    "\"\"\"\n",
    "# Specify the author_id and the fields you want to fetch\n",
    "author_id = \"1741101\"\n",
    "fields = \"authorId,name,papers.paperId,papers.title,papers.abstract,papers.authors\"\n",
    "\n",
    "# Make the GET request to fetch author details with the specified fields\n",
    "r = requests.get(\n",
    "    f'https://api.semanticscholar.org/graph/v1/author/{author_id}',\n",
    "    params={'fields': fields}\n",
    ")\n",
    "\n",
    "# Check if the request was successful\n",
    "if r.status_code == 200:\n",
    "    print(json.dumps(r.json(), indent=2))\n",
    "else:\n",
    "    print(f\"Error: {r.status_code}\")\n",
    "    if r.text:\n",
    "        print(json.dumps(r.json(), indent=2))\n",
    "    else:\n",
    "        print(\"No additional error information is provided.\")\n"
   ],
   "id": "dd0d47aa75e55731",
   "outputs": [],
   "execution_count": null
  },
  {
   "metadata": {
    "ExecuteTime": {
     "end_time": "2025-08-31T03:51:01.305687Z",
     "start_time": "2025-08-31T03:51:01.297009Z"
    }
   },
   "cell_type": "code",
   "source": [
    "df = (\n",
    "    pl.DataFrame(r.json())\n",
    "      .unnest('papers')\n",
    "      .with_row_index()\n",
    "      .explode('authors')  # authors: list[struct] -> struct per row\n",
    "      .with_columns(\n",
    "          pl.col('authors').struct.field('authorId').alias('authors_authorId'),\n",
    "          pl.col('authors').struct.field('name').alias('authors_name'),\n",
    "          # add more fields as needed, each with a prefix\n",
    "      )\n",
    "      .drop('authors')  # remove the struct after extracting fields\n",
    "      .group_by('index', maintain_order=True)\n",
    "      .all()\n",
    ")\n",
    "df"
   ],
   "id": "5a397af0e2ac849e",
   "outputs": [
    {
     "data": {
      "text/plain": [
       "shape: (257, 9)\n",
       "┌───────┬────────────┬────────────┬────────────┬───┬───────────┬───────────┬───────────┬───────────┐\n",
       "│ index ┆ authorId   ┆ name       ┆ paperId    ┆ … ┆ openAcces ┆ abstract  ┆ authors_a ┆ authors_n │\n",
       "│ ---   ┆ ---        ┆ ---        ┆ ---        ┆   ┆ sPdf      ┆ ---       ┆ uthorId   ┆ ame       │\n",
       "│ u32   ┆ list[str]  ┆ list[str]  ┆ list[str]  ┆   ┆ ---       ┆ list[str] ┆ ---       ┆ ---       │\n",
       "│       ┆            ┆            ┆            ┆   ┆ list[stru ┆           ┆ list[str] ┆ list[str] │\n",
       "│       ┆            ┆            ┆            ┆   ┆ ct[4]]    ┆           ┆           ┆           │\n",
       "╞═══════╪════════════╪════════════╪════════════╪═══╪═══════════╪═══════════╪═══════════╪═══════════╡\n",
       "│ 0     ┆ [\"1741101\" ┆ [\"Oren     ┆ [\"cb92a7f9 ┆ … ┆ [{\"http:/ ┆ [\"The     ┆ [\"1439678 ┆ [\"Rodney  │\n",
       "│       ┆ ,          ┆ Etzioni\",  ┆ d9dbcf9145 ┆   ┆ /arxiv.or ┆ volume of ┆ 80\", \"166 ┆ Michael   │\n",
       "│       ┆ \"1741101\", ┆ \"Oren      ┆ e32fdfa0e7 ┆   ┆ g/pdf/230 ┆ scientifi ┆ 7818755\", ┆ Kinney\",  │\n",
       "│       ┆ … \"1741…   ┆ Etzioni…   ┆ …          ┆   ┆ 1.1…      ┆ c out…    ┆ … …       ┆ \"Chl…     │\n",
       "│ 1     ┆ [\"1741101\" ┆ [\"Oren     ┆ [\"6c5c6f88 ┆ … ┆ [{\"\",null ┆ [\"Enablin ┆ [\"2041698 ┆ [\"Tom     │\n",
       "│       ┆ ,          ┆ Etzioni\",  ┆ 3604a3abaa ┆   ┆ ,null,\"No ┆ g researc ┆ 667\", \"14 ┆ Hope\",    │\n",
       "│       ┆ \"1741101\", ┆ \"Oren      ┆ 829b83d295 ┆   ┆ tice:     ┆ hers to   ┆ 5612610\", ┆ \"Doug     │\n",
       "│       ┆ … \"1741…   ┆ Etzioni…   ┆ …          ┆   ┆ Paper …   ┆ leve…     ┆ … …       ┆ Downey\",  │\n",
       "│       ┆            ┆            ┆            ┆   ┆           ┆           ┆           ┆ … …       │\n",
       "│ 2     ┆ [\"1741101\" ┆ [\"Oren     ┆ [\"b4916c49 ┆ … ┆ [{\"https: ┆ [\"In      ┆ [\"1448481 ┆ [\"P.      │\n",
       "│       ┆ ,          ┆ Etzioni\",  ┆ 7d996ad214 ┆   ┆ //arxiv.o ┆ September ┆ 12\", \"724 ┆ Stone\",   │\n",
       "│       ┆ \"1741101\", ┆ \"Oren      ┆ 33a8fda701 ┆   ┆ rg/pdf/22 ┆ 2016, Sta ┆ 19159\", … ┆ \"R.       │\n",
       "│       ┆ … \"1741…   ┆ Etzioni…   ┆ …          ┆   ┆ 11.…      ┆ nford'…   ┆ \"2…       ┆ Brooks\",  │\n",
       "│       ┆            ┆            ┆            ┆   ┆           ┆           ┆           ┆ … \"A…     │\n",
       "│ 3     ┆ [\"1741101\" ┆ [\"Oren     ┆ [\"d49cf805 ┆ … ┆ [{\"https: ┆ [\"The     ┆ [\"1725561 ┆ [\"Michael │\n",
       "│       ┆ ,          ┆ Etzioni\",  ┆ bcef60f206 ┆   ┆ //ojs.aaa ┆ past      ┆ \", \"47393 ┆ J. Cafare │\n",
       "│       ┆ \"1741101\", ┆ \"Oren      ┆ bca60d7315 ┆   ┆ i.org/ind ┆ decade    ┆ 354\", …   ┆ lla\",     │\n",
       "│       ┆ … \"1741…   ┆ Etzioni…   ┆ …          ┆   ┆ ex.…      ┆ has       ┆ \"471…     ┆ \"Mich…    │\n",
       "│       ┆            ┆            ┆            ┆   ┆           ┆ witnesse… ┆           ┆           │\n",
       "│ 4     ┆ [\"1741101\" ┆ [\"Oren     ┆ [\"116c1cf1 ┆ … ┆ [{\"\",null ┆ [null]    ┆ [\"1741101 ┆ [\"Oren    │\n",
       "│       ┆ ]          ┆ Etzioni\"]  ┆ 650648d854 ┆   ┆ ,null,\"No ┆           ┆ \"]        ┆ Etzioni\"] │\n",
       "│       ┆            ┆            ┆ 0520984981 ┆   ┆ tice:     ┆           ┆           ┆           │\n",
       "│       ┆            ┆            ┆ …          ┆   ┆ Paper …   ┆           ┆           ┆           │\n",
       "│ …     ┆ …          ┆ …          ┆ …          ┆ … ┆ …         ┆ …         ┆ …         ┆ …         │\n",
       "│ 252   ┆ [\"1741101\" ┆ [\"Oren     ┆ [\"9c3d46de ┆ … ┆ [{\"\",\"CLO ┆ [null]    ┆ [\"1741101 ┆ [\"Oren    │\n",
       "│       ┆ ]          ┆ Etzioni\"]  ┆ bd7d9f2713 ┆   ┆ SED\",null ┆           ┆ \"]        ┆ Etzioni\"] │\n",
       "│       ┆            ┆            ┆ 3d19b668c8 ┆   ┆ ,\"Notice: ┆           ┆           ┆           │\n",
       "│       ┆            ┆            ┆ …          ┆   ┆ Th…       ┆           ┆           ┆           │\n",
       "│ 253   ┆ [\"1741101\" ┆ [\"Oren     ┆ [\"5ed61e1c ┆ … ┆ [{\"\",\"CLO ┆ [null,    ┆ [\"1452934 ┆ [\"Steven  │\n",
       "│       ┆ ,          ┆ Etzioni\",  ┆ 641e90d3bb ┆   ┆ SED\",null ┆ null, …   ┆ 54\", \"143 ┆ Minton\",  │\n",
       "│       ┆ \"1741101\", ┆ \"Oren      ┆ 6504a25129 ┆   ┆ ,\"Notice: ┆ null]     ┆ 712374\",  ┆ \"J.       │\n",
       "│       ┆ … \"1741…   ┆ Etzioni…   ┆ …          ┆   ┆ Th…       ┆           ┆ … \"…      ┆ Carbonel… │\n",
       "│ 254   ┆ [\"1741101\" ┆ [\"Oren     ┆ [\"4cff70ad ┆ … ┆ [{\"\",null ┆ [null,    ┆ [\"6938863 ┆ [\"S.      │\n",
       "│       ┆ ,          ┆ Etzioni\",  ┆ f24e70a2dc ┆   ┆ ,null,nul ┆ null, …   ┆ 2\", \"1437 ┆ Minton\",  │\n",
       "│       ┆ \"1741101\", ┆ \"Oren      ┆ 88e1c3eedc ┆   ┆ l},       ┆ null]     ┆ 12374\", … ┆ \"J. Carbo │\n",
       "│       ┆ … \"1741…   ┆ Etzioni…   ┆ …          ┆   ┆ {\"\",null… ┆           ┆ \"2…       ┆ nell\", …  │\n",
       "│ 255   ┆ [\"1741101\" ┆ [\"Oren     ┆ [\"aa76c4ae ┆ … ┆ [{\"\",null ┆ [null,    ┆ [\"4119256 ┆ [\"A.      │\n",
       "│       ┆ ,          ┆ Etzioni\",  ┆ 41add6ed34 ┆   ┆ ,null,nul ┆ null]     ┆ 1\", \"1741 ┆ Popescu\", │\n",
       "│       ┆ \"1741101\"] ┆ \"Oren      ┆ 496f588254 ┆   ┆ l},       ┆           ┆ 101\"]     ┆ \"Oren     │\n",
       "│       ┆            ┆ Etzioni…   ┆ …          ┆   ┆ {\"\",null… ┆           ┆           ┆ Etzioni\"] │\n",
       "│ 256   ┆ [\"1741101\" ┆ [\"Oren     ┆ [\"e49901a6 ┆ … ┆ [{\"\",null ┆ [null]    ┆ [\"1741101 ┆ [\"Oren    │\n",
       "│       ┆ ]          ┆ Etzioni\"]  ┆ 9f7724cee2 ┆   ┆ ,null,nul ┆           ┆ \"]        ┆ Etzioni\"] │\n",
       "│       ┆            ┆            ┆ 733d00e7b1 ┆   ┆ l}]       ┆           ┆           ┆           │\n",
       "│       ┆            ┆            ┆ …          ┆   ┆           ┆           ┆           ┆           │\n",
       "└───────┴────────────┴────────────┴────────────┴───┴───────────┴───────────┴───────────┴───────────┘"
      ],
      "text/html": [
       "<div><style>\n",
       ".dataframe > thead > tr,\n",
       ".dataframe > tbody > tr {\n",
       "  text-align: right;\n",
       "  white-space: pre-wrap;\n",
       "}\n",
       "</style>\n",
       "<small>shape: (257, 9)</small><table border=\"1\" class=\"dataframe\"><thead><tr><th>index</th><th>authorId</th><th>name</th><th>paperId</th><th>title</th><th>openAccessPdf</th><th>abstract</th><th>authors_authorId</th><th>authors_name</th></tr><tr><td>u32</td><td>list[str]</td><td>list[str]</td><td>list[str]</td><td>list[str]</td><td>list[struct[4]]</td><td>list[str]</td><td>list[str]</td><td>list[str]</td></tr></thead><tbody><tr><td>0</td><td>[&quot;1741101&quot;, &quot;1741101&quot;, … &quot;1741101&quot;]</td><td>[&quot;Oren Etzioni&quot;, &quot;Oren Etzioni&quot;, … &quot;Oren Etzioni&quot;]</td><td>[&quot;cb92a7f9d9dbcf9145e32fdfa0e70e2a6b828eb1&quot;, &quot;cb92a7f9d9dbcf9145e32fdfa0e70e2a6b828eb1&quot;, … &quot;cb92a7f9d9dbcf9145e32fdfa0e70e2a6b828eb1&quot;]</td><td>[&quot;The Semantic Scholar Open Data Platform&quot;, &quot;The Semantic Scholar Open Data Platform&quot;, … &quot;The Semantic Scholar Open Data Platform&quot;]</td><td>[{&quot;http://arxiv.org/pdf/2301.10140&quot;,&quot;CLOSED&quot;,null,&quot;Notice: Paper or abstract available at https://arxiv.org/abs/2301.10140, which is subject to the license by the author or copyright owner provided with this content. Please go to the source to verify the license and copyright information for your use.&quot;}, {&quot;http://arxiv.org/pdf/2301.10140&quot;,&quot;CLOSED&quot;,null,&quot;Notice: Paper or abstract available at https://arxiv.org/abs/2301.10140, which is subject to the license by the author or copyright owner provided with this content. Please go to the source to verify the license and copyright information for your use.&quot;}, … {&quot;http://arxiv.org/pdf/2301.10140&quot;,&quot;CLOSED&quot;,null,&quot;Notice: Paper or abstract available at https://arxiv.org/abs/2301.10140, which is subject to the license by the author or copyright owner provided with this content. Please go to the source to verify the license and copyright information for your use.&quot;}]</td><td>[&quot;The volume of scientific output is creating an urgent need for automated tools to help scientists keep up with developments in their field. Semantic Scholar (S2) is an open data platform and website aimed at accelerating science by helping scholars discover and understand scientific literature. We combine public and proprietary data sources using state-of-theart techniques for scholarly PDF content extraction and automatic knowledge graph construction to build the Semantic Scholar Academic Graph, the largest open scientific literature graph to-date, with 200M+ papers, 80M+ authors, 550M+ paper-authorship edges, and 2.4B+ citation edges. The graph includes advanced semantic features such as structurally parsed text, natural language summaries, and vector embeddings. In this paper, we describe the components of the S2 data processing pipeline and the associated APIs offered by the platform. We will update this living document to reflect changes as we add new data offerings and improve existing services.&quot;, &quot;The volume of scientific output is creating an urgent need for automated tools to help scientists keep up with developments in their field. Semantic Scholar (S2) is an open data platform and website aimed at accelerating science by helping scholars discover and understand scientific literature. We combine public and proprietary data sources using state-of-theart techniques for scholarly PDF content extraction and automatic knowledge graph construction to build the Semantic Scholar Academic Graph, the largest open scientific literature graph to-date, with 200M+ papers, 80M+ authors, 550M+ paper-authorship edges, and 2.4B+ citation edges. The graph includes advanced semantic features such as structurally parsed text, natural language summaries, and vector embeddings. In this paper, we describe the components of the S2 data processing pipeline and the associated APIs offered by the platform. We will update this living document to reflect changes as we add new data offerings and improve existing services.&quot;, … &quot;The volume of scientific output is creating an urgent need for automated tools to help scientists keep up with developments in their field. Semantic Scholar (S2) is an open data platform and website aimed at accelerating science by helping scholars discover and understand scientific literature. We combine public and proprietary data sources using state-of-theart techniques for scholarly PDF content extraction and automatic knowledge graph construction to build the Semantic Scholar Academic Graph, the largest open scientific literature graph to-date, with 200M+ papers, 80M+ authors, 550M+ paper-authorship edges, and 2.4B+ citation edges. The graph includes advanced semantic features such as structurally parsed text, natural language summaries, and vector embeddings. In this paper, we describe the components of the S2 data processing pipeline and the associated APIs offered by the platform. We will update this living document to reflect changes as we add new data offerings and improve existing services.&quot;]</td><td>[&quot;143967880&quot;, &quot;1667818755&quot;, … &quot;1780531&quot;]</td><td>[&quot;Rodney Michael Kinney&quot;, &quot;Chloe Anastasiades&quot;, … &quot;Daniel S. Weld&quot;]</td></tr><tr><td>1</td><td>[&quot;1741101&quot;, &quot;1741101&quot;, … &quot;1741101&quot;]</td><td>[&quot;Oren Etzioni&quot;, &quot;Oren Etzioni&quot;, … &quot;Oren Etzioni&quot;]</td><td>[&quot;6c5c6f883604a3abaa829b83d2958de8c343beeb&quot;, &quot;6c5c6f883604a3abaa829b83d2958de8c343beeb&quot;, … &quot;6c5c6f883604a3abaa829b83d2958de8c343beeb&quot;]</td><td>[&quot;A Computational Inflection for Scientific Discovery&quot;, &quot;A Computational Inflection for Scientific Discovery&quot;, … &quot;A Computational Inflection for Scientific Discovery&quot;]</td><td>[{&quot;&quot;,null,null,&quot;Notice: Paper or abstract available at https://arxiv.org/abs/2205.02007, which is subject to the license by the author or copyright owner provided with this content. Please go to the source to verify the license and copyright information for your use.&quot;}, {&quot;&quot;,null,null,&quot;Notice: Paper or abstract available at https://arxiv.org/abs/2205.02007, which is subject to the license by the author or copyright owner provided with this content. Please go to the source to verify the license and copyright information for your use.&quot;}, … {&quot;&quot;,null,null,&quot;Notice: Paper or abstract available at https://arxiv.org/abs/2205.02007, which is subject to the license by the author or copyright owner provided with this content. Please go to the source to verify the license and copyright information for your use.&quot;}]</td><td>[&quot;Enabling researchers to leverage systems to overcome the limits of human cognitive capacity.&quot;, &quot;Enabling researchers to leverage systems to overcome the limits of human cognitive capacity.&quot;, … &quot;Enabling researchers to leverage systems to overcome the limits of human cognitive capacity.&quot;]</td><td>[&quot;2041698667&quot;, &quot;145612610&quot;, … &quot;145479841&quot;]</td><td>[&quot;Tom Hope&quot;, &quot;Doug Downey&quot;, … &quot;E. Horvitz&quot;]</td></tr><tr><td>2</td><td>[&quot;1741101&quot;, &quot;1741101&quot;, … &quot;1741101&quot;]</td><td>[&quot;Oren Etzioni&quot;, &quot;Oren Etzioni&quot;, … &quot;Oren Etzioni&quot;]</td><td>[&quot;b4916c497d996ad21433a8fda701b6306b0854cd&quot;, &quot;b4916c497d996ad21433a8fda701b6306b0854cd&quot;, … &quot;b4916c497d996ad21433a8fda701b6306b0854cd&quot;]</td><td>[&quot;Artificial Intelligence and Life in 2030: The One Hundred Year Study on Artificial Intelligence&quot;, &quot;Artificial Intelligence and Life in 2030: The One Hundred Year Study on Artificial Intelligence&quot;, … &quot;Artificial Intelligence and Life in 2030: The One Hundred Year Study on Artificial Intelligence&quot;]</td><td>[{&quot;https://arxiv.org/pdf/2211.06318&quot;,&quot;GREEN&quot;,null,&quot;Notice: Paper or abstract available at https://arxiv.org/abs/2211.06318, which is subject to the license by the author or copyright owner provided with this content. Please go to the source to verify the license and copyright information for your use.&quot;}, {&quot;https://arxiv.org/pdf/2211.06318&quot;,&quot;GREEN&quot;,null,&quot;Notice: Paper or abstract available at https://arxiv.org/abs/2211.06318, which is subject to the license by the author or copyright owner provided with this content. Please go to the source to verify the license and copyright information for your use.&quot;}, … {&quot;https://arxiv.org/pdf/2211.06318&quot;,&quot;GREEN&quot;,null,&quot;Notice: Paper or abstract available at https://arxiv.org/abs/2211.06318, which is subject to the license by the author or copyright owner provided with this content. Please go to the source to verify the license and copyright information for your use.&quot;}]</td><td>[&quot;In September 2016, Stanford&#x27;s&quot;One Hundred Year Study on Artificial Intelligence&quot;project (AI100) issued the first report of its planned long-term periodic assessment of artificial intelligence (AI) and its impact on society. It was written by a panel of 17 study authors, each of whom is deeply rooted in AI research, chaired by Peter Stone of the University of Texas at Austin. The report, entitled&quot;Artificial Intelligence and Life in 2030,&quot;examines eight domains of typical urban settings on which AI is likely to have impact over the coming years: transportation, home and service robots, healthcare, education, public safety and security, low-resource communities, employment and workplace, and entertainment. It aims to provide the general public with a scientifically and technologically accurate portrayal of the current state of AI and its potential and to help guide decisions in industry and governments, as well as to inform research and development in the field. The charge for this report was given to the panel by the AI100 Standing Committee, chaired by Barbara Grosz of Harvard University.&quot;, &quot;In September 2016, Stanford&#x27;s&quot;One Hundred Year Study on Artificial Intelligence&quot;project (AI100) issued the first report of its planned long-term periodic assessment of artificial intelligence (AI) and its impact on society. It was written by a panel of 17 study authors, each of whom is deeply rooted in AI research, chaired by Peter Stone of the University of Texas at Austin. The report, entitled&quot;Artificial Intelligence and Life in 2030,&quot;examines eight domains of typical urban settings on which AI is likely to have impact over the coming years: transportation, home and service robots, healthcare, education, public safety and security, low-resource communities, employment and workplace, and entertainment. It aims to provide the general public with a scientifically and technologically accurate portrayal of the current state of AI and its potential and to help guide decisions in industry and governments, as well as to inform research and development in the field. The charge for this report was given to the panel by the AI100 Standing Committee, chaired by Barbara Grosz of Harvard University.&quot;, … &quot;In September 2016, Stanford&#x27;s&quot;One Hundred Year Study on Artificial Intelligence&quot;project (AI100) issued the first report of its planned long-term periodic assessment of artificial intelligence (AI) and its impact on society. It was written by a panel of 17 study authors, each of whom is deeply rooted in AI research, chaired by Peter Stone of the University of Texas at Austin. The report, entitled&quot;Artificial Intelligence and Life in 2030,&quot;examines eight domains of typical urban settings on which AI is likely to have impact over the coming years: transportation, home and service robots, healthcare, education, public safety and security, low-resource communities, employment and workplace, and entertainment. It aims to provide the general public with a scientifically and technologically accurate portrayal of the current state of AI and its potential and to help guide decisions in industry and governments, as well as to inform research and development in the field. The charge for this report was given to the panel by the AI100 Standing Committee, chaired by Barbara Grosz of Harvard University.&quot;]</td><td>[&quot;144848112&quot;, &quot;72419159&quot;, … &quot;2862181&quot;]</td><td>[&quot;P. Stone&quot;, &quot;R. Brooks&quot;, … &quot;Astro Teller&quot;]</td></tr><tr><td>3</td><td>[&quot;1741101&quot;, &quot;1741101&quot;, … &quot;1741101&quot;]</td><td>[&quot;Oren Etzioni&quot;, &quot;Oren Etzioni&quot;, … &quot;Oren Etzioni&quot;]</td><td>[&quot;d49cf805bcef60f206bca60d7315f6e52217b44f&quot;, &quot;d49cf805bcef60f206bca60d7315f6e52217b44f&quot;, … &quot;d49cf805bcef60f206bca60d7315f6e52217b44f&quot;]</td><td>[&quot;Infrastructure for Rapid Open Knowledge Network Development&quot;, &quot;Infrastructure for Rapid Open Knowledge Network Development&quot;, … &quot;Infrastructure for Rapid Open Knowledge Network Development&quot;]</td><td>[{&quot;https://ojs.aaai.org/index.php/aimagazine/article/download/19126/18895&quot;,&quot;BRONZE&quot;,null,&quot;Notice: Paper or abstract available at https://api.unpaywall.org/v2/10.1609/aimag.v43i1.19126?email=&lt;INSERT_YOUR_EMAIL&gt; or https://doi.org/10.1609/aimag.v43i1.19126, which is subject to the license by the author or copyright owner provided with this content. Please go to the source to verify the license and copyright information for your use.&quot;}, {&quot;https://ojs.aaai.org/index.php/aimagazine/article/download/19126/18895&quot;,&quot;BRONZE&quot;,null,&quot;Notice: Paper or abstract available at https://api.unpaywall.org/v2/10.1609/aimag.v43i1.19126?email=&lt;INSERT_YOUR_EMAIL&gt; or https://doi.org/10.1609/aimag.v43i1.19126, which is subject to the license by the author or copyright owner provided with this content. Please go to the source to verify the license and copyright information for your use.&quot;}, … {&quot;https://ojs.aaai.org/index.php/aimagazine/article/download/19126/18895&quot;,&quot;BRONZE&quot;,null,&quot;Notice: Paper or abstract available at https://api.unpaywall.org/v2/10.1609/aimag.v43i1.19126?email=&lt;INSERT_YOUR_EMAIL&gt; or https://doi.org/10.1609/aimag.v43i1.19126, which is subject to the license by the author or copyright owner provided with this content. Please go to the source to verify the license and copyright information for your use.&quot;}]</td><td>[&quot;The past decade has witnessed a growth in the use of knowledge graph technologies for advanced data search, data integration, and query-answering applications. The leading example of a public, general-purpose open knowledge network (aka knowledge graph) is Wikidata, which has demonstrated remarkable advances in quality and coverage over this time. Proprietary knowledge graphs drive some of the leading applications of the day including, for example, Google Search, Alexa, Siri, and Cortana. Open Knowledge Networks are exciting: they promise the power of structured database-like queries with the potential for the wide coverage that is today only provided by the Web. With the current state of the art, building, using, and scaling large knowledge networks can still be frustratingly slow. This article describes a National Science Foundation Convergence Accelerator project to build a set of Knowledge Network Programming Infrastructure systems to address this issue.&quot;, &quot;The past decade has witnessed a growth in the use of knowledge graph technologies for advanced data search, data integration, and query-answering applications. The leading example of a public, general-purpose open knowledge network (aka knowledge graph) is Wikidata, which has demonstrated remarkable advances in quality and coverage over this time. Proprietary knowledge graphs drive some of the leading applications of the day including, for example, Google Search, Alexa, Siri, and Cortana. Open Knowledge Networks are exciting: they promise the power of structured database-like queries with the potential for the wide coverage that is today only provided by the Web. With the current state of the art, building, using, and scaling large knowledge networks can still be frustratingly slow. This article describes a National Science Foundation Convergence Accelerator project to build a set of Knowledge Network Programming Infrastructure systems to address this issue.&quot;, … &quot;The past decade has witnessed a growth in the use of knowledge graph technologies for advanced data search, data integration, and query-answering applications. The leading example of a public, general-purpose open knowledge network (aka knowledge graph) is Wikidata, which has demonstrated remarkable advances in quality and coverage over this time. Proprietary knowledge graphs drive some of the leading applications of the day including, for example, Google Search, Alexa, Siri, and Cortana. Open Knowledge Networks are exciting: they promise the power of structured database-like queries with the potential for the wide coverage that is today only provided by the Web. With the current state of the art, building, using, and scaling large knowledge networks can still be frustratingly slow. This article describes a National Science Foundation Convergence Accelerator project to build a set of Knowledge Network Programming Infrastructure systems to address this issue.&quot;]</td><td>[&quot;1725561&quot;, &quot;47393354&quot;, … &quot;47114531&quot;]</td><td>[&quot;Michael J. Cafarella&quot;, &quot;Michael R. Anderson&quot;, … &quot;Jiayun Zou&quot;]</td></tr><tr><td>4</td><td>[&quot;1741101&quot;]</td><td>[&quot;Oren Etzioni&quot;]</td><td>[&quot;116c1cf1650648d85405209849816cb6e0b8a13f&quot;]</td><td>[&quot;Can Virtual Communities Be Real?&quot;]</td><td>[{&quot;&quot;,null,null,&quot;Notice: Paper or abstract available at https://api.unpaywall.org/v2/10.2307/J.CTV19FVXXK.8?email=&lt;INSERT_YOUR_EMAIL&gt; or https://doi.org/10.2307/J.CTV19FVXXK.8, which is subject to the license by the author or copyright owner provided with this content. Please go to the source to verify the license and copyright information for your use.&quot;}]</td><td>[null]</td><td>[&quot;1741101&quot;]</td><td>[&quot;Oren Etzioni&quot;]</td></tr><tr><td>&hellip;</td><td>&hellip;</td><td>&hellip;</td><td>&hellip;</td><td>&hellip;</td><td>&hellip;</td><td>&hellip;</td><td>&hellip;</td><td>&hellip;</td></tr><tr><td>252</td><td>[&quot;1741101&quot;]</td><td>[&quot;Oren Etzioni&quot;]</td><td>[&quot;9c3d46debd7d9f27133d19b668c89d23289a0ca5&quot;]</td><td>[&quot;Hypothesis Filtering: A Practical Approach to Reliable Learning&quot;]</td><td>[{&quot;&quot;,&quot;CLOSED&quot;,null,&quot;Notice: The following paper fields have been elided by the publisher: {&#x27;abstract&#x27;}. Paper or abstract available at https://api.unpaywall.org/v2/10.1016/B978-0-934613-64-4.50047-5?email=&lt;INSERT_YOUR_EMAIL&gt; or https://doi.org/10.1016/B978-0-934613-64-4.50047-5, which is subject to the license by the author or copyright owner provided with this content. Please go to the source to verify the license and copyright information for your use.&quot;}]</td><td>[null]</td><td>[&quot;1741101&quot;]</td><td>[&quot;Oren Etzioni&quot;]</td></tr><tr><td>253</td><td>[&quot;1741101&quot;, &quot;1741101&quot;, … &quot;1741101&quot;]</td><td>[&quot;Oren Etzioni&quot;, &quot;Oren Etzioni&quot;, … &quot;Oren Etzioni&quot;]</td><td>[&quot;5ed61e1c641e90d3bb6504a2512943928df4bb90&quot;, &quot;5ed61e1c641e90d3bb6504a2512943928df4bb90&quot;, … &quot;5ed61e1c641e90d3bb6504a2512943928df4bb90&quot;]</td><td>[&quot;Acquiring Effective Search Control Rules: Explanation-Based Learning in the PRODIGY System&quot;, &quot;Acquiring Effective Search Control Rules: Explanation-Based Learning in the PRODIGY System&quot;, … &quot;Acquiring Effective Search Control Rules: Explanation-Based Learning in the PRODIGY System&quot;]</td><td>[{&quot;&quot;,&quot;CLOSED&quot;,null,&quot;Notice: The following paper fields have been elided by the publisher: {&#x27;abstract&#x27;}. Paper or abstract available at https://api.unpaywall.org/v2/10.1016/B978-0-934613-41-5.50016-7?email=&lt;INSERT_YOUR_EMAIL&gt; or https://doi.org/10.1016/B978-0-934613-41-5.50016-7, which is subject to the license by the author or copyright owner provided with this content. Please go to the source to verify the license and copyright information for your use.&quot;}, {&quot;&quot;,&quot;CLOSED&quot;,null,&quot;Notice: The following paper fields have been elided by the publisher: {&#x27;abstract&#x27;}. Paper or abstract available at https://api.unpaywall.org/v2/10.1016/B978-0-934613-41-5.50016-7?email=&lt;INSERT_YOUR_EMAIL&gt; or https://doi.org/10.1016/B978-0-934613-41-5.50016-7, which is subject to the license by the author or copyright owner provided with this content. Please go to the source to verify the license and copyright information for your use.&quot;}, … {&quot;&quot;,&quot;CLOSED&quot;,null,&quot;Notice: The following paper fields have been elided by the publisher: {&#x27;abstract&#x27;}. Paper or abstract available at https://api.unpaywall.org/v2/10.1016/B978-0-934613-41-5.50016-7?email=&lt;INSERT_YOUR_EMAIL&gt; or https://doi.org/10.1016/B978-0-934613-41-5.50016-7, which is subject to the license by the author or copyright owner provided with this content. Please go to the source to verify the license and copyright information for your use.&quot;}]</td><td>[null, null, … null]</td><td>[&quot;145293454&quot;, &quot;143712374&quot;, … &quot;2796674&quot;]</td><td>[&quot;Steven Minton&quot;, &quot;J. Carbonell&quot;, … &quot;D. Kuokka&quot;]</td></tr><tr><td>254</td><td>[&quot;1741101&quot;, &quot;1741101&quot;, … &quot;1741101&quot;]</td><td>[&quot;Oren Etzioni&quot;, &quot;Oren Etzioni&quot;, … &quot;Oren Etzioni&quot;]</td><td>[&quot;4cff70adf24e70a2dc88e1c3eedc649a77a65b67&quot;, &quot;4cff70adf24e70a2dc88e1c3eedc649a77a65b67&quot;, … &quot;4cff70adf24e70a2dc88e1c3eedc649a77a65b67&quot;]</td><td>[&quot;Explanation-based Learning:a Problem Solving Perspective. Learning Hierarchically Clustered Shared Plan Abstractions as Problem Solving Knowledge with High Utility for Planning. in A. Horz, Editor, Proceed- Ings of Gi-workshop on &#x27;planung Und Konngurierung&#x27; Puk, Number 723 in Arbeitspa- 6.2 Related &quot;, &quot;Explanation-based Learning:a Problem Solving Perspective. Learning Hierarchically Clustered Shared Plan Abstractions as Problem Solving Knowledge with High Utility for Planning. in A. Horz, Editor, Proceed- Ings of Gi-workshop on &#x27;planung Und Konngurierung&#x27; Puk, Number 723 in Arbeitspa- 6.2 Related &quot;, … &quot;Explanation-based Learning:a Problem Solving Perspective. Learning Hierarchically Clustered Shared Plan Abstractions as Problem Solving Knowledge with High Utility for Planning. in A. Horz, Editor, Proceed- Ings of Gi-workshop on &#x27;planung Und Konngurierung&#x27; Puk, Number 723 in Arbeitspa- 6.2 Related &quot;]</td><td>[{&quot;&quot;,null,null,null}, {&quot;&quot;,null,null,null}, … {&quot;&quot;,null,null,null}]</td><td>[null, null, … null]</td><td>[&quot;69388632&quot;, &quot;143712374&quot;, … &quot;2080886959&quot;]</td><td>[&quot;S. Minton&quot;, &quot;J. Carbonell&quot;, … &quot;Cecos&quot;]</td></tr><tr><td>255</td><td>[&quot;1741101&quot;, &quot;1741101&quot;]</td><td>[&quot;Oren Etzioni&quot;, &quot;Oren Etzioni&quot;]</td><td>[&quot;aa76c4ae41add6ed34496f5882545573fd6bda4c&quot;, &quot;aa76c4ae41add6ed34496f5882545573fd6bda4c&quot;]</td><td>[&quot;2 Extracting Product Features and Opinions from Reviews&quot;, &quot;2 Extracting Product Features and Opinions from Reviews&quot;]</td><td>[{&quot;&quot;,null,null,null}, {&quot;&quot;,null,null,null}]</td><td>[null, null]</td><td>[&quot;41192561&quot;, &quot;1741101&quot;]</td><td>[&quot;A. Popescu&quot;, &quot;Oren Etzioni&quot;]</td></tr><tr><td>256</td><td>[&quot;1741101&quot;]</td><td>[&quot;Oren Etzioni&quot;]</td><td>[&quot;e49901a69f7724cee2733d00e7b1ee9d88b4655b&quot;]</td><td>[&quot;Static Ace&quot;]</td><td>[{&quot;&quot;,null,null,null}]</td><td>[null]</td><td>[&quot;1741101&quot;]</td><td>[&quot;Oren Etzioni&quot;]</td></tr></tbody></table></div>"
      ]
     },
     "execution_count": 97,
     "metadata": {},
     "output_type": "execute_result"
    }
   ],
   "execution_count": 97
  },
  {
   "metadata": {
    "ExecuteTime": {
     "end_time": "2025-08-31T03:47:46.023030Z",
     "start_time": "2025-08-31T03:47:46.020408Z"
    }
   },
   "cell_type": "code",
   "source": "df['authors']",
   "id": "a95337ec9b0fbc68",
   "outputs": [
    {
     "data": {
      "text/plain": [
       "shape: (1_165,)\n",
       "Series: 'authors' [struct[2]]\n",
       "[\n",
       "\t{\"143967880\",\"Rodney Michael Kinney\"}\n",
       "\t{\"1667818755\",\"Chloe Anastasiades\"}\n",
       "\t{\"2202417686\",\"Russell Authur\"}\n",
       "\t{\"46181066\",\"Iz Beltagy\"}\n",
       "\t{\"2699105\",\"Jonathan Bragg\"}\n",
       "\t…\n",
       "\t{\"2766514\",\"F. Schmalhofer\"}\n",
       "\t{\"2080886959\",\"Cecos\"}\n",
       "\t{\"41192561\",\"A. Popescu\"}\n",
       "\t{\"1741101\",\"Oren Etzioni\"}\n",
       "\t{\"1741101\",\"Oren Etzioni\"}\n",
       "]"
      ],
      "text/html": [
       "<div><style>\n",
       ".dataframe > thead > tr,\n",
       ".dataframe > tbody > tr {\n",
       "  text-align: right;\n",
       "  white-space: pre-wrap;\n",
       "}\n",
       "</style>\n",
       "<small>shape: (1_165,)</small><table border=\"1\" class=\"dataframe\"><thead><tr><th>authors</th></tr><tr><td>struct[2]</td></tr></thead><tbody><tr><td>{&quot;143967880&quot;,&quot;Rodney Michael Kinney&quot;}</td></tr><tr><td>{&quot;1667818755&quot;,&quot;Chloe Anastasiades&quot;}</td></tr><tr><td>{&quot;2202417686&quot;,&quot;Russell Authur&quot;}</td></tr><tr><td>{&quot;46181066&quot;,&quot;Iz Beltagy&quot;}</td></tr><tr><td>{&quot;2699105&quot;,&quot;Jonathan Bragg&quot;}</td></tr><tr><td>&hellip;</td></tr><tr><td>{&quot;2766514&quot;,&quot;F. Schmalhofer&quot;}</td></tr><tr><td>{&quot;2080886959&quot;,&quot;Cecos&quot;}</td></tr><tr><td>{&quot;41192561&quot;,&quot;A. Popescu&quot;}</td></tr><tr><td>{&quot;1741101&quot;,&quot;Oren Etzioni&quot;}</td></tr><tr><td>{&quot;1741101&quot;,&quot;Oren Etzioni&quot;}</td></tr></tbody></table></div>"
      ]
     },
     "execution_count": 87,
     "metadata": {},
     "output_type": "execute_result"
    }
   ],
   "execution_count": 87
  },
  {
   "metadata": {
    "ExecuteTime": {
     "end_time": "2025-08-31T03:04:46.730165Z",
     "start_time": "2025-08-31T03:04:46.496864Z"
    }
   },
   "cell_type": "code",
   "source": [
    "import requests\n",
    "import json\n",
    "import os\n",
    "\n",
    "\n",
    "# Set the fields as a query parameter\n",
    "params = {\n",
    "    \"fields\": \"referenceCount,citationCount,title\"\n",
    "}\n",
    "\n",
    "# Make the POST request with headers and params\n",
    "r = requests.post(\n",
    "    'https://api.semanticscholar.org/graph/v1/paper/batch',\n",
    "    params=params,\n",
    "    json={\n",
    "        \"ids\": [\"649def34f8be52c8b66281af98ae884c09aef38b\", \"ARXIV:2106.15928\"]\n",
    "    }\n",
    ")\n",
    "\n",
    "# Check if the request was successful\n",
    "if r.status_code == 200:\n",
    "    print(json.dumps(r.json(), indent=2))\n",
    "else:\n",
    "    print(f\"Error: {r.status_code}\")\n",
    "    print(json.dumps(r.json(), indent=2))"
   ],
   "id": "26dd6d01ee342eaf",
   "outputs": [
    {
     "name": "stdout",
     "output_type": "stream",
     "text": [
      "[\n",
      "  {\n",
      "    \"paperId\": \"649def34f8be52c8b66281af98ae884c09aef38b\",\n",
      "    \"title\": \"Construction of the Literature Graph in Semantic Scholar\",\n",
      "    \"referenceCount\": 26,\n",
      "    \"citationCount\": 403\n",
      "  },\n",
      "  {\n",
      "    \"paperId\": \"f712fab0d58ae6492e3cdfc1933dae103ec12d5d\",\n",
      "    \"title\": \"Reinfection and low cross-immunity as drivers of epidemic resurgence under high seroprevalence: a model-based approach with application to Amazonas, Brazil\",\n",
      "    \"referenceCount\": 13,\n",
      "    \"citationCount\": 0\n",
      "  }\n",
      "]\n"
     ]
    }
   ],
   "execution_count": 12
  },
  {
   "metadata": {
    "ExecuteTime": {
     "end_time": "2025-08-31T05:30:42.244428Z",
     "start_time": "2025-08-31T05:30:42.240396Z"
    }
   },
   "cell_type": "code",
   "source": "import docling",
   "id": "1cedfdd83f55b8e7",
   "outputs": [],
   "execution_count": 1
  }
 ],
 "metadata": {
  "kernelspec": {
   "display_name": "Python 3",
   "language": "python",
   "name": "python3"
  },
  "language_info": {
   "codemirror_mode": {
    "name": "ipython",
    "version": 2
   },
   "file_extension": ".py",
   "mimetype": "text/x-python",
   "name": "python",
   "nbconvert_exporter": "python",
   "pygments_lexer": "ipython2",
   "version": "2.7.6"
  }
 },
 "nbformat": 4,
 "nbformat_minor": 5
}
