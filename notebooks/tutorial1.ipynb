{
 "cells": [
  {
   "cell_type": "code",
   "id": "initial_id",
   "metadata": {
    "collapsed": true,
    "ExecuteTime": {
     "end_time": "2025-08-19T05:31:55.984753Z",
     "start_time": "2025-08-19T05:31:54.656009Z"
    }
   },
   "source": [
    "import pandas as pd\n",
    "import polars as pl\n",
    "import duckdb as dbu\n",
    "from pathlib import Path\n",
    "import matplotlib.pyplot as plt"
   ],
   "outputs": [],
   "execution_count": 1
  },
  {
   "metadata": {
    "ExecuteTime": {
     "end_time": "2025-08-19T05:44:57.551364Z",
     "start_time": "2025-08-19T05:44:57.545838Z"
    }
   },
   "cell_type": "code",
   "source": [
    "# -*- coding: utf-8 -*-\n",
    "\"\"\"\n",
    "Created on Mon Aug  2 13:17:07 2021\n",
    "\n",
    "CZ4124 Data Visualisation (Tutorial 1 Template)\n",
    "@author: Put your name here\n",
    "\n",
    "\"\"\"\n",
    "\n",
    "PlotWithPandas = True  # you can plot either with Pandas or Matplotlib\n",
    "#---------------------------------------------------------------------\n",
    "# Read in Daily Temperature datafile into dataframe Temp\n",
    "#---------------------------------------------------------------------\n",
    "t1_location : Path = Path(r'/Users/joeqh/Library/CloudStorage/OneDrive-NanyangTechnologicalUniversity/Academics/Sem 7/SC4024/Tutorials/tutorial_1')\n",
    "daily_temp_path :Path = t1_location / 'Daily_Temperature.csv'\n",
    "temp1_path :Path = t1_location / 'Temp_Week_1.csv'\n",
    "temp2_path :Path = t1_location / 'Temp_Week_2.csv'\n",
    "\n",
    "daily_temp_df :pl.DataFrame = pl.read_csv(daily_temp_path)\n",
    "temp_w1_df :pl.DataFrame = pl.read_csv(temp1_path)\n",
    "temp_w2_df :pl.DataFrame = pl.read_csv(temp2_path)"
   ],
   "id": "fb7766242ad76a44",
   "outputs": [],
   "execution_count": 24
  },
  {
   "metadata": {
    "ExecuteTime": {
     "end_time": "2025-08-19T05:39:49.814323Z",
     "start_time": "2025-08-19T05:39:49.807251Z"
    }
   },
   "cell_type": "code",
   "source": "daily_temp_df",
   "id": "85eb21a3aa1e9fbd",
   "outputs": [
    {
     "data": {
      "text/plain": [
       "     Name   Mon   Tue   Wed   Thu   Fri   Sat   Sun\n",
       "0    John  36.5  36.8  36.4  35.8  36.0  36.5  35.8\n",
       "1   Ahmad  36.5  36.6  36.7  36.8  36.6  36.7  36.8\n",
       "2   Ginny  35.5  36.0  36.2  37.0  37.5  37.0  38.3\n",
       "3  Manish  37.5  37.0  36.5  37.3  36.6  36.5  36.0"
      ],
      "text/html": [
       "<div>\n",
       "<style scoped>\n",
       "    .dataframe tbody tr th:only-of-type {\n",
       "        vertical-align: middle;\n",
       "    }\n",
       "\n",
       "    .dataframe tbody tr th {\n",
       "        vertical-align: top;\n",
       "    }\n",
       "\n",
       "    .dataframe thead th {\n",
       "        text-align: right;\n",
       "    }\n",
       "</style>\n",
       "<table border=\"1\" class=\"dataframe\">\n",
       "  <thead>\n",
       "    <tr style=\"text-align: right;\">\n",
       "      <th></th>\n",
       "      <th>Name</th>\n",
       "      <th>Mon</th>\n",
       "      <th>Tue</th>\n",
       "      <th>Wed</th>\n",
       "      <th>Thu</th>\n",
       "      <th>Fri</th>\n",
       "      <th>Sat</th>\n",
       "      <th>Sun</th>\n",
       "    </tr>\n",
       "  </thead>\n",
       "  <tbody>\n",
       "    <tr>\n",
       "      <th>0</th>\n",
       "      <td>John</td>\n",
       "      <td>36.5</td>\n",
       "      <td>36.8</td>\n",
       "      <td>36.4</td>\n",
       "      <td>35.8</td>\n",
       "      <td>36.0</td>\n",
       "      <td>36.5</td>\n",
       "      <td>35.8</td>\n",
       "    </tr>\n",
       "    <tr>\n",
       "      <th>1</th>\n",
       "      <td>Ahmad</td>\n",
       "      <td>36.5</td>\n",
       "      <td>36.6</td>\n",
       "      <td>36.7</td>\n",
       "      <td>36.8</td>\n",
       "      <td>36.6</td>\n",
       "      <td>36.7</td>\n",
       "      <td>36.8</td>\n",
       "    </tr>\n",
       "    <tr>\n",
       "      <th>2</th>\n",
       "      <td>Ginny</td>\n",
       "      <td>35.5</td>\n",
       "      <td>36.0</td>\n",
       "      <td>36.2</td>\n",
       "      <td>37.0</td>\n",
       "      <td>37.5</td>\n",
       "      <td>37.0</td>\n",
       "      <td>38.3</td>\n",
       "    </tr>\n",
       "    <tr>\n",
       "      <th>3</th>\n",
       "      <td>Manish</td>\n",
       "      <td>37.5</td>\n",
       "      <td>37.0</td>\n",
       "      <td>36.5</td>\n",
       "      <td>37.3</td>\n",
       "      <td>36.6</td>\n",
       "      <td>36.5</td>\n",
       "      <td>36.0</td>\n",
       "    </tr>\n",
       "  </tbody>\n",
       "</table>\n",
       "</div>"
      ]
     },
     "execution_count": 13,
     "metadata": {},
     "output_type": "execute_result"
    }
   ],
   "execution_count": 13
  },
  {
   "metadata": {
    "ExecuteTime": {
     "end_time": "2025-08-19T05:49:23.662670Z",
     "start_time": "2025-08-19T05:49:23.658662Z"
    }
   },
   "cell_type": "code",
   "source": "daily_temp_df.unpivot()",
   "id": "9728a814d9f33e88",
   "outputs": [
    {
     "data": {
      "text/plain": [
       "shape: (32, 2)\n",
       "┌──────────┬────────┐\n",
       "│ variable ┆ value  │\n",
       "│ ---      ┆ ---    │\n",
       "│ str      ┆ str    │\n",
       "╞══════════╪════════╡\n",
       "│ Name     ┆ John   │\n",
       "│ Name     ┆ Ahmad  │\n",
       "│ Name     ┆ Ginny  │\n",
       "│ Name     ┆ Manish │\n",
       "│ Mon      ┆ 36.5   │\n",
       "│ …        ┆ …      │\n",
       "│ Sat      ┆ 36.5   │\n",
       "│ Sun      ┆ 35.8   │\n",
       "│ Sun      ┆ 36.8   │\n",
       "│ Sun      ┆ 38.3   │\n",
       "│ Sun      ┆ 36.0   │\n",
       "└──────────┴────────┘"
      ],
      "text/html": [
       "<div><style>\n",
       ".dataframe > thead > tr,\n",
       ".dataframe > tbody > tr {\n",
       "  text-align: right;\n",
       "  white-space: pre-wrap;\n",
       "}\n",
       "</style>\n",
       "<small>shape: (32, 2)</small><table border=\"1\" class=\"dataframe\"><thead><tr><th>variable</th><th>value</th></tr><tr><td>str</td><td>str</td></tr></thead><tbody><tr><td>&quot;Name&quot;</td><td>&quot;John&quot;</td></tr><tr><td>&quot;Name&quot;</td><td>&quot;Ahmad&quot;</td></tr><tr><td>&quot;Name&quot;</td><td>&quot;Ginny&quot;</td></tr><tr><td>&quot;Name&quot;</td><td>&quot;Manish&quot;</td></tr><tr><td>&quot;Mon&quot;</td><td>&quot;36.5&quot;</td></tr><tr><td>&hellip;</td><td>&hellip;</td></tr><tr><td>&quot;Sat&quot;</td><td>&quot;36.5&quot;</td></tr><tr><td>&quot;Sun&quot;</td><td>&quot;35.8&quot;</td></tr><tr><td>&quot;Sun&quot;</td><td>&quot;36.8&quot;</td></tr><tr><td>&quot;Sun&quot;</td><td>&quot;38.3&quot;</td></tr><tr><td>&quot;Sun&quot;</td><td>&quot;36.0&quot;</td></tr></tbody></table></div>"
      ]
     },
     "execution_count": 32,
     "metadata": {},
     "output_type": "execute_result"
    }
   ],
   "execution_count": 32
  },
  {
   "metadata": {},
   "cell_type": "code",
   "outputs": [],
   "execution_count": null,
   "source": [
    "#---------------------------------------------------------------------\n",
    "# Use MELT to covert to long form and apply column names\n",
    "#---------------------------------------------------------------------\n",
    "# put in your code here\n",
    "\n",
    "\n",
    "#---------------------------------------------------------------------\n",
    "# Use PIVOT to convert to wide form with Names in each column\n",
    "#---------------------------------------------------------------------\n",
    "# put in your code here\n",
    "\n",
    "\n",
    "#-------------------------------\n",
    "# Use Pandas to plot line chart\n",
    "#-------------------------------\n",
    "if(PlotWithPandas):\n",
    "    print('\\nPlotting with Pandas')\n",
    "    # put your Pandas plotting code here\n",
    "\n",
    "\n",
    "#----------------------------------\n",
    "# Use Matplotlib to plot line chart\n",
    "#----------------------------------\n",
    "else:\n",
    "    print('\\nPlotting with Matplotlib')\n",
    "    # Alternatively, you can do the plot using Matplotlib or\n",
    "    # any other Python plotting library"
   ],
   "id": "791e167bdc93999d"
  }
 ],
 "metadata": {
  "kernelspec": {
   "display_name": "Python 3",
   "language": "python",
   "name": "python3"
  },
  "language_info": {
   "codemirror_mode": {
    "name": "ipython",
    "version": 2
   },
   "file_extension": ".py",
   "mimetype": "text/x-python",
   "name": "python",
   "nbconvert_exporter": "python",
   "pygments_lexer": "ipython2",
   "version": "2.7.6"
  }
 },
 "nbformat": 4,
 "nbformat_minor": 5
}
