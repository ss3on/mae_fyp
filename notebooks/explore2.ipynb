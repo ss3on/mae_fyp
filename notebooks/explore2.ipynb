{
 "cells": [
  {
   "cell_type": "code",
   "id": "initial_id",
   "metadata": {
    "collapsed": true,
    "ExecuteTime": {
     "end_time": "2025-08-21T06:25:23.134202Z",
     "start_time": "2025-08-21T06:25:23.032038Z"
    }
   },
   "source": [
    "import polars as pl\n",
    "\n",
    "from src.file_handling import file_location\n",
    "from src.web_scraping import asme_digitial_jmd"
   ],
   "outputs": [],
   "execution_count": 1
  },
  {
   "metadata": {
    "ExecuteTime": {
     "end_time": "2025-08-21T06:25:35.166789Z",
     "start_time": "2025-08-21T06:25:23.231018Z"
    }
   },
   "cell_type": "code",
   "source": [
    "asme_path :file_location.FileLocation = file_location.FolderPathOfASME()\n",
    "asme_issues_paths = asme_path.asme_jmd_html_issues\n",
    "all_issues_infor_df :pl.DataFrame = asme_digitial_jmd.all_issues_in_folder_to_df(asme_issues_paths)"
   ],
   "id": "c5a5bb7621e09dd9",
   "outputs": [],
   "execution_count": 2
  },
  {
   "metadata": {
    "ExecuteTime": {
     "end_time": "2025-08-21T06:25:35.180829Z",
     "start_time": "2025-08-21T06:25:35.176565Z"
    }
   },
   "cell_type": "code",
   "source": "all_issues_infor_df",
   "id": "51affdc0fb88390c",
   "outputs": [
    {
     "data": {
      "text/plain": [
       "shape: (6_166, 11)\n",
       "┌────────────┬────────────┬────────────┬──────┬───┬────────────┬───────────┬───────────┬───────────┐\n",
       "│ title      ┆ authors    ┆ doi        ┆ year ┆ … ┆ article_ur ┆ pdf_url   ┆ topics    ┆ pdf_filen │\n",
       "│ ---        ┆ ---        ┆ ---        ┆ ---  ┆   ┆ l          ┆ ---       ┆ ---       ┆ ame       │\n",
       "│ str        ┆ str        ┆ str        ┆ str  ┆   ┆ ---        ┆ str       ┆ str       ┆ ---       │\n",
       "│            ┆            ┆            ┆      ┆   ┆ str        ┆           ┆           ┆ str       │\n",
       "╞════════════╪════════════╪════════════╪══════╪═══╪════════════╪═══════════╪═══════════╪═══════════╡\n",
       "│ Editorial  ┆ Charles W. ┆ https://do ┆ 1978 ┆ … ┆ https://as ┆ https://a ┆           ┆ 100_1_Edi │\n",
       "│            ┆ McLarnan   ┆ i.org/10.1 ┆      ┆   ┆ medigitalc ┆ smedigita ┆           ┆ torial.pd │\n",
       "│            ┆            ┆ 115/1.3453 ┆      ┆   ┆ ollection. ┆ lcollecti ┆           ┆ f         │\n",
       "│            ┆            ┆ …          ┆      ┆   ┆ …          ┆ on.…      ┆           ┆           │\n",
       "│ Fatigue    ┆ B. N. Leis ┆ https://do ┆ 1978 ┆ … ┆ https://as ┆ https://a ┆ Fatigue   ┆ 100_1_Fat │\n",
       "│ Life       ┆            ┆ i.org/10.1 ┆      ┆   ┆ medigitalc ┆ smedigita ┆ life;Fati ┆ igue Life │\n",
       "│ Prediction ┆            ┆ 115/1.3453 ┆      ┆   ┆ ollection. ┆ lcollecti ┆ gue;Fatig ┆ Predictio │\n",
       "│ of Com…    ┆            ┆ …          ┆      ┆   ┆ …          ┆ on.…      ┆ ue a…     ┆ n …       │\n",
       "│ Dynamic    ┆ G. S. A.   ┆ https://do ┆ 1978 ┆ … ┆ https://as ┆ https://a ┆ Design;Hi ┆ 100_1_Dyn │\n",
       "│ Severity   ┆ Shawki     ┆ i.org/10.1 ┆      ┆   ┆ medigitalc ┆ smedigita ┆ gh cycle  ┆ amic      │\n",
       "│ Criterion  ┆            ┆ 115/1.3453 ┆      ┆   ┆ ollection. ┆ lcollecti ┆ fatigue;S ┆ Severity  │\n",
       "│ for…       ┆            ┆ …          ┆      ┆   ┆ …          ┆ on.…      ┆ tre…      ┆ Criteri…  │\n",
       "│ Wear-Relat ┆ D. J.      ┆ https://do ┆ 1978 ┆ … ┆ https://as ┆ https://a ┆ Wear;Nitr ┆ 100_1_Wea │\n",
       "│ ed         ┆ Sturges;S. ┆ i.org/10.1 ┆      ┆   ┆ medigitalc ┆ smedigita ┆ iding;Com ┆ r-Related │\n",
       "│ Topography ┆ W.         ┆ 115/1.3453 ┆      ┆   ┆ ollection. ┆ lcollecti ┆ posite    ┆ Topograph │\n",
       "│ of Ion…    ┆ Martin;C.  ┆ …          ┆      ┆   ┆ …          ┆ on.…      ┆ mater…    ┆ y …       │\n",
       "│            ┆ …          ┆            ┆      ┆   ┆            ┆           ┆           ┆           │\n",
       "│ Simulation ┆ M.         ┆ https://do ┆ 1978 ┆ … ┆ https://as ┆ https://a ┆ Gears;Res ┆ 100_1_Sim │\n",
       "│ of         ┆ Benton;A.  ┆ i.org/10.1 ┆      ┆   ┆ medigitalc ┆ smedigita ┆ onance;Si ┆ ulation   │\n",
       "│ Resonances ┆ Seireg     ┆ 115/1.3453 ┆      ┆   ┆ ollection. ┆ lcollecti ┆ mulation; ┆ of Resona │\n",
       "│ and I…     ┆            ┆ …          ┆      ┆   ┆ …          ┆ on.…      ┆ Com…      ┆ nces…     │\n",
       "│ …          ┆ …          ┆ …          ┆ …    ┆ … ┆ …          ┆ …         ┆ …         ┆ …         │\n",
       "│ Product    ┆ Mohammad   ┆ https://do ┆ 2026 ┆ … ┆ https://as ┆ https://a ┆ Design;Sl ┆ 148_3_Pro │\n",
       "│ Dataset    ┆ Arjomandi  ┆ i.org/10.1 ┆      ┆   ┆ medigitalc ┆ smedigita ┆ eep       ┆ duct      │\n",
       "│ Platform:  ┆ Rad;Julian ┆ 115/1.4068 ┆      ┆   ┆ ollection. ┆ lcollecti ┆           ┆ Dataset   │\n",
       "│ Syst…      ┆ …          ┆ …          ┆      ┆   ┆ …          ┆ on.…      ┆           ┆ Platform… │\n",
       "│ Concept    ┆ Madhurima  ┆ https://do ┆ 2026 ┆ … ┆ https://as ┆ https://a ┆ Chain;Des ┆ 148_3_Con │\n",
       "│ Chaining   ┆ Das;Jessic ┆ i.org/10.1 ┆      ┆   ┆ medigitalc ┆ smedigita ┆ ign       ┆ cept      │\n",
       "│ Patterns   ┆ a          ┆ 115/1.4068 ┆      ┆   ┆ ollection. ┆ lcollecti ┆           ┆ Chaining  │\n",
       "│ Duri…      ┆ Meza;Chr…  ┆ …          ┆      ┆   ┆ …          ┆ on.…      ┆           ┆ Pattern…  │\n",
       "│ A Quasi-Op ┆ Sifan Chen ┆ https://do ┆ 2026 ┆ … ┆ https://as ┆ https://a ┆ Construct ┆ 148_3_A   │\n",
       "│ timal      ┆ ;Guoyue    ┆ i.org/10.1 ┆      ┆   ┆ medigitalc ┆ smedigita ┆ ion;Cutti ┆ Quasi-Opt │\n",
       "│ Shape      ┆ Luo;Yuan   ┆ 115/1.4068 ┆      ┆   ┆ ollection. ┆ lcollecti ┆ ng;Optimi ┆ imal      │\n",
       "│ Design M…  ┆ Kon…       ┆ …          ┆      ┆   ┆ …          ┆ on.…      ┆ zat…      ┆ Shape De… │\n",
       "│ Gradient-B ┆ Daniel Krs ┆ https://do ┆ 2026 ┆ … ┆ https://as ┆ https://a ┆ Design;Op ┆ 148_3_Gra │\n",
       "│ ased Optim ┆ ikapa;Il   ┆ i.org/10.1 ┆      ┆   ┆ medigitalc ┆ smedigita ┆ timizatio ┆ dient-Bas │\n",
       "│ ization    ┆ Yong Kim   ┆ 115/1.4068 ┆      ┆   ┆ ollection. ┆ lcollecti ┆ n;Packing ┆ ed Optimi │\n",
       "│ of…        ┆            ┆ …          ┆      ┆   ┆ …          ┆ on.…      ┆ (S…       ┆ zat…      │\n",
       "│ Exploring  ┆ Seth Pearl ┆ https://do ┆ 2026 ┆ … ┆ https://as ┆ https://a ┆ Design;St ┆ 148_3_Exp │\n",
       "│ the        ┆ ;Nicholas  ┆ i.org/10.1 ┆      ┆   ┆ medigitalc ┆ smedigita ┆ udents    ┆ loring    │\n",
       "│ Influence  ┆ A. Meisel  ┆ 115/1.4069 ┆      ┆   ┆ ollection. ┆ lcollecti ┆           ┆ the       │\n",
       "│ of Ref…    ┆            ┆ …          ┆      ┆   ┆ …          ┆ on.…      ┆           ┆ Influence │\n",
       "│            ┆            ┆            ┆      ┆   ┆            ┆           ┆           ┆ …         │\n",
       "└────────────┴────────────┴────────────┴──────┴───┴────────────┴───────────┴───────────┴───────────┘"
      ],
      "text/html": [
       "<div><style>\n",
       ".dataframe > thead > tr,\n",
       ".dataframe > tbody > tr {\n",
       "  text-align: right;\n",
       "  white-space: pre-wrap;\n",
       "}\n",
       "</style>\n",
       "<small>shape: (6_166, 11)</small><table border=\"1\" class=\"dataframe\"><thead><tr><th>title</th><th>authors</th><th>doi</th><th>year</th><th>month</th><th>volume</th><th>issue</th><th>article_url</th><th>pdf_url</th><th>topics</th><th>pdf_filename</th></tr><tr><td>str</td><td>str</td><td>str</td><td>str</td><td>str</td><td>str</td><td>str</td><td>str</td><td>str</td><td>str</td><td>str</td></tr></thead><tbody><tr><td>&quot;Editorial&quot;</td><td>&quot;Charles W. McLarnan&quot;</td><td>&quot;https://doi.org/10.1115/1.3453…</td><td>&quot;1978&quot;</td><td>&quot;January&quot;</td><td>&quot;100&quot;</td><td>&quot;1&quot;</td><td>&quot;https://asmedigitalcollection.…</td><td>&quot;https://asmedigitalcollection.…</td><td>&quot;&quot;</td><td>&quot;100_1_Editorial.pdf&quot;</td></tr><tr><td>&quot;Fatigue Life Prediction of Com…</td><td>&quot;B. N. Leis&quot;</td><td>&quot;https://doi.org/10.1115/1.3453…</td><td>&quot;1978&quot;</td><td>&quot;January&quot;</td><td>&quot;100&quot;</td><td>&quot;1&quot;</td><td>&quot;https://asmedigitalcollection.…</td><td>&quot;https://asmedigitalcollection.…</td><td>&quot;Fatigue life;Fatigue;Fatigue a…</td><td>&quot;100_1_Fatigue Life Prediction …</td></tr><tr><td>&quot;Dynamic Severity Criterion for…</td><td>&quot;G. S. A. Shawki&quot;</td><td>&quot;https://doi.org/10.1115/1.3453…</td><td>&quot;1978&quot;</td><td>&quot;January&quot;</td><td>&quot;100&quot;</td><td>&quot;1&quot;</td><td>&quot;https://asmedigitalcollection.…</td><td>&quot;https://asmedigitalcollection.…</td><td>&quot;Design;High cycle fatigue;Stre…</td><td>&quot;100_1_Dynamic Severity Criteri…</td></tr><tr><td>&quot;Wear-Related Topography of Ion…</td><td>&quot;D. J. Sturges;S. W. Martin;C. …</td><td>&quot;https://doi.org/10.1115/1.3453…</td><td>&quot;1978&quot;</td><td>&quot;January&quot;</td><td>&quot;100&quot;</td><td>&quot;1&quot;</td><td>&quot;https://asmedigitalcollection.…</td><td>&quot;https://asmedigitalcollection.…</td><td>&quot;Wear;Nitriding;Composite mater…</td><td>&quot;100_1_Wear-Related Topography …</td></tr><tr><td>&quot;Simulation of Resonances and I…</td><td>&quot;M. Benton;A. Seireg&quot;</td><td>&quot;https://doi.org/10.1115/1.3453…</td><td>&quot;1978&quot;</td><td>&quot;January&quot;</td><td>&quot;100&quot;</td><td>&quot;1&quot;</td><td>&quot;https://asmedigitalcollection.…</td><td>&quot;https://asmedigitalcollection.…</td><td>&quot;Gears;Resonance;Simulation;Com…</td><td>&quot;100_1_Simulation of Resonances…</td></tr><tr><td>&hellip;</td><td>&hellip;</td><td>&hellip;</td><td>&hellip;</td><td>&hellip;</td><td>&hellip;</td><td>&hellip;</td><td>&hellip;</td><td>&hellip;</td><td>&hellip;</td><td>&hellip;</td></tr><tr><td>&quot;Product Dataset Platform: Syst…</td><td>&quot;Mohammad Arjomandi Rad;Julian …</td><td>&quot;https://doi.org/10.1115/1.4068…</td><td>&quot;2026&quot;</td><td>&quot;March&quot;</td><td>&quot;148&quot;</td><td>&quot;3&quot;</td><td>&quot;https://asmedigitalcollection.…</td><td>&quot;https://asmedigitalcollection.…</td><td>&quot;Design;Sleep&quot;</td><td>&quot;148_3_Product Dataset Platform…</td></tr><tr><td>&quot;Concept Chaining Patterns Duri…</td><td>&quot;Madhurima Das;Jessica Meza;Chr…</td><td>&quot;https://doi.org/10.1115/1.4068…</td><td>&quot;2026&quot;</td><td>&quot;March&quot;</td><td>&quot;148&quot;</td><td>&quot;3&quot;</td><td>&quot;https://asmedigitalcollection.…</td><td>&quot;https://asmedigitalcollection.…</td><td>&quot;Chain;Design&quot;</td><td>&quot;148_3_Concept Chaining Pattern…</td></tr><tr><td>&quot;A Quasi-Optimal Shape Design M…</td><td>&quot;Sifan Chen;Guoyue Luo;Yuan Kon…</td><td>&quot;https://doi.org/10.1115/1.4068…</td><td>&quot;2026&quot;</td><td>&quot;March&quot;</td><td>&quot;148&quot;</td><td>&quot;3&quot;</td><td>&quot;https://asmedigitalcollection.…</td><td>&quot;https://asmedigitalcollection.…</td><td>&quot;Construction;Cutting;Optimizat…</td><td>&quot;148_3_A Quasi-Optimal Shape De…</td></tr><tr><td>&quot;Gradient-Based Optimization of…</td><td>&quot;Daniel Krsikapa;Il Yong Kim&quot;</td><td>&quot;https://doi.org/10.1115/1.4068…</td><td>&quot;2026&quot;</td><td>&quot;March&quot;</td><td>&quot;148&quot;</td><td>&quot;3&quot;</td><td>&quot;https://asmedigitalcollection.…</td><td>&quot;https://asmedigitalcollection.…</td><td>&quot;Design;Optimization;Packing (S…</td><td>&quot;148_3_Gradient-Based Optimizat…</td></tr><tr><td>&quot;Exploring the Influence of Ref…</td><td>&quot;Seth Pearl;Nicholas A. Meisel&quot;</td><td>&quot;https://doi.org/10.1115/1.4069…</td><td>&quot;2026&quot;</td><td>&quot;March&quot;</td><td>&quot;148&quot;</td><td>&quot;3&quot;</td><td>&quot;https://asmedigitalcollection.…</td><td>&quot;https://asmedigitalcollection.…</td><td>&quot;Design;Students&quot;</td><td>&quot;148_3_Exploring the Influence …</td></tr></tbody></table></div>"
      ]
     },
     "execution_count": 3,
     "metadata": {},
     "output_type": "execute_result"
    }
   ],
   "execution_count": 3
  },
  {
   "metadata": {
    "ExecuteTime": {
     "end_time": "2025-08-21T06:25:35.215638Z",
     "start_time": "2025-08-21T06:25:35.205891Z"
    }
   },
   "cell_type": "code",
   "source": [
    "def cluster_url_by_issue(\n",
    "        issues_dfs: pl.DataFrame\n",
    ")-> pl.DataFrame:\n",
    "    df :pl.DataFrame = issues_dfs.select('year','volume','issue').unique(maintain_order=True).with_row_index(name=\"index\", offset=0)\n",
    "    df = df.join(all_issues_infor_df, on=['year','volume','issue'])\n",
    "    df = df.with_columns(\n",
    "        (pl.col('pdf_url').str.split('.org').list.get(0) +\n",
    "        pl.lit('.org') + pl.lit('.remotexs.ntu.edu.sg') +\n",
    "         pl.col('pdf_url').str.split('.org').list.get(1)\n",
    "         ).alias('pdf_url_remotexs')\n",
    "    )\n",
    "    return df\n",
    "\n",
    "cluster_url_by_issue_df = cluster_url_by_issue(issues_dfs=all_issues_infor_df)\n",
    "test_pdf_urls = (cluster_url_by_issue_df[0]['pdf_url'][0], cluster_url_by_issue_df[0]['pdf_url_remotexs'][0])\n",
    "test_pdf_urls"
   ],
   "id": "1a82b4ea1483291f",
   "outputs": [
    {
     "data": {
      "text/plain": [
       "('https://asmedigitalcollection.asme.org/mechanicaldesign/article-pdf/100/1/1/5567254/1_1.pdf',\n",
       " 'https://asmedigitalcollection.asme.org.remotexs.ntu.edu.sg/mechanicaldesign/article-pdf/100/1/1/5567254/1_1.pdf')"
      ]
     },
     "execution_count": 4,
     "metadata": {},
     "output_type": "execute_result"
    }
   ],
   "execution_count": 4
  },
  {
   "metadata": {},
   "cell_type": "markdown",
   "source": "### request blocked by bot Detection",
   "id": "75b9830c5dc2ab8f"
  },
  {
   "metadata": {
    "ExecuteTime": {
     "end_time": "2025-08-21T06:26:05.188310Z",
     "start_time": "2025-08-21T06:26:04.575139Z"
    }
   },
   "cell_type": "code",
   "source": [
    "import requests\n",
    "import re\n",
    "from pathlib import Path\n",
    "\n",
    "r = requests.get('https://asmedigitalcollection.asme.org.remotexs.ntu.edu.sg/mechanicaldesign/article-pdf/doi/10.1115/1.2918913/5923895/071402_1.pdf')\n",
    "r"
   ],
   "id": "32ba844a79d428f",
   "outputs": [
    {
     "data": {
      "text/plain": [
       "<Response [403]>"
      ]
     },
     "execution_count": 8,
     "metadata": {},
     "output_type": "execute_result"
    }
   ],
   "execution_count": 8
  },
  {
   "metadata": {
    "ExecuteTime": {
     "end_time": "2025-08-21T06:47:26.682540Z",
     "start_time": "2025-08-21T06:47:26.607267Z"
    }
   },
   "cell_type": "code",
   "source": [
    "import webbrowser\n",
    "issues_numbers :list = cluster_url_by_issue_df['index'].unique().to_list()\n",
    "issues_numbers.reverse()\n",
    "\n",
    "\n",
    "def doi_to_filename(doi: str) -> str:\n",
    "    match = re.search(r'(10\\.\\d{4,9}/[-._;()/:A-Z0-9]+)', doi, re.IGNORECASE)\n",
    "    if not match:\n",
    "        raise ValueError(\"Invalid DOI format\")\n",
    "    doi_part = match.group(1)\n",
    "    filename_safe = \"DOI_\" + re.sub(r'[\\/:]', '_', doi_part)\n",
    "    return filename_safe\n",
    "\n",
    "def filename_to_doi(filename: str) -> str:\n",
    "    if not filename.startswith(\"DOI_\"):\n",
    "        raise ValueError(\"Invalid filename format\")\n",
    "\n",
    "    doi_safe = filename[len(\"DOI_\"):]\n",
    "\n",
    "    doi = re.sub(r'_', '/', doi_safe, count=1)\n",
    "    return \"https://doi.org/\" + doi\n",
    "\n",
    "for issue_no in issues_numbers:\n",
    "    issue_df = cluster_url_by_issue_df.filter(pl.col('index')==issue_no)\n",
    "    issue_no_pdf_urls :list = issue_df.select('pdf_url_remotexs').to_series().to_list()\n",
    "    issue_no_pdf_dois :list = issue_df.select('doi').to_series().to_list()\n",
    "    \"\"\"\n",
    "    for pdf_url in issue_no_pdf_urls:\n",
    "        webbrowser.open_new_tab(pdf_url)\n",
    "    break\n",
    "    \"\"\"\n",
    "    for doi_url in zip(issue_no_pdf_dois, issue_no_pdf_urls):\n",
    "        doi = doi_url[0]\n",
    "        doi_filename = doi_to_filename(doi)\n",
    "        url = doi_url[1]"
   ],
   "id": "1fd1d0107399f048",
   "outputs": [],
   "execution_count": 33
  },
  {
   "metadata": {
    "ExecuteTime": {
     "end_time": "2025-08-21T06:25:55.625248Z",
     "start_time": "2025-08-21T06:25:55.621848Z"
    }
   },
   "cell_type": "code",
   "source": [
    "\"\"\"\n",
    "test_pdf_urlclient_type :str = soup_article.select('span.article-client_type')[0].text.strip()\n",
    "title_paper :str = soup_article.select('title')[0].text.strip().split('|')[0].strip()\n",
    "author_full_names :str = ';'.join([name_html.text.strip() for name_html in soup_article.select('div.author-full-name')])\n",
    "author_affiliation :str = ';'.join([aff.text.strip() for aff in soup_article.select('div.author-affiliation > div.aff')])\n",
    "author_emails :str = ';'.join([email_html.text.strip() for email_html in soup_article.select('div.article-footnote > a[href]')])\n",
    "publish_date = dt.strptime(soup_article.select('span.publish-date-label')[0].text.strip().split(':')[1].strip(),'%B %d, %Y')\n",
    "abstract :str = soup_article.select('div.article-section-wrapper > section.abstract > p')[0].text.strip()\n",
    "issue_section :str = soup_article.select('div.content-metadata-tocSections > a[href]')[0].text.strip()\n",
    "keywords = ';'.join([keyword_html.text.strip() for keyword_html in soup_article.select('div.content-metadata-keywords > a[href]')])\n",
    "topics = ';'.join([topic_html.text.strip() for topic_html in soup_article.select('div.content-metadata-topics > a[href]')])\n",
    "content_sections :list = [section_html.text.strip() for section_html in soup_article.select('h2.section-title')]\n",
    "paragraphs_sections :list = []\n",
    "for section_paragraph in soup_article.select('h2.section-title + div'):\n",
    "    _section :list = []\n",
    "    for paragraph in section_paragraph.select('div > div > p'):\n",
    "        _section += [paragraph.text.strip()]\n",
    "    paragraphs_sections.append('\\n'.join(_section))\n",
    "article_content :list = [f'{header}:{paragraphs}' for header, paragraphs in zip(content_sections, paragraphs_sections)]\n",
    "\n",
    "acknowledgement :str = soup_article.select('h2.backacknowledgements-title + div')[0].text.strip()\n",
    "back_section_header :list = [header_html.text.strip() for header_html in soup_article.select('h2.backsection-title')]\n",
    "back_section_content :list = [content_html.text.strip() for content_html in soup_article.select('h2.backsection-title + div > div > p')]\n",
    "article_back_section :dict = {header:content for header,content in zip(back_section_header, back_section_content)}\n",
    "\n",
    "cited_article_columns :tuple = ('title', 'cited_authors','doi_links','source')\n",
    "cited_article_infor :dict = {col:[] for col in cited_article_columns}\n",
    "for ref in soup_article.select(\"div.ref-list\")[0].select('div.citation'):\n",
    "    ref_title, ref_authors, ref_doi, ref_source = None, None, None, None\n",
    "    if ref.select('div.article-title'): ref_title = ref.select('div.article-title')[0].text.strip()\n",
    "    if ref.select('span.person-group'): ref_authors = ref.select('span.person-group')[0].text.strip()\n",
    "    if ref.select('div.crossref-doi'): ref_doi = ref.select('div.crossref-doi a')[0]['href'].replace('dx.', '')\n",
    "    if ref.select('div.source'): ref_source = ref.select('div.source')[0].text.strip()\n",
    "    cited_article_infor['title'] += [ref_title]\n",
    "    cited_article_infor['cited_authors'] += [ref_authors]\n",
    "    cited_article_infor['doi_links'] += [ref_doi]\n",
    "    cited_article_infor['source'] += [ref_source]\n",
    "\n",
    "pl.DataFrame(cited_article_infor)\n",
    "\"\"\""
   ],
   "id": "42774c4b71a6d045",
   "outputs": [
    {
     "data": {
      "text/plain": [
       "'\\ntest_pdf_urlclient_type :str = soup_article.select(\\'span.article-client_type\\')[0].text.strip()\\ntitle_paper :str = soup_article.select(\\'title\\')[0].text.strip().split(\\'|\\')[0].strip()\\nauthor_full_names :str = \\';\\'.join([name_html.text.strip() for name_html in soup_article.select(\\'div.author-full-name\\')])\\nauthor_affiliation :str = \\';\\'.join([aff.text.strip() for aff in soup_article.select(\\'div.author-affiliation > div.aff\\')])\\nauthor_emails :str = \\';\\'.join([email_html.text.strip() for email_html in soup_article.select(\\'div.article-footnote > a[href]\\')])\\npublish_date = dt.strptime(soup_article.select(\\'span.publish-date-label\\')[0].text.strip().split(\\':\\')[1].strip(),\\'%B %d, %Y\\')\\nabstract :str = soup_article.select(\\'div.article-section-wrapper > section.abstract > p\\')[0].text.strip()\\nissue_section :str = soup_article.select(\\'div.content-metadata-tocSections > a[href]\\')[0].text.strip()\\nkeywords = \\';\\'.join([keyword_html.text.strip() for keyword_html in soup_article.select(\\'div.content-metadata-keywords > a[href]\\')])\\ntopics = \\';\\'.join([topic_html.text.strip() for topic_html in soup_article.select(\\'div.content-metadata-topics > a[href]\\')])\\ncontent_sections :list = [section_html.text.strip() for section_html in soup_article.select(\\'h2.section-title\\')]\\nparagraphs_sections :list = []\\nfor section_paragraph in soup_article.select(\\'h2.section-title + div\\'):\\n    _section :list = []\\n    for paragraph in section_paragraph.select(\\'div > div > p\\'):\\n        _section += [paragraph.text.strip()]\\n    paragraphs_sections.append(\\'\\n\\'.join(_section))\\narticle_content :list = [f\\'{header}:{paragraphs}\\' for header, paragraphs in zip(content_sections, paragraphs_sections)]\\n\\nacknowledgement :str = soup_article.select(\\'h2.backacknowledgements-title + div\\')[0].text.strip()\\nback_section_header :list = [header_html.text.strip() for header_html in soup_article.select(\\'h2.backsection-title\\')]\\nback_section_content :list = [content_html.text.strip() for content_html in soup_article.select(\\'h2.backsection-title + div > div > p\\')]\\narticle_back_section :dict = {header:content for header,content in zip(back_section_header, back_section_content)}\\n\\ncited_article_columns :tuple = (\\'title\\', \\'cited_authors\\',\\'doi_links\\',\\'source\\')\\ncited_article_infor :dict = {col:[] for col in cited_article_columns}\\nfor ref in soup_article.select(\"div.ref-list\")[0].select(\\'div.citation\\'):\\n    ref_title, ref_authors, ref_doi, ref_source = None, None, None, None\\n    if ref.select(\\'div.article-title\\'): ref_title = ref.select(\\'div.article-title\\')[0].text.strip()\\n    if ref.select(\\'span.person-group\\'): ref_authors = ref.select(\\'span.person-group\\')[0].text.strip()\\n    if ref.select(\\'div.crossref-doi\\'): ref_doi = ref.select(\\'div.crossref-doi a\\')[0][\\'href\\'].replace(\\'dx.\\', \\'\\')\\n    if ref.select(\\'div.source\\'): ref_source = ref.select(\\'div.source\\')[0].text.strip()\\n    cited_article_infor[\\'title\\'] += [ref_title]\\n    cited_article_infor[\\'cited_authors\\'] += [ref_authors]\\n    cited_article_infor[\\'doi_links\\'] += [ref_doi]\\n    cited_article_infor[\\'source\\'] += [ref_source]\\n\\npl.DataFrame(cited_article_infor)\\n'"
      ]
     },
     "execution_count": 7,
     "metadata": {},
     "output_type": "execute_result"
    }
   ],
   "execution_count": 7
  }
 ],
 "metadata": {
  "kernelspec": {
   "display_name": "Python 3",
   "language": "python",
   "name": "python3"
  },
  "language_info": {
   "codemirror_mode": {
    "name": "ipython",
    "version": 2
   },
   "file_extension": ".py",
   "mimetype": "text/x-python",
   "name": "python",
   "nbconvert_exporter": "python",
   "pygments_lexer": "ipython2",
   "version": "2.7.6"
  }
 },
 "nbformat": 4,
 "nbformat_minor": 5
}
