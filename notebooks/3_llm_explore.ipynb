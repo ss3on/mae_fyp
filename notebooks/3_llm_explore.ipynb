{
 "cells": [
  {
   "metadata": {},
   "cell_type": "markdown",
   "source": "### Import available metadata and joins infor scraped from html",
   "id": "a6497761924b46a1"
  },
  {
   "cell_type": "code",
   "id": "initial_id",
   "metadata": {
    "collapsed": true,
    "ExecuteTime": {
     "end_time": "2025-08-24T13:50:42.358071Z",
     "start_time": "2025-08-24T13:50:42.189695Z"
    }
   },
   "source": [
    "import polars as pl\n",
    "from pathlib import Path\n",
    "\n",
    "from src.file_handling import file_location\n",
    "\n",
    "folder_path = file_location.FileLocation()\n",
    "root_path = folder_path.root\n",
    "data_path = root_path.parent.parent / 'fyp' / 'data'\n",
    "\n",
    "asme_path = file_location.FolderPathOfASME(data_path)\n",
    "asme_html_issues_path = asme_path.asme_jmd_html_issues\n",
    "jmd_bare_paper_infor_path = asme_path.asme_jmd_pdf / 'jmd_papers_bare_infor.parquet'\n",
    "meta_data_2011_onwards_path = asme_path.asme_jmd_pdf / '2011_onwards_metadata.parquet'\n",
    "\n",
    "jmd_bare_paper_infor_df = pl.read_parquet(jmd_bare_paper_infor_path)\n",
    "metadata_2011_onwards_df = pl.read_parquet(meta_data_2011_onwards_path)\n",
    "initial_papers_2011_onwards_df = metadata_2011_onwards_df.join(jmd_bare_paper_infor_df, on='pdf_filename')\n",
    "initial_papers_2011_onwards_df"
   ],
   "outputs": [
    {
     "data": {
      "text/plain": [
       "shape: (743, 17)\n",
       "┌───────────┬───────────┬───────────┬───────────┬───┬───────────┬───────────┬───────────┬──────────┐\n",
       "│ pdf_filen ┆ subject   ┆ title     ┆ author    ┆ … ┆ article_u ┆ pdf_url   ┆ topics    ┆ pdf_url_ │\n",
       "│ ame       ┆ ---       ┆ ---       ┆ ---       ┆   ┆ rl        ┆ ---       ┆ ---       ┆ remotexs │\n",
       "│ ---       ┆ str       ┆ str       ┆ str       ┆   ┆ ---       ┆ str       ┆ str       ┆ ---      │\n",
       "│ str       ┆           ┆           ┆           ┆   ┆ str       ┆           ┆           ┆ str      │\n",
       "╞═══════════╪═══════════╪═══════════╪═══════════╪═══╪═══════════╪═══════════╪═══════════╪══════════╡\n",
       "│ 143_1_Inv ┆ Research  ┆ Investiga ┆ Guillermo ┆ … ┆ https://a ┆ https://a ┆ Design;En ┆ https:// │\n",
       "│ estigatio ┆ Paper     ┆ tion of   ┆ F. Diaz   ┆   ┆ smedigita ┆ smedigita ┆ gineering ┆ asmedigi │\n",
       "│ n of      ┆           ┆ Viability ┆ Lankenau, ┆   ┆ lcollecti ┆ lcollecti ┆ prototype ┆ talcolle │\n",
       "│ Viabili…  ┆           ┆ to …      ┆ Am…       ┆   ┆ on.…      ┆ on.…      ┆ s;…       ┆ ction.…  │\n",
       "│ 143_1_Usi ┆ Research  ┆ Using Tec ┆ Minho     ┆ … ┆ https://a ┆ https://a ┆ Design;Pe ┆ https:// │\n",
       "│ ng Techno ┆ Paper     ┆ hnologica ┆ Lee,      ┆   ┆ smedigita ┆ smedigita ┆ rformance ┆ asmedigi │\n",
       "│ logically ┆           ┆ lly       ┆ Dongwook  ┆   ┆ lcollecti ┆ lcollecti ┆ ;Preferen ┆ talcolle │\n",
       "│ Re…       ┆           ┆ Related … ┆ Hwang,    ┆   ┆ on.…      ┆ on.…      ┆ ces…      ┆ ction.…  │\n",
       "│           ┆           ┆           ┆ Yoo…      ┆   ┆           ┆           ┆           ┆          │\n",
       "│ 143_1_Gen ┆ Research  ┆ Generativ ┆ Long      ┆ … ┆ https://a ┆ https://a ┆ Design;Me ┆ https:// │\n",
       "│ erative   ┆ Paper     ┆ e Design  ┆ Jiang,    ┆   ┆ smedigita ┆ smedigita ┆ tamateria ┆ asmedigi │\n",
       "│ Design of ┆           ┆ of Bionic ┆ Xianfeng  ┆   ┆ lcollecti ┆ lcollecti ┆ ls;Optimi ┆ talcolle │\n",
       "│ Bio…      ┆           ┆ St…       ┆ David     ┆   ┆ on.…      ┆ on.…      ┆ zat…      ┆ ction.…  │\n",
       "│           ┆           ┆           ┆ Gu,…      ┆   ┆           ┆           ┆           ┆          │\n",
       "│ 143_1_How ┆ Research  ┆ How       ┆ Daniel    ┆ … ┆ https://a ┆ https://a ┆ Design;Un ┆ https:// │\n",
       "│ Uncertain ┆ Paper     ┆ Uncertain ┆ Hulse,    ┆   ┆ smedigita ┆ smedigita ┆ certainty ┆ asmedigi │\n",
       "│ Is Too    ┆           ┆ Is Too    ┆ Christoph ┆   ┆ lcollecti ┆ lcollecti ┆ ;Risk;Res ┆ talcolle │\n",
       "│ Unc…      ┆           ┆ Uncertain ┆ er Hoyl…  ┆   ┆ on.…      ┆ on.…      ┆ ili…      ┆ ction.…  │\n",
       "│           ┆           ┆ …         ┆           ┆   ┆           ┆           ┆           ┆          │\n",
       "│ 143_1_Par ┆ Research  ┆ Particle  ┆ Yao Chen, ┆ … ┆ https://a ┆ https://a ┆ Design;Op ┆ https:// │\n",
       "│ ticle     ┆ Paper     ┆ Swarm Opt ┆ Jiayi     ┆   ┆ smedigita ┆ smedigita ┆ timizatio ┆ asmedigi │\n",
       "│ Swarm Opt ┆           ┆ imization ┆ Yan, Jian ┆   ┆ lcollecti ┆ lcollecti ┆ n;Particl ┆ talcolle │\n",
       "│ imizat…   ┆           ┆ -Ba…      ┆ Feng…     ┆   ┆ on.…      ┆ on.…      ┆ e s…      ┆ ction.…  │\n",
       "│ …         ┆ …         ┆ …         ┆ …         ┆ … ┆ …         ┆ …         ┆ …         ┆ …        │\n",
       "│ 147_4_Adv ┆ Research  ┆ Advancing ┆ Mahtab    ┆ … ┆ https://a ┆ https://a ┆ Actuators ┆ https:// │\n",
       "│ ancing    ┆ Paper     ┆ Soft      ┆ Behzadfar ┆   ┆ smedigita ┆ smedigita ┆ ;Design;E ┆ asmedigi │\n",
       "│ Soft Robo ┆           ┆ Robotics: ┆ , Yue     ┆   ┆ lcollecti ┆ lcollecti ┆ nergy     ┆ talcolle │\n",
       "│ tics_…    ┆           ┆ A Hig…    ┆ Feng, Ki… ┆   ┆ on.…      ┆ on.…      ┆ effici…   ┆ ction.…  │\n",
       "│ 147_4_Imp ┆ Technical ┆ Importanc ┆ Seyoung   ┆ … ┆ https://a ┆ https://a ┆ Image seg ┆ https:// │\n",
       "│ ortance-I ┆ Brief     ┆ e-Induced ┆ Park,     ┆   ┆ smedigita ┆ smedigita ┆ mentation ┆ asmedigi │\n",
       "│ nduced    ┆           ┆ Customer  ┆ Yilan     ┆   ┆ lcollecti ┆ lcollecti ┆ ;Construc ┆ talcolle │\n",
       "│ Custo…    ┆           ┆ Se…       ┆ Jiang,    ┆   ┆ on.…      ┆ on.…      ┆ tio…      ┆ ction.…  │\n",
       "│           ┆           ┆           ┆ Har…      ┆   ┆           ┆           ┆           ┆          │\n",
       "│ 147_4_MSE ┆ Technical ┆ MSEval: A ┆ Yash      ┆ … ┆ https://a ┆ https://a ┆ Design    ┆ https:// │\n",
       "│ val_ A    ┆ Brief     ┆ Dataset   ┆ Patawari  ┆   ┆ smedigita ┆ smedigita ┆           ┆ asmedigi │\n",
       "│ Dataset   ┆           ┆ for       ┆ Jain,     ┆   ┆ lcollecti ┆ lcollecti ┆           ┆ talcolle │\n",
       "│ for Ma…   ┆           ┆ Material… ┆ Daniele   ┆   ┆ on.…      ┆ on.…      ┆           ┆ ction.…  │\n",
       "│           ┆           ┆           ┆ Gr…       ┆   ┆           ┆           ┆           ┆          │\n",
       "│ 147_4_Loo ┆ Technical ┆ Looking   ┆ Madison   ┆ … ┆ https://a ┆ https://a ┆ Design;St ┆ https:// │\n",
       "│ king      ┆ Brief     ┆ Beyond    ┆ Cass,     ┆   ┆ smedigita ┆ smedigita ┆ ress      ┆ asmedigi │\n",
       "│ Beyond    ┆           ┆ Self-Repo ┆ Rohan     ┆   ┆ lcollecti ┆ lcollecti ┆           ┆ talcolle │\n",
       "│ Self-Repo ┆           ┆ rted C…   ┆ Prabhu    ┆   ┆ on.…      ┆ on.…      ┆           ┆ ction.…  │\n",
       "│ …         ┆           ┆           ┆           ┆   ┆           ┆           ┆           ┆          │\n",
       "│ 147_4_HM- ┆ Technical ┆ HM-SYNC:  ┆ John      ┆ … ┆ https://a ┆ https://a ┆ Design;Ma ┆ https:// │\n",
       "│ SYNC_ A   ┆ Brief     ┆ A Multimo ┆ Martins,  ┆   ┆ smedigita ┆ smedigita ┆ chinery;M ┆ asmedigi │\n",
       "│ Multimoda ┆           ┆ dal       ┆ Cheyu     ┆   ┆ lcollecti ┆ lcollecti ┆ anufactur ┆ talcolle │\n",
       "│ l Da…     ┆           ┆ Dataset … ┆ Lin,      ┆   ┆ on.…      ┆ on.…      ┆ ing…      ┆ ction.…  │\n",
       "│           ┆           ┆           ┆ Kathe…    ┆   ┆           ┆           ┆           ┆          │\n",
       "└───────────┴───────────┴───────────┴───────────┴───┴───────────┴───────────┴───────────┴──────────┘"
      ],
      "text/html": [
       "<div><style>\n",
       ".dataframe > thead > tr,\n",
       ".dataframe > tbody > tr {\n",
       "  text-align: right;\n",
       "  white-space: pre-wrap;\n",
       "}\n",
       "</style>\n",
       "<small>shape: (743, 17)</small><table border=\"1\" class=\"dataframe\"><thead><tr><th>pdf_filename</th><th>subject</th><th>title</th><th>author</th><th>keywords</th><th>text</th><th>year</th><th>volume</th><th>issue</th><th>title_right</th><th>authors</th><th>doi</th><th>month</th><th>article_url</th><th>pdf_url</th><th>topics</th><th>pdf_url_remotexs</th></tr><tr><td>str</td><td>str</td><td>str</td><td>str</td><td>str</td><td>str</td><td>str</td><td>str</td><td>str</td><td>str</td><td>str</td><td>str</td><td>str</td><td>str</td><td>str</td><td>str</td><td>str</td></tr></thead><tbody><tr><td>&quot;143_1_Investigation of Viabili…</td><td>&quot;Research Paper&quot;</td><td>&quot;Investigation of Viability to …</td><td>&quot;Guillermo F. Diaz Lankenau, Am…</td><td>&quot;conceptual design; creativity …</td><td>&quot;Guillermo F. Diaz Lankenau1\n",
       "Gl…</td><td>&quot;2021&quot;</td><td>&quot;143&quot;</td><td>&quot;1&quot;</td><td>&quot;Investigation of Viability to …</td><td>&quot;Guillermo F. Diaz Lankenau;Amo…</td><td>&quot;https://doi.org/10.1115/1.4047…</td><td>&quot;January&quot;</td><td>&quot;https://asmedigitalcollection.…</td><td>&quot;https://asmedigitalcollection.…</td><td>&quot;Design;Engineering prototypes;…</td><td>&quot;https://asmedigitalcollection.…</td></tr><tr><td>&quot;143_1_Using Technologically Re…</td><td>&quot;Research Paper&quot;</td><td>&quot;Using Technologically Related …</td><td>&quot;Minho Lee, Dongwook Hwang, Yoo…</td><td>&quot;brainstorming; creativity; ide…</td><td>&quot;Minho Lee\n",
       "Department of Indust…</td><td>&quot;2021&quot;</td><td>&quot;143&quot;</td><td>&quot;1&quot;</td><td>&quot;Using Technologically Related …</td><td>&quot;Minho Lee;Dongwook Hwang;Yoonj…</td><td>&quot;https://doi.org/10.1115/1.4047…</td><td>&quot;January&quot;</td><td>&quot;https://asmedigitalcollection.…</td><td>&quot;https://asmedigitalcollection.…</td><td>&quot;Design;Performance;Preferences…</td><td>&quot;https://asmedigitalcollection.…</td></tr><tr><td>&quot;143_1_Generative Design of Bio…</td><td>&quot;Research Paper&quot;</td><td>&quot;Generative Design of Bionic St…</td><td>&quot;Long Jiang, Xianfeng David Gu,…</td><td>&quot;computational geometry; comput…</td><td>&quot;Long Jiang\n",
       "Department of Mecha…</td><td>&quot;2021&quot;</td><td>&quot;143&quot;</td><td>&quot;1&quot;</td><td>&quot;Generative Design of Bionic St…</td><td>&quot;Long Jiang;Xianfeng David Gu;S…</td><td>&quot;https://doi.org/10.1115/1.4047…</td><td>&quot;January&quot;</td><td>&quot;https://asmedigitalcollection.…</td><td>&quot;https://asmedigitalcollection.…</td><td>&quot;Design;Metamaterials;Optimizat…</td><td>&quot;https://asmedigitalcollection.…</td></tr><tr><td>&quot;143_1_How Uncertain Is Too Unc…</td><td>&quot;Research Paper&quot;</td><td>&quot;How Uncertain Is Too Uncertain…</td><td>&quot;Daniel Hulse, Christopher Hoyl…</td><td>&quot;functional reasoning; systems …</td><td>&quot;Daniel Hulse\n",
       "School of Mechani…</td><td>&quot;2021&quot;</td><td>&quot;143&quot;</td><td>&quot;1&quot;</td><td>&quot;How Uncertain Is Too Uncertain…</td><td>&quot;Daniel Hulse;Christopher Hoyle…</td><td>&quot;https://doi.org/10.1115/1.4047…</td><td>&quot;January&quot;</td><td>&quot;https://asmedigitalcollection.…</td><td>&quot;https://asmedigitalcollection.…</td><td>&quot;Design;Uncertainty;Risk;Resili…</td><td>&quot;https://asmedigitalcollection.…</td></tr><tr><td>&quot;143_1_Particle Swarm Optimizat…</td><td>&quot;Research Paper&quot;</td><td>&quot;Particle Swarm Optimization-Ba…</td><td>&quot;Yao Chen, Jiayi Yan, Jian Feng…</td><td>&quot;origami; flat-foldability; par…</td><td>&quot;Yao Chen1\n",
       "Associate Professor\n",
       "…</td><td>&quot;2021&quot;</td><td>&quot;143&quot;</td><td>&quot;1&quot;</td><td>&quot;Particle Swarm Optimization-Ba…</td><td>&quot;Yao Chen;Jiayi Yan;Jian Feng;P…</td><td>&quot;https://doi.org/10.1115/1.4047…</td><td>&quot;January&quot;</td><td>&quot;https://asmedigitalcollection.…</td><td>&quot;https://asmedigitalcollection.…</td><td>&quot;Design;Optimization;Particle s…</td><td>&quot;https://asmedigitalcollection.…</td></tr><tr><td>&hellip;</td><td>&hellip;</td><td>&hellip;</td><td>&hellip;</td><td>&hellip;</td><td>&hellip;</td><td>&hellip;</td><td>&hellip;</td><td>&hellip;</td><td>&hellip;</td><td>&hellip;</td><td>&hellip;</td><td>&hellip;</td><td>&hellip;</td><td>&hellip;</td><td>&hellip;</td><td>&hellip;</td></tr><tr><td>&quot;147_4_Advancing Soft Robotics_…</td><td>&quot;Research Paper&quot;</td><td>&quot;Advancing Soft Robotics: A Hig…</td><td>&quot;Mahtab Behzadfar, Yue Feng, Ki…</td><td>&quot;bio-inspired design; soft robo…</td><td>&quot;Mahtab Behzadfar\n",
       "School of Mec…</td><td>&quot;2025&quot;</td><td>&quot;147&quot;</td><td>&quot;4&quot;</td><td>&quot;Advancing Soft Robotics: A Hig…</td><td>&quot;Mahtab Behzadfar;Yue Feng;Ki-Y…</td><td>&quot;https://doi.org/10.1115/1.4068…</td><td>&quot;April&quot;</td><td>&quot;https://asmedigitalcollection.…</td><td>&quot;https://asmedigitalcollection.…</td><td>&quot;Actuators;Design;Energy effici…</td><td>&quot;https://asmedigitalcollection.…</td></tr><tr><td>&quot;147_4_Importance-Induced Custo…</td><td>&quot;Technical Brief&quot;</td><td>&quot;Importance-Induced Customer Se…</td><td>&quot;Seyoung Park, Yilan Jiang, Har…</td><td>&quot;text mining; customer networks…</td><td>&quot;Importance-Induced Customer\n",
       "Se…</td><td>&quot;2025&quot;</td><td>&quot;147&quot;</td><td>&quot;4&quot;</td><td>&quot;Importance-Induced Customer Se…</td><td>&quot;Seyoung Park;Yilan Jiang;Harri…</td><td>&quot;https://doi.org/10.1115/1.4066…</td><td>&quot;April&quot;</td><td>&quot;https://asmedigitalcollection.…</td><td>&quot;https://asmedigitalcollection.…</td><td>&quot;Image segmentation;Constructio…</td><td>&quot;https://asmedigitalcollection.…</td></tr><tr><td>&quot;147_4_MSEval_ A Dataset for Ma…</td><td>&quot;Technical Brief&quot;</td><td>&quot;MSEval: A Dataset for Material…</td><td>&quot;Yash Patawari Jain, Daniele Gr…</td><td>&quot;data-driven design; machine le…</td><td>&quot;MSEval: A Dataset for Material…</td><td>&quot;2025&quot;</td><td>&quot;147&quot;</td><td>&quot;4&quot;</td><td>&quot;MSEval: A Dataset for Material…</td><td>&quot;Yash Patawari Jain;Daniele Gra…</td><td>&quot;https://doi.org/10.1115/1.4067…</td><td>&quot;April&quot;</td><td>&quot;https://asmedigitalcollection.…</td><td>&quot;https://asmedigitalcollection.…</td><td>&quot;Design&quot;</td><td>&quot;https://asmedigitalcollection.…</td></tr><tr><td>&quot;147_4_Looking Beyond Self-Repo…</td><td>&quot;Technical Brief&quot;</td><td>&quot;Looking Beyond Self-Reported C…</td><td>&quot;Madison Cass, Rohan Prabhu&quot;</td><td>&quot;cognitive load; pupil diameter…</td><td>&quot;Looking Beyond Self-Reported\n",
       "C…</td><td>&quot;2025&quot;</td><td>&quot;147&quot;</td><td>&quot;4&quot;</td><td>&quot;Looking Beyond Self-Reported C…</td><td>&quot;Madison Cass;Rohan Prabhu&quot;</td><td>&quot;https://doi.org/10.1115/1.4067…</td><td>&quot;April&quot;</td><td>&quot;https://asmedigitalcollection.…</td><td>&quot;https://asmedigitalcollection.…</td><td>&quot;Design;Stress&quot;</td><td>&quot;https://asmedigitalcollection.…</td></tr><tr><td>&quot;147_4_HM-SYNC_ A Multimodal Da…</td><td>&quot;Technical Brief&quot;</td><td>&quot;HM-SYNC: A Multimodal Dataset …</td><td>&quot;John Martins, Cheyu Lin, Kathe…</td><td>&quot;advanced manufacturing; datase…</td><td>&quot;HM-SYNC: A Multimodal Dataset\n",
       "…</td><td>&quot;2025&quot;</td><td>&quot;147&quot;</td><td>&quot;4&quot;</td><td>&quot;HM-SYNC: A Multimodal Dataset …</td><td>&quot;John Martins;Cheyu Lin;Katheri…</td><td>&quot;https://doi.org/10.1115/1.4067…</td><td>&quot;April&quot;</td><td>&quot;https://asmedigitalcollection.…</td><td>&quot;https://asmedigitalcollection.…</td><td>&quot;Design;Machinery;Manufacturing…</td><td>&quot;https://asmedigitalcollection.…</td></tr></tbody></table></div>"
      ]
     },
     "execution_count": 1,
     "metadata": {},
     "output_type": "execute_result"
    }
   ],
   "execution_count": 1
  },
  {
   "metadata": {
    "ExecuteTime": {
     "end_time": "2025-08-24T13:50:43.477905Z",
     "start_time": "2025-08-24T13:50:42.380868Z"
    }
   },
   "cell_type": "code",
   "source": [
    "import torch\n",
    "print(torch.cuda.is_available())  # True if GPU is detected\n",
    "print(torch.cuda.device_count())  # Number of GPUs\n",
    "print(torch.cuda.get_device_name(0))  # Name of the first GPU"
   ],
   "id": "cb7a7b586cc60269",
   "outputs": [
    {
     "name": "stdout",
     "output_type": "stream",
     "text": [
      "True\n",
      "1\n",
      "NVIDIA GeForce RTX 5090\n"
     ]
    }
   ],
   "execution_count": 2
  },
  {
   "metadata": {
    "ExecuteTime": {
     "end_time": "2025-08-24T14:18:44.578541Z",
     "start_time": "2025-08-24T14:18:44.576401Z"
    }
   },
   "cell_type": "code",
   "source": "test_text = initial_papers_2011_onwards_df['text'][0]",
   "id": "b0df47be9eb583c4",
   "outputs": [],
   "execution_count": 16
  },
  {
   "metadata": {
    "ExecuteTime": {
     "end_time": "2025-08-24T14:01:42.745883Z",
     "start_time": "2025-08-24T14:01:42.743832Z"
    }
   },
   "cell_type": "code",
   "source": [
    "import os\n",
    "os.environ[\"HF_HOME\"] = r\"F:\\ai_playground\"\n",
    "os.environ[\"TRANSFORMERS_CACHE\"] = r\"F:\\ai_playground\"\n",
    "\n",
    "from langchain_huggingface import HuggingFacePipeline\n",
    "from langchain.prompts import PromptTemplate\n",
    "from langchain.chains import LLMChain\n",
    "from langchain.text_splitter import RecursiveCharacterTextSplitter\n",
    "from transformers import AutoModelForCausalLM, AutoTokenizer, pipeline\n",
    "import torch\n"
   ],
   "id": "bf28dda1397d34fc",
   "outputs": [],
   "execution_count": 15
  }
 ],
 "metadata": {
  "kernelspec": {
   "display_name": "Python 3",
   "language": "python",
   "name": "python3"
  },
  "language_info": {
   "codemirror_mode": {
    "name": "ipython",
    "version": 2
   },
   "file_extension": ".py",
   "mimetype": "text/x-python",
   "name": "python",
   "nbconvert_exporter": "python",
   "pygments_lexer": "ipython2",
   "version": "2.7.6"
  }
 },
 "nbformat": 4,
 "nbformat_minor": 5
}
