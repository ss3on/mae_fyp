{
 "cells": [
  {
   "cell_type": "code",
   "id": "initial_id",
   "metadata": {
    "collapsed": true
   },
   "source": [
    "import polars as pl\n",
    "import requests\n",
    "from pathlib import Path\n",
    "\n",
    "from src.file_handling import file_location\n",
    "from src.web_scraping import asme_digitial_jmd\n",
    "\n",
    "folder_path = file_location.FileLocation()\n",
    "root_path = folder_path.root\n",
    "data_path = root_path.parent.parent / 'fyp' / 'data'\n",
    "\n",
    "asme_path = file_location.FolderPathOfASME(data_path)\n",
    "asme_html_issues_path = asme_path.asme_jmd_html_issues\n",
    "jmd_bare_paper_infor_path = asme_path.asme_jmd_pdf / 'jmd_papers_bare_infor.parquet'"
   ],
   "outputs": [],
   "execution_count": null
  },
  {
   "metadata": {},
   "cell_type": "code",
   "source": [
    "if not jmd_bare_paper_infor_path.exists():\n",
    "    all_issues_infor_df :pl.DataFrame = asme_digitial_jmd.all_issues_in_folder_to_df(asme_html_issues_path)\n",
    "\n",
    "    def cluster_url_by_issue_remotexs(\n",
    "            issues_dfs: pl.DataFrame\n",
    "    )-> pl.DataFrame:\n",
    "        df :pl.DataFrame = issues_dfs.select('year','volume','issue').unique(maintain_order=True)\n",
    "        df = df.join(all_issues_infor_df, on=['year','volume','issue'])\n",
    "        df = df.with_columns(\n",
    "            (pl.col('pdf_url').str.split('.org').list.get(0) +\n",
    "            pl.lit('.org') + pl.lit('.remotexs.ntu.edu.sg') +\n",
    "             pl.col('pdf_url').str.split('.org').list.get(1)\n",
    "             ).alias('pdf_url_remotexs')\n",
    "        )\n",
    "        return df\n",
    "\n",
    "    cluster_url_by_issue_df = cluster_url_by_issue_remotexs(issues_dfs=all_issues_infor_df)\n",
    "    cluster_url_by_issue_df.write_parquet(jmd_bare_paper_infor_path)\n",
    "else:\n",
    "    cluster_url_by_issue_df = pl.read_parquet(jmd_bare_paper_infor_path)\n",
    "\n",
    "cluster_url_by_issue_df"
   ],
   "id": "c5a5bb7621e09dd9",
   "outputs": [],
   "execution_count": null
  },
  {
   "metadata": {},
   "cell_type": "markdown",
   "source": "### request blocked by bot Detection",
   "id": "75b9830c5dc2ab8f"
  },
  {
   "metadata": {},
   "cell_type": "code",
   "source": [
    "r = requests.get('https://asmedigitalcollection.asme.org.remotexs.ntu.edu.sg/mechanicaldesign/article-pdf/doi/10.1115/1.2918913/5923895/071402_1.pdf')\n",
    "r"
   ],
   "id": "32ba844a79d428f",
   "outputs": [],
   "execution_count": null
  },
  {
   "metadata": {},
   "cell_type": "code",
   "source": [
    "clustered_url_gte_2022_df = cluster_url_by_issue_df.filter(pl.col('year')>='2021')\n",
    "\n",
    "url_to_open_list = clustered_url_gte_2022_df['pdf_url_remotexs'].to_list()\n",
    "pdf_filename_list = clustered_url_gte_2022_df['pdf_filename'].to_list()\n",
    "pdf_folder :Path = asme_path.asme_jmd_pdf\n",
    "if not pdf_folder.exists():\n",
    "    pdf_folder.mkdir()\n",
    "pdf_save_paths_list = [pdf_folder / pdf_filename for pdf_filename in pdf_filename_list]\n",
    "test_pdf_url = url_to_open_list[0]"
   ],
   "id": "1a0a5a91a12aef61",
   "outputs": [],
   "execution_count": null
  },
  {
   "metadata": {},
   "cell_type": "code",
   "source": [
    "from selenium import webdriver\n",
    "\n",
    "\n",
    "# login to remotexs\n",
    "driver = webdriver.Chrome()\n",
    "driver.get(test_pdf_url)"
   ],
   "id": "258910d6a5ae523d",
   "outputs": [],
   "execution_count": null
  },
  {
   "metadata": {},
   "cell_type": "code",
   "source": [
    "for save_path, pdf_url in zip(pdf_save_paths_list, url_to_open_list):\n",
    "    if save_path.exists():\n",
    "        continue\n",
    "    driver.execute_script(f\"window.open('{pdf_url}', '_blank');\")\n",
    "    driver.switch_to.window(driver.window_handles[-1])\n",
    "\n",
    "    # Download original PDF with requests (session cookies preserved)\n",
    "    cookies = {c['name']: c['value'] for c in driver.get_cookies()}\n",
    "    r = requests.get(driver.current_url, cookies=cookies)\n",
    "    save_path.write_bytes(r.content)\n",
    "\n",
    "    driver.close()\n",
    "    driver.switch_to.window(driver.window_handles[0])\n"
   ],
   "id": "aeaba24e672a368b",
   "outputs": [],
   "execution_count": null
  },
  {
   "metadata": {},
   "cell_type": "code",
   "source": [
    "\"\"\"\n",
    "test_pdf_urlclient_type :str = soup_article.select('span.article-client_type')[0].text.strip()\n",
    "title_paper :str = soup_article.select('title')[0].text.strip().split('|')[0].strip()\n",
    "author_full_names :str = ';'.join([name_html.text.strip() for name_html in soup_article.select('div.author-full-name')])\n",
    "author_affiliation :str = ';'.join([aff.text.strip() for aff in soup_article.select('div.author-affiliation > div.aff')])\n",
    "author_emails :str = ';'.join([email_html.text.strip() for email_html in soup_article.select('div.article-footnote > a[href]')])\n",
    "publish_date = dt.strptime(soup_article.select('span.publish-date-label')[0].text.strip().split(':')[1].strip(),'%B %d, %Y')\n",
    "abstract :str = soup_article.select('div.article-section-wrapper > section.abstract > p')[0].text.strip()\n",
    "issue_section :str = soup_article.select('div.content-metadata-tocSections > a[href]')[0].text.strip()\n",
    "keywords = ';'.join([keyword_html.text.strip() for keyword_html in soup_article.select('div.content-metadata-keywords > a[href]')])\n",
    "topics = ';'.join([topic_html.text.strip() for topic_html in soup_article.select('div.content-metadata-topics > a[href]')])\n",
    "content_sections :list = [section_html.text.strip() for section_html in soup_article.select('h2.section-title')]\n",
    "paragraphs_sections :list = []\n",
    "for section_paragraph in soup_article.select('h2.section-title + div'):\n",
    "    _section :list = []\n",
    "    for paragraph in section_paragraph.select('div > div > p'):\n",
    "        _section += [paragraph.text.strip()]\n",
    "    paragraphs_sections.append('\\n'.join(_section))\n",
    "article_content :list = [f'{header}:{paragraphs}' for header, paragraphs in zip(content_sections, paragraphs_sections)]\n",
    "\n",
    "acknowledgement :str = soup_article.select('h2.backacknowledgements-title + div')[0].text.strip()\n",
    "back_section_header :list = [header_html.text.strip() for header_html in soup_article.select('h2.backsection-title')]\n",
    "back_section_content :list = [content_html.text.strip() for content_html in soup_article.select('h2.backsection-title + div > div > p')]\n",
    "article_back_section :dict = {header:content for header,content in zip(back_section_header, back_section_content)}\n",
    "\n",
    "cited_article_columns :tuple = ('title', 'cited_authors','doi_links','source')\n",
    "cited_article_infor :dict = {col:[] for col in cited_article_columns}\n",
    "for ref in soup_article.select(\"div.ref-list\")[0].select('div.citation'):\n",
    "    ref_title, ref_authors, ref_doi, ref_source = None, None, None, None\n",
    "    if ref.select('div.article-title'): ref_title = ref.select('div.article-title')[0].text.strip()\n",
    "    if ref.select('span.person-group'): ref_authors = ref.select('span.person-group')[0].text.strip()\n",
    "    if ref.select('div.crossref-doi'): ref_doi = ref.select('div.crossref-doi a')[0]['href'].replace('dx.', '')\n",
    "    if ref.select('div.source'): ref_source = ref.select('div.source')[0].text.strip()\n",
    "    cited_article_infor['title'] += [ref_title]\n",
    "    cited_article_infor['cited_authors'] += [ref_authors]\n",
    "    cited_article_infor['doi_links'] += [ref_doi]\n",
    "    cited_article_infor['source'] += [ref_source]\n",
    "\n",
    "pl.DataFrame(cited_article_infor)\n",
    "\"\"\""
   ],
   "id": "42774c4b71a6d045",
   "outputs": [],
   "execution_count": null
  }
 ],
 "metadata": {
  "kernelspec": {
   "display_name": "Python 3",
   "language": "python",
   "name": "python3"
  },
  "language_info": {
   "codemirror_mode": {
    "name": "ipython",
    "version": 2
   },
   "file_extension": ".py",
   "mimetype": "text/x-python",
   "name": "python",
   "nbconvert_exporter": "python",
   "pygments_lexer": "ipython2",
   "version": "2.7.6"
  }
 },
 "nbformat": 4,
 "nbformat_minor": 5
}
